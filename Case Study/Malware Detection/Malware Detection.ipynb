{
 "cells": [
  {
   "cell_type": "markdown",
   "metadata": {
    "colab_type": "text",
    "id": "h9464I-uxLiw"
   },
   "source": [
    "# Assignment"
   ]
  },
  {
   "cell_type": "markdown",
   "metadata": {
    "colab_type": "text",
    "id": "IvLvmewlxLix"
   },
   "source": [
    "<font face='georgia'>\n",
    "    \n",
    "   <h4><strong>What does tf-idf mean?</strong></h4>\n",
    "\n",
    "   <p>    \n",
    "Tf-idf stands for <em>term frequency-inverse document frequency</em>, and the tf-idf weight is a weight often used in information retrieval and text mining. This weight is a statistical measure used to evaluate how important a word is to a document in a collection or corpus. The importance increases proportionally to the number of times a word appears in the document but is offset by the frequency of the word in the corpus. Variations of the tf-idf weighting scheme are often used by search engines as a central tool in scoring and ranking a document's relevance given a user query.\n",
    "</p>\n",
    "    \n",
    "   <p>\n",
    "One of the simplest ranking functions is computed by summing the tf-idf for each query term; many more sophisticated ranking functions are variants of this simple model.\n",
    "</p>\n",
    "    \n",
    "   <p>\n",
    "Tf-idf can be successfully used for stop-words filtering in various subject fields including text summarization and classification.\n",
    "</p>\n",
    "    \n",
    "</font>"
   ]
  },
  {
   "cell_type": "markdown",
   "metadata": {
    "colab_type": "text",
    "id": "4XLaGFUMxLiy"
   },
   "source": [
    "<font face='georgia'>\n",
    "    <h4><strong>How to Compute:</strong></h4>\n",
    "\n",
    "Typically, the tf-idf weight is composed by two terms: the first computes the normalized Term Frequency (TF), aka. the number of times a word appears in a document, divided by the total number of words in that document; the second term is the Inverse Document Frequency (IDF), computed as the logarithm of the number of the documents in the corpus divided by the number of documents where the specific term appears.\n",
    "\n",
    " <ul>\n",
    "    <li>\n",
    "<strong>TF:</strong> Term Frequency, which measures how frequently a term occurs in a document. Since every document is different in length, it is possible that a term would appear much more times in long documents than shorter ones. Thus, the term frequency is often divided by the document length (aka. the total number of terms in the document) as a way of normalization: <br>\n",
    "\n",
    "$TF(t) = \\frac{\\text{Number of times term t appears in a document}}{\\text{Total number of terms in the document}}.$\n",
    "</li>\n",
    "<li>\n",
    "<strong>IDF:</strong> Inverse Document Frequency, which measures how important a term is. While computing TF, all terms are considered equally important. However it is known that certain terms, such as \"is\", \"of\", and \"that\", may appear a lot of times but have little importance. Thus we need to weigh down the frequent terms while scale up the rare ones, by computing the following: <br>\n",
    "\n",
    "$IDF(t) = \\log_{e}\\frac{\\text{Total  number of documents}} {\\text{Number of documents with term t in it}}.$\n",
    "for numerical stabiltiy we will be changing this formula little bit\n",
    "$IDF(t) = \\log_{e}\\frac{\\text{Total  number of documents}} {\\text{Number of documents with term t in it}+1}.$\n",
    "</li>\n",
    "</ul>\n",
    "\n",
    "<br>\n",
    "<h4><strong>Example</strong></h4>\n",
    "<p>\n",
    "\n",
    "Consider a document containing 100 words wherein the word cat appears 3 times. The term frequency (i.e., tf) for cat is then (3 / 100) = 0.03. Now, assume we have 10 million documents and the word cat appears in one thousand of these. Then, the inverse document frequency (i.e., idf) is calculated as log(10,000,000 / 1,000) = 4. Thus, the Tf-idf weight is the product of these quantities: 0.03 * 4 = 0.12.\n",
    "</p>\n",
    "</font>"
   ]
  },
  {
   "cell_type": "markdown",
   "metadata": {
    "colab_type": "text",
    "id": "dg2ooa4DxLiz"
   },
   "source": [
    "## Task-1"
   ]
  },
  {
   "cell_type": "markdown",
   "metadata": {
    "colab_type": "text",
    "id": "TAcTjhO8xLiz"
   },
   "source": [
    "<font face='georgia'>\n",
    "    <h4><strong>1. Build a TFIDF Vectorizer & compare its results with Sklearn:</strong></h4>\n",
    "\n",
    "<ul>\n",
    "    <li> As a part of this task you will be implementing TFIDF vectorizer on a collection of text documents.</li>\n",
    "    <br>\n",
    "    <li> You should compare the results of your own implementation of TFIDF vectorizer with that of sklearns implemenation TFIDF vectorizer.</li>\n",
    "    <br>\n",
    "    <li> Sklearn does few more tweaks in the implementation of its version of TFIDF vectorizer, so to replicate the exact results you would need to add following things to your custom implementation of tfidf vectorizer:\n",
    "       <ol>\n",
    "        <li> Sklearn has its vocabulary generated from idf sroted in alphabetical order</li>\n",
    "        <li> Sklearn formula of idf is different from the standard textbook formula. Here the constant <strong>\"1\"</strong> is added to the numerator and denominator of the idf as if an extra document was seen containing every term in the collection exactly once, which prevents zero divisions.\n",
    "            \n",
    " $IDF(t) = 1+\\log_{e}\\frac{1\\text{ }+\\text{ Total  number of documents in collection}} {1+\\text{Number of documents with term t in it}}.$\n",
    "        </li>\n",
    "        <li> Sklearn applies L2-normalization on its output matrix.</li>\n",
    "        <li> The final output of sklearn tfidf vectorizer is a sparse matrix.</li>\n",
    "    </ol>\n",
    "    <br>\n",
    "    <li>Steps to approach this task:\n",
    "    <ol>\n",
    "        <li> You would have to write both fit and transform methods for your custom implementation of tfidf vectorizer.</li>\n",
    "        <li> Print out the alphabetically sorted voacb after you fit your data and check if its the same as that of the feature names from sklearn tfidf vectorizer. </li>\n",
    "        <li> Print out the idf values from your implementation and check if its the same as that of sklearns tfidf vectorizer idf values. </li>\n",
    "        <li> Once you get your voacb and idf values to be same as that of sklearns implementation of tfidf vectorizer, proceed to the below steps. </li>\n",
    "        <li> Make sure the output of your implementation is a sparse matrix. Before generating the final output, you need to normalize your sparse matrix using L2 normalization. You can refer to this link https://scikit-learn.org/stable/modules/generated/sklearn.preprocessing.normalize.html </li>\n",
    "        <li> After completing the above steps, print the output of your custom implementation and compare it with sklearns implementation of tfidf vectorizer.</li>\n",
    "        <li> To check the output of a single document in your collection of documents,  you can convert the sparse matrix related only to that document into dense matrix and print it.</li>\n",
    "        </ol>\n",
    "    </li>\n",
    "    <br>\n",
    "   </ul>\n",
    "\n",
    "  <p> <font color=\"#e60000\"><strong>Note-1: </strong></font> All the necessary outputs of sklearns tfidf vectorizer have been provided as reference in this notebook, you can compare your outputs as mentioned in the above steps, with these outputs.<br>\n",
    "   <font color=\"#e60000\"><strong>Note-2: </strong></font> The output of your custom implementation and that of sklearns implementation would match only with the collection of document strings provided to you as reference in this notebook. It would not match for strings that contain capital letters or punctuations, etc, because sklearn version of tfidf vectorizer deals with such strings in a different way. To know further details about how sklearn tfidf vectorizer works with such string, you can always refer to its official documentation.<br>\n",
    "   <font color=\"#e60000\"><strong>Note-3: </strong></font> During this task, it would be helpful for you to debug the code you write with print statements wherever necessary. But when you are finally submitting the assignment, make sure your code is readable and try not to print things which are not part of this task.\n",
    "    </p>"
   ]
  },
  {
   "cell_type": "markdown",
   "metadata": {
    "colab_type": "text",
    "id": "OnV82tg1xLi0"
   },
   "source": [
    "### Corpus"
   ]
  },
  {
   "cell_type": "code",
   "execution_count": 1,
   "metadata": {
    "colab": {},
    "colab_type": "code",
    "id": "bUsYm9wjxLi1"
   },
   "outputs": [],
   "source": [
    "## SkLearn# Collection of string documents\n",
    "\n",
    "corpus = [\n",
    "     'this is the first document',\n",
    "     'this document is the second document',\n",
    "     'and this is the third one',\n",
    "     'is this the first document',\n",
    "]"
   ]
  },
  {
   "cell_type": "markdown",
   "metadata": {
    "colab_type": "text",
    "id": "eLwmFZfKxLi4"
   },
   "source": [
    "### SkLearn Implementation"
   ]
  },
  {
   "cell_type": "code",
   "execution_count": 2,
   "metadata": {
    "colab": {},
    "colab_type": "code",
    "id": "Np4dfQOkxLi4"
   },
   "outputs": [],
   "source": [
    "from sklearn.feature_extraction.text import TfidfVectorizer\n",
    "vectorizer = TfidfVectorizer()\n",
    "vectorizer.fit(corpus)\n",
    "skl_output = vectorizer.transform(corpus)"
   ]
  },
  {
   "cell_type": "code",
   "execution_count": 3,
   "metadata": {
    "colab": {},
    "colab_type": "code",
    "id": "-7Om8YpYxLi6",
    "outputId": "0a3bd0f5-4424-4400-944f-4482a80bd799"
   },
   "outputs": [
    {
     "name": "stdout",
     "output_type": "stream",
     "text": [
      "['and', 'document', 'first', 'is', 'one', 'second', 'the', 'third', 'this']\n"
     ]
    }
   ],
   "source": [
    "# sklearn feature names, they are sorted in alphabetic order by default.\n",
    "print(vectorizer.get_feature_names())"
   ]
  },
  {
   "cell_type": "code",
   "execution_count": 4,
   "metadata": {
    "colab": {},
    "colab_type": "code",
    "id": "dTKplK96xLi-",
    "outputId": "53722fa2-6756-4aa0-f179-37b578bb6890"
   },
   "outputs": [
    {
     "name": "stdout",
     "output_type": "stream",
     "text": [
      "[1.91629073 1.22314355 1.51082562 1.         1.91629073 1.91629073\n",
      " 1.         1.91629073 1.        ]\n"
     ]
    }
   ],
   "source": [
    "# Here we will print the sklearn tfidf vectorizer idf values after applying the fit method\n",
    "# After using the fit function on the corpus the vocab has 9 words in it, and each has its idf value.\n",
    "print(vectorizer.idf_)"
   ]
  },
  {
   "cell_type": "code",
   "execution_count": 5,
   "metadata": {
    "colab": {},
    "colab_type": "code",
    "id": "-CTiWHygxLjA",
    "outputId": "8d5a9cde-2c29-4afe-f7b4-1547e88dba4f"
   },
   "outputs": [
    {
     "data": {
      "text/plain": [
       "(4, 9)"
      ]
     },
     "execution_count": 5,
     "metadata": {},
     "output_type": "execute_result"
    }
   ],
   "source": [
    "# shape of sklearn tfidf vectorizer output after applying transform method.\n",
    "skl_output.shape"
   ]
  },
  {
   "cell_type": "code",
   "execution_count": 6,
   "metadata": {
    "colab": {},
    "colab_type": "code",
    "id": "bDKEpbA-xLjD",
    "outputId": "87dafd65-5313-443f-8c6e-1b05cc8c2543"
   },
   "outputs": [
    {
     "name": "stdout",
     "output_type": "stream",
     "text": [
      "  (0, 8)\t0.38408524091481483\n",
      "  (0, 6)\t0.38408524091481483\n",
      "  (0, 3)\t0.38408524091481483\n",
      "  (0, 2)\t0.5802858236844359\n",
      "  (0, 1)\t0.46979138557992045\n"
     ]
    }
   ],
   "source": [
    "# sklearn tfidf values for first line of the above corpus.\n",
    "# Here the output is a sparse matrix\n",
    "print(skl_output[0])"
   ]
  },
  {
   "cell_type": "code",
   "execution_count": 7,
   "metadata": {
    "colab": {},
    "colab_type": "code",
    "id": "3QWo34hexLjF",
    "outputId": "cdc04e08-989f-4bdc-dd7f-f1c82a9f90be"
   },
   "outputs": [
    {
     "name": "stdout",
     "output_type": "stream",
     "text": [
      "[[0.         0.46979139 0.58028582 0.38408524 0.         0.\n",
      "  0.38408524 0.         0.38408524]]\n"
     ]
    }
   ],
   "source": [
    "# sklearn tfidf values for first line of the above corpus.\n",
    "# To understand the output better, here we are converting the sparse output matrix to dense matrix and printing it.\n",
    "# Notice that this output is normalized using L2 normalization. sklearn does this by default.\n",
    "\n",
    "print(skl_output[0].toarray())"
   ]
  },
  {
   "cell_type": "markdown",
   "metadata": {
    "colab_type": "text",
    "id": "qfIwx5LzxLjI"
   },
   "source": [
    "### Your custom implementation"
   ]
  },
  {
   "cell_type": "code",
   "execution_count": 8,
   "metadata": {
    "colab": {},
    "colab_type": "code",
    "id": "HjuCcJwXxLjJ"
   },
   "outputs": [],
   "source": [
    "# Write your code here.\n",
    "# Make sure its well documented and readble with appropriate comments.\n",
    "# Compare your results with the above sklearn tfidf vectorizer\n",
    "# You are not supposed to use any other library apart from the ones given below\n",
    "\n",
    "from collections import Counter\n",
    "from tqdm import tqdm\n",
    "from scipy.sparse import csr_matrix\n",
    "import math\n",
    "import operator\n",
    "from sklearn.preprocessing import normalize\n",
    "import numpy"
   ]
  },
  {
   "cell_type": "code",
   "execution_count": 9,
   "metadata": {},
   "outputs": [],
   "source": [
    "\n",
    "#Function that returns the denominator value of the idf.\n",
    "#It returns a dict {t:freq} where t is each uique word in corpus and freq is the number of doc. that contain the word t.\n",
    "def idfDenom(corpus,sortedListUniqueWords):\n",
    "    #create a dict {t:0},ie, initialising the number of documents in which t appers with 0\n",
    "    idfDenominator = {word:0 for word in sortedListUniqueWords}\n",
    "    for document in corpus:\n",
    "        #generating all the uniue word in a document\n",
    "        setOfWordsInDoc = set(document.split(' '))\n",
    "        for word in setOfWordsInDoc:\n",
    "            #increamenting the number of doc. in which word t occurs by 1 if we find the word in doc.\n",
    "            if(len(word) < 2):\n",
    "                continue;\n",
    "            idfDenominator.update({word : idfDenominator.get(word)+1 })\n",
    "    return idfDenominator\n",
    "\n",
    "def Getidf(sortedListUniqueWords,idfDenominator,numOfDoc):\n",
    "    idf = []\n",
    "    #for all the words in vocab finding the idf using the above mentioned formula\n",
    "    for word in sortedListUniqueWords:\n",
    "        idf.append(1+math.log((1+numOfDoc)/(1+idfDenominator.get(word))))\n",
    "    return idf\n",
    "        \n",
    "\n",
    "def fit(corpus):\n",
    "    uniqueWordsFromCorpus = set();\n",
    "    numOfDoc = len(corpus);\n",
    "    if(isinstance(corpus,list)):\n",
    "        for document in corpus:\n",
    "            for word in document.split(' '):\n",
    "                #filtering the words whose len. is >= 2\n",
    "                if(len(word)>=2):\n",
    "                    uniqueWordsFromCorpus.add(word);\n",
    "        #creating a list of sorted all unique words in doc.\n",
    "        sortedListUniqueWords = sorted(list(uniqueWordsFromCorpus))\n",
    "        #assigning each unique word a dimension\n",
    "        uniqueWordsWithindexes = {value:index for index,value in enumerate(sortedListUniqueWords)}\n",
    "        #calling a function that calculates the denominator of idf for all words in vocab\n",
    "        idfDenominator = idfDenom(corpus,sortedListUniqueWords)\n",
    "        #calling the function that contains the idf values for all words in vocab\n",
    "        idf = Getidf(sortedListUniqueWords,idfDenominator,numOfDoc)\n",
    "    else:\n",
    "        print(\"please input a list\")\n",
    "    return sortedListUniqueWords,uniqueWordsWithindexes,idf;"
   ]
  },
  {
   "cell_type": "code",
   "execution_count": 10,
   "metadata": {},
   "outputs": [
    {
     "name": "stdout",
     "output_type": "stream",
     "text": [
      "['and', 'document', 'first', 'is', 'one', 'second', 'the', 'third', 'this']\n",
      "[1.916290731874155, 1.2231435513142097, 1.5108256237659907, 1.0, 1.916290731874155, 1.916290731874155, 1.0, 1.916290731874155, 1.0]\n"
     ]
    }
   ],
   "source": [
    "#sortedListUniqueWords = list of all words in vocab sorted in ascending order\n",
    "#uniqueWordsWithindexes = dictionary of all words with words as key and dimension as their values\n",
    "#idf = list of idf values for words in sortedListUniqueWords\n",
    "sortedListUniqueWords,uniqueWordsWithindexes,idf = fit(corpus)\n",
    "print(sortedListUniqueWords)\n",
    "print(idf)"
   ]
  },
  {
   "cell_type": "code",
   "execution_count": 11,
   "metadata": {},
   "outputs": [],
   "source": [
    "def transform(dataset,uniqueWordsWithindexes,idf):\n",
    "    row = []\n",
    "    column = []\n",
    "    values = []\n",
    "    if(isinstance(dataset,list)):\n",
    "        for docIndex,document in enumerate(dataset):\n",
    "            wordsWithFreqInDoc = dict(Counter(document.split(' ')))\n",
    "            numberOfWordsInDoc = len(document.split(' '))\n",
    "            for word,freq in wordsWithFreqInDoc.items():\n",
    "                word_index = uniqueWordsWithindexes.get(word,-1)\n",
    "                if(word_index != -1):\n",
    "                    row.append(docIndex);\n",
    "                    column.append(word_index);\n",
    "                    values.append((freq/numberOfWordsInDoc)*idf[word_index])\n",
    "        tfidf = csr_matrix((values, (row,column)), shape=(len(dataset),len(uniqueWordsWithindexes)))\n",
    "        return(normalize(tfidf,norm = 'l2'))\n",
    "    else:\n",
    "        print(\"Provide a List\")"
   ]
  },
  {
   "cell_type": "code",
   "execution_count": 12,
   "metadata": {
    "colab_type": "text",
    "id": "MMxBmVZExLjK"
   },
   "outputs": [
    {
     "name": "stdout",
     "output_type": "stream",
     "text": [
      "  (0, 1)\t0.4697913855799205\n",
      "  (0, 2)\t0.580285823684436\n",
      "  (0, 3)\t0.3840852409148149\n",
      "  (0, 6)\t0.3840852409148149\n",
      "  (0, 8)\t0.3840852409148149\n"
     ]
    }
   ],
   "source": [
    "tfidf=transform(corpus,uniqueWordsWithindexes,idf)\n",
    "print(tfidf[0])"
   ]
  },
  {
   "cell_type": "code",
   "execution_count": 13,
   "metadata": {},
   "outputs": [
    {
     "name": "stdout",
     "output_type": "stream",
     "text": [
      "[[0.         0.46979139 0.58028582 0.38408524 0.         0.\n",
      "  0.38408524 0.         0.38408524]]\n"
     ]
    }
   ],
   "source": [
    "print(tfidf[0].toarray())"
   ]
  },
  {
   "cell_type": "markdown",
   "metadata": {
    "colab_type": "text",
    "id": "51j_OtqAxLjL"
   },
   "source": [
    "<font face='georgia'>\n",
    "    <h4><strong>2. Implement max features functionality:</strong></h4>\n",
    "\n",
    "<ul>\n",
    "    <li> As a part of this task you have to modify your fit and transform functions so that your vocab will contain only 50 terms with top idf scores.</li>\n",
    "    <br>\n",
    "    <li>This task is similar to your previous task, just that here your vocabulary is limited to only top 50 features names based on their idf values. Basically your output will have exactly 50 columns and the number of rows will depend on the number of documents you have in your corpus.</li>\n",
    "    <br>\n",
    "    <li>Here you will be give a pickle file, with file name <strong>cleaned_strings</strong>. You would have to load the corpus from this file and use it as input to your tfidf vectorizer.</li>\n",
    "    <br>\n",
    "    <li>Steps to approach this task:\n",
    "    <ol>\n",
    "        <li> You would have to write both fit and transform methods for your custom implementation of tfidf vectorizer, just like in the previous task. Additionally, here you have to limit the number of features generated to 50 as described above.</li>\n",
    "        <li> Now sort your vocab based in descending order of idf values and print out the words in the sorted voacb after you fit your data. Here you should be getting only 50 terms in your vocab. And make sure to print idf values for each term in your vocab. </li>\n",
    "        <li> Make sure the output of your implementation is a sparse matrix. Before generating the final output, you need to normalize your sparse matrix using L2 normalization. You can refer to this link https://scikit-learn.org/stable/modules/generated/sklearn.preprocessing.normalize.html </li>\n",
    "        <li> Now check the output of a single document in your collection of documents,  you can convert the sparse matrix related only to that document into dense matrix and print it. And this dense matrix should contain 1 row and 50 columns. </li>\n",
    "        </ol>\n",
    "    </li>\n",
    "    <br>\n",
    "   </ul>"
   ]
  },
  {
   "cell_type": "code",
   "execution_count": 14,
   "metadata": {
    "colab": {},
    "colab_type": "code",
    "id": "NHxPLlwNxLjL",
    "outputId": "9abd8e08-0e24-4975-9a13-4d3636d60323"
   },
   "outputs": [
    {
     "name": "stdout",
     "output_type": "stream",
     "text": [
      "Number of documents in corpus =  746\n"
     ]
    }
   ],
   "source": [
    "# Below is the code to load the cleaned_strings pickle file provided\n",
    "# Here corpus is of list type\n",
    "\n",
    "import pickle\n",
    "with open('cleaned_strings', 'rb') as f:\n",
    "    corpus = pickle.load(f)\n",
    "    \n",
    "# printing the length of the corpus loaded\n",
    "print(\"Number of documents in corpus = \",len(corpus))"
   ]
  },
  {
   "cell_type": "code",
   "execution_count": 15,
   "metadata": {
    "colab": {},
    "colab_type": "code",
    "id": "ZULfoOIdxLjQ"
   },
   "outputs": [],
   "source": [
    "# Write your code here.\n",
    "# Try not to hardcode any values.\n",
    "# Make sure its well documented and readble with appropriate comments."
   ]
  },
  {
   "cell_type": "code",
   "execution_count": 16,
   "metadata": {
    "colab": {},
    "colab_type": "code",
    "id": "1_DJnnR3xLjR"
   },
   "outputs": [],
   "source": [
    "\n",
    "#Function that returns the denominator value of the idf.\n",
    "#It returns a dict {t:freq} where t is each uique word in corpus and freq is the number of doc. that contain the word t.\n",
    "def idfDenom(corpus,sortedListUniqueWords):\n",
    "    #create a dict {t:0},ie, initialising the number of documents in which t appers with 0\n",
    "    idfDenominator = {word:0 for word in sortedListUniqueWords}\n",
    "    for document in corpus:\n",
    "        #generating all the uniue word in a document\n",
    "        setOfWordsInDoc = set(document.split(' '))\n",
    "        for word in setOfWordsInDoc:\n",
    "            #increamenting the number of doc. in which word t occurs by 1 if we find the word in doc.\n",
    "            if(len(word )<2):\n",
    "                continue\n",
    "            idfDenominator.update({word : idfDenominator.get(word)+1 })\n",
    "    return idfDenominator\n",
    "\n",
    "def Getidf(sortedListUniqueWords,idfDenominator,numOfDoc):\n",
    "    idf = []\n",
    "    #for all the words in vocab finding the idf using the above mentioned formula\n",
    "    for word in sortedListUniqueWords:\n",
    "        #idf.append(1+math.log((1+numOfDoc)/(1+idfDenominator.get(word))))\n",
    "        idf.append((word ,1+math.log((1+numOfDoc)/(1+idfDenominator.get(word)))))\n",
    "    return idf\n",
    "        \n",
    "\n",
    "def fit(corpus):\n",
    "    uniqueWordsFromCorpus = set();\n",
    "    numOfDoc = len(corpus);\n",
    "    if(isinstance(corpus,list)):\n",
    "        for document in corpus:\n",
    "            for word in document.split(' '):\n",
    "                #filtering the words whose len. is >= 2\n",
    "                if(len(word)>=2):\n",
    "                    uniqueWordsFromCorpus.add(word);\n",
    "        #creating a list of sorted all unique words in doc.\n",
    "        #sortedListUniqueWords = sorted(list(uniqueWordsFromCorpus))\n",
    "        #assigning each unique word a dimension\n",
    "       # uniqueWordsWithindexes = {value:index for index,value in enumerate(sortedListUniqueWords)}\n",
    "        #calling a function that calculates the denominator of idf for all words in vocab\n",
    "        uniqueWords = list(uniqueWordsFromCorpus)\n",
    "        #print(uniqueWords)\n",
    "        idfDenominator = idfDenom(corpus,uniqueWords)\n",
    "        #calling the function that contains the idf values for all words in vocab\n",
    "        idf = Getidf(uniqueWords,idfDenominator,numOfDoc)\n",
    "        idf.sort( key = lambda x : x[1],reverse =True)\n",
    "        idfTop50 = idf[:50]\n",
    "        uniqueWordsWithindexes = {value[0]:index for index,value in enumerate(idfTop50)}\n",
    "    else:\n",
    "        print(\"please input a list\")\n",
    "    return uniqueWordsWithindexes,idfTop50;"
   ]
  },
  {
   "cell_type": "code",
   "execution_count": 17,
   "metadata": {},
   "outputs": [
    {
     "name": "stdout",
     "output_type": "stream",
     "text": [
      "{'supporting': 0, 'greatness': 1, 'preservation': 2, 'monolog': 3, 'website': 4, 'secondly': 5, 'details': 6, 'net': 7, 'enjoyment': 8, 'linear': 9, 'wild': 10, 'government': 11, 'sequences': 12, 'foolish': 13, 'junkyard': 14, 'underrated': 15, 'filmiing': 16, 'moved': 17, 'wih': 18, 'woa': 19, 'heist': 20, 'latifa': 21, 'unfortunate': 22, 'sobering': 23, 'retarded': 24, 'becomes': 25, 'blandly': 26, 'imperial': 27, 'applause': 28, 'borderlines': 29, 'barking': 30, 'says': 31, 'fumbling': 32, 'developments': 33, 'movements': 34, 'string': 35, 'expansive': 36, 'abandoned': 37, 'consolations': 38, 'estate': 39, 'indescribably': 40, 'quaid': 41, 'females': 42, 'lestat': 43, 'knightley': 44, 'holding': 45, 'motion': 46, 'ladies': 47, 'suggests': 48, 'rise': 49}\n",
      "--------idf-----------\n",
      "[('supporting', 6.922918004572872), ('greatness', 6.922918004572872), ('preservation', 6.922918004572872), ('monolog', 6.922918004572872), ('website', 6.922918004572872), ('secondly', 6.922918004572872), ('details', 6.922918004572872), ('net', 6.922918004572872), ('enjoyment', 6.922918004572872), ('linear', 6.922918004572872), ('wild', 6.922918004572872), ('government', 6.922918004572872), ('sequences', 6.922918004572872), ('foolish', 6.922918004572872), ('junkyard', 6.922918004572872), ('underrated', 6.922918004572872), ('filmiing', 6.922918004572872), ('moved', 6.922918004572872), ('wih', 6.922918004572872), ('woa', 6.922918004572872), ('heist', 6.922918004572872), ('latifa', 6.922918004572872), ('unfortunate', 6.922918004572872), ('sobering', 6.922918004572872), ('retarded', 6.922918004572872), ('becomes', 6.922918004572872), ('blandly', 6.922918004572872), ('imperial', 6.922918004572872), ('applause', 6.922918004572872), ('borderlines', 6.922918004572872), ('barking', 6.922918004572872), ('says', 6.922918004572872), ('fumbling', 6.922918004572872), ('developments', 6.922918004572872), ('movements', 6.922918004572872), ('string', 6.922918004572872), ('expansive', 6.922918004572872), ('abandoned', 6.922918004572872), ('consolations', 6.922918004572872), ('estate', 6.922918004572872), ('indescribably', 6.922918004572872), ('quaid', 6.922918004572872), ('females', 6.922918004572872), ('lestat', 6.922918004572872), ('knightley', 6.922918004572872), ('holding', 6.922918004572872), ('motion', 6.922918004572872), ('ladies', 6.922918004572872), ('suggests', 6.922918004572872), ('rise', 6.922918004572872)]\n"
     ]
    }
   ],
   "source": [
    "uniqueWordsWithindexes,idf = fit(corpus)\n",
    "print(uniqueWordsWithindexes)\n",
    "print(\"--------idf-----------\")\n",
    "print(idf)"
   ]
  },
  {
   "cell_type": "code",
   "execution_count": 18,
   "metadata": {},
   "outputs": [],
   "source": [
    "def transform(dataset,uniqueWordsWithindexes,idf):\n",
    "    row = []\n",
    "    column = []\n",
    "    values = []\n",
    "    print(dataset[11])\n",
    "    if(isinstance(dataset,list)):\n",
    "        for docIndex,document in enumerate(dataset):\n",
    "            wordsWithFreqInDoc = dict(Counter(document.split(' ')))\n",
    "            numberOfWordsInDoc = len(document.split(' '))\n",
    "            for word,freq in wordsWithFreqInDoc.items():\n",
    "                word_index = uniqueWordsWithindexes.get(word,-1)\n",
    "                if(word_index != -1):\n",
    "                    row.append(docIndex);\n",
    "                    column.append(word_index);\n",
    "                    values.append((freq/numberOfWordsInDoc)*idf[word_index][1])\n",
    "        tfidf = csr_matrix((values, (row,column)), shape=(len(dataset),len(uniqueWordsWithindexes)))\n",
    "        return(normalize(tfidf,norm = 'l2'))\n",
    "    else:\n",
    "        print(\"Provide a List\")"
   ]
  },
  {
   "cell_type": "code",
   "execution_count": 19,
   "metadata": {},
   "outputs": [
    {
     "name": "stdout",
     "output_type": "stream",
     "text": [
      "movie showed lot florida best made look appealing\n",
      "  (19, 23)\t0.7071067811865476\n",
      "  (19, 47)\t0.7071067811865476\n",
      "  (33, 24)\t1.0\n",
      "  (57, 28)\t1.0\n",
      "  (107, 2)\t1.0\n",
      "  (134, 41)\t1.0\n",
      "  (135, 1)\t0.3535533905932738\n",
      "  (135, 4)\t0.3535533905932738\n",
      "  (135, 5)\t0.3535533905932738\n",
      "  (135, 12)\t0.3535533905932738\n",
      "  (135, 18)\t0.3535533905932738\n",
      "  (135, 19)\t0.3535533905932738\n",
      "  (135, 33)\t0.3535533905932738\n",
      "  (135, 49)\t0.3535533905932738\n",
      "  (141, 8)\t1.0\n",
      "  (148, 7)\t1.0\n",
      "  (171, 34)\t1.0\n",
      "  (189, 27)\t1.0\n",
      "  (199, 9)\t1.0\n",
      "  (223, 14)\t1.0\n",
      "  (229, 46)\t1.0\n",
      "  (258, 35)\t1.0\n",
      "  (270, 20)\t0.7071067811865476\n",
      "  (270, 37)\t0.7071067811865476\n",
      "  (315, 40)\t1.0\n",
      "  (325, 26)\t1.0\n",
      "  (338, 21)\t1.0\n",
      "  (383, 16)\t0.7071067811865476\n",
      "  (383, 36)\t0.7071067811865476\n",
      "  (394, 15)\t1.0\n",
      "  (405, 13)\t1.0\n",
      "  (421, 29)\t1.0\n",
      "  (422, 44)\t0.7071067811865475\n",
      "  (422, 48)\t0.7071067811865475\n",
      "  (458, 3)\t0.7071067811865476\n",
      "  (458, 17)\t0.7071067811865476\n",
      "  (467, 38)\t1.0\n",
      "  (475, 32)\t0.7071067811865475\n",
      "  (475, 42)\t0.7071067811865475\n",
      "  (522, 25)\t1.0\n",
      "  (527, 30)\t1.0\n",
      "  (547, 43)\t1.0\n",
      "  (550, 6)\t1.0\n",
      "  (562, 10)\t1.0\n",
      "  (608, 22)\t1.0\n",
      "  (628, 0)\t1.0\n",
      "  (644, 31)\t0.7071067811865475\n",
      "  (644, 45)\t0.7071067811865475\n",
      "  (703, 11)\t1.0\n",
      "  (734, 39)\t1.0\n"
     ]
    }
   ],
   "source": [
    "tfidf=transform(corpus,uniqueWordsWithindexes,idf)\n",
    "print(tfidf)"
   ]
  },
  {
   "cell_type": "code",
   "execution_count": 172,
   "metadata": {},
   "outputs": [
    {
     "name": "stdout",
     "output_type": "stream",
     "text": [
      "[[0. 0. 0. 0. 0. 0. 0. 0. 0. 0. 0. 0. 0. 0. 0. 0. 0. 0. 0. 0. 0. 0. 0. 0.\n",
      "  0. 0. 0. 0. 0. 0. 0. 0. 0. 0. 0. 0. 0. 0. 0. 0. 0. 0. 0. 0. 0. 0. 0. 0.\n",
      "  0. 0.]]\n"
     ]
    }
   ],
   "source": [
    "print(tfidf[0].toarray())"
   ]
  },
  {
   "cell_type": "code",
   "execution_count": null,
   "metadata": {},
   "outputs": [],
   "source": []
  }
 ],
 "metadata": {
  "colab": {
   "collapsed_sections": [],
   "name": "Assignment_3_Instructions.ipynb",
   "provenance": []
  },
  "kernelspec": {
   "display_name": "Python 3",
   "language": "python",
   "name": "python3"
  },
  "language_info": {
   "codemirror_mode": {
    "name": "ipython",
    "version": 3
   },
   "file_extension": ".py",
   "mimetype": "text/x-python",
   "name": "python",
   "nbconvert_exporter": "python",
   "pygments_lexer": "ipython3",
   "version": "3.8.5"
  }
 },
 "nbformat": 4,
 "nbformat_minor": 1
}
