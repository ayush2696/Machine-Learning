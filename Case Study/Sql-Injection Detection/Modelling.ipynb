{
 "cells": [
  {
   "cell_type": "code",
   "execution_count": 1,
   "metadata": {},
   "outputs": [],
   "source": [
    "import pandas as pd\n",
    "import numpy as np\n",
    "import seaborn as sns\n",
    "from sklearn.model_selection import train_test_split\n",
    "import matplotlib.pyplot as plt\n",
    "import re"
   ]
  },
  {
   "cell_type": "markdown",
   "metadata": {},
   "source": [
    "# Load the data"
   ]
  },
  {
   "cell_type": "code",
   "execution_count": 2,
   "metadata": {},
   "outputs": [
    {
     "name": "stdout",
     "output_type": "stream",
     "text": [
      "(10204, 3)\n",
      "(20715, 3)\n"
     ]
    }
   ],
   "source": [
    "X_train  = pd.read_csv(\"train.csv\")\n",
    "X_test  = pd.read_csv(\"test.csv\")\n",
    "print(X_test.shape)\n",
    "print(X_train.shape)"
   ]
  },
  {
   "cell_type": "markdown",
   "metadata": {},
   "source": [
    "# Preprocessing data\n",
    "### Conversion to lower case \n",
    "### Removal of duplicates"
   ]
  },
  {
   "cell_type": "code",
   "execution_count": 3,
   "metadata": {},
   "outputs": [],
   "source": [
    "def convert_To_Lower_case(x):\n",
    "    return x.lower()"
   ]
  },
  {
   "cell_type": "code",
   "execution_count": 4,
   "metadata": {},
   "outputs": [],
   "source": [
    "def preprocess(data):\n",
    "    data['Query'] = data['Query'].apply(convert_To_Lower_case)\n",
    "    boolean = data.duplicated(subset = ['Query','label'])\n",
    "    data.drop_duplicates(subset = ['Query','label'],inplace = True)\n",
    "    #dropping the few queries which has both the label to avoid ambiguity\n",
    "    data.drop_duplicates(subset = ['Query'],keep = False,inplace = True)\n",
    "    return data\n",
    "    "
   ]
  },
  {
   "cell_type": "code",
   "execution_count": 5,
   "metadata": {},
   "outputs": [
    {
     "data": {
      "text/plain": [
       "(20698, 3)"
      ]
     },
     "execution_count": 5,
     "metadata": {},
     "output_type": "execute_result"
    }
   ],
   "source": [
    "X_train = preprocess(X_train)\n",
    "X_train.shape"
   ]
  },
  {
   "cell_type": "code",
   "execution_count": 6,
   "metadata": {},
   "outputs": [
    {
     "data": {
      "text/plain": [
       "(10200, 3)"
      ]
     },
     "execution_count": 6,
     "metadata": {},
     "output_type": "execute_result"
    }
   ],
   "source": [
    "X_test = preprocess(X_test)\n",
    "X_test.shape"
   ]
  },
  {
   "cell_type": "markdown",
   "metadata": {},
   "source": [
    "# Creating all the features that were analysed during eda"
   ]
  },
  {
   "cell_type": "code",
   "execution_count": 7,
   "metadata": {},
   "outputs": [],
   "source": [
    "def number_of_single_quotations(x):\n",
    "    list_single_quotes = re.findall(\"'\",x)\n",
    "    return len(list_single_quotes)\n",
    "\n",
    "def number_of_double_quotations(x):\n",
    "    list_double_quotes = re.findall(\"\\\"\",x)\n",
    "    return len(list_double_quotes)\n",
    "\n",
    "def number_of_hash(x):\n",
    "    list_hash = re.findall(\"#\",x)\n",
    "    return len(list_hash)\n",
    "\n",
    "def number_of_dollar(x):\n",
    "    list_dollar = re.findall(\"$\",x)\n",
    "    return len(list_dollar)\n",
    "\n",
    "def number_of_paranthesis(x):\n",
    "    list_paranthesis = re.findall(\"\\(|\\)\",x)\n",
    "    return len(list_paranthesis)\n",
    "\n",
    "def number_of_square_brackets(x):\n",
    "    list_square_brackets = re.findall(\"\\[|\\]\",x)\n",
    "    return len(list_square_brackets)\n",
    "\n",
    "def number_of_at_symbol(x):\n",
    "    list_at_symbol = re.findall(\"@\",x)\n",
    "    return len(list_at_symbol)\n",
    "\n",
    "def number_of_colon(x):\n",
    "    list_colon = re.findall(\":\",x)\n",
    "    return len(list_colon)\n",
    "\n",
    "def number_of_semicolon(x):\n",
    "    list_semicolon = re.findall(\";\",x)\n",
    "    return len(list_semicolon)\n",
    "\n",
    "def number_of_equals(x):\n",
    "    list_equals = re.findall(\"=\",x)\n",
    "    return len(list_equals)\n",
    "\n",
    "def number_of_angular_brackets(x):\n",
    "    list_angular_brackets = re.findall(\"<|>\",x)\n",
    "    return len(list_angular_brackets)\n",
    "\n",
    "def number_of_question_mark(x):\n",
    "    list_question_mark = re.findall(\"\\?\",x)\n",
    "    return len(list_question_mark)\n",
    "\n",
    "def number_of_under_score(x):\n",
    "    list_under_score = re.findall(\"\\_\",x)\n",
    "    return len(list_under_score)\n",
    "\n",
    "def number_of_arithematic(x):\n",
    "    list_arithematic = re.findall(\"\\+|-|[^\\/]\\*|\\/[^\\*]\",x)\n",
    "    return len(list_arithematic)\n",
    "\n",
    "def number_of_comma(x):\n",
    "    list_comma = re.findall(\",\",x)\n",
    "    return len(list_comma)\n",
    "\n",
    "def number_of_dot(x):\n",
    "    list_dot = re.findall(\"\\.\",x)\n",
    "    return len(list_dot)\n",
    "\n",
    "def number_of_single_comment(x):\n",
    "    list_single_comment = re.findall(\"(--)\",x)\n",
    "    return len(list_single_comment)\n",
    "\n",
    "def number_of_white_space(x):\n",
    "    list_white_space = re.findall(\"\\s+\",x)\n",
    "    return len(list_white_space)\n",
    "\n",
    "def number_of_percentage(x):\n",
    "    list_percentage = re.findall(\"%\",x)\n",
    "    return len(list_percentage)\n",
    "\n",
    "def number_of_logical_operators(x):\n",
    "    list_logical_operators = re.findall(\"\\snot\\s|\\sand\\s|\\sor\\s|\\sxor\\s|&&|\\|\\||!\",x)\n",
    "    return len(list_logical_operators)\n",
    "\n",
    "def number_of_punctuation(x):\n",
    "    list_punctuation = re.findall(\"[!\\\"#$%&\\'()*+,-.\\/:;<=>?@[\\\\]^_`{|}~]\",x)\n",
    "    return len(list_punctuation)\n",
    "\n",
    "def number_of_hexadecimal(x):\n",
    "    list_hexadecimal = re.findall(\"0[xX][0-9a-fA-F]+\\s\",x)\n",
    "    return len(list_hexadecimal)\n",
    "\n",
    "def number_of_null(x):\n",
    "    list_null = re.findall(\"null\",x)\n",
    "    return len(list_null)\n",
    "\n",
    "def number_of_digits(x):\n",
    "    list_digits = re.findall(\"[0-9]\",x)\n",
    "    return len(list_digits)\n",
    "\n",
    "def number_of_alfabets(x):\n",
    "    list_alfabets = re.findall(\"[a-zA-Z]\",x)\n",
    "    return len(list_alfabets)"
   ]
  },
  {
   "cell_type": "code",
   "execution_count": 8,
   "metadata": {},
   "outputs": [],
   "source": [
    "def create_features(data):\n",
    "    data['number_single_quotes'] = data.Query.apply(number_of_single_quotations)\n",
    "    data['number_double_quotes'] = data.Query.apply(number_of_double_quotations) \n",
    "    data['number_hash'] = data.Query.apply(number_of_hash) \n",
    "    data['number_dollar'] = data.Query.apply(number_of_dollar)\n",
    "    data['number_paranthesis'] = data.Query.apply(number_of_paranthesis)\n",
    "    data['number_square_brackets'] = data.Query.apply(number_of_square_brackets)\n",
    "    data['number_at_symbol'] = data.Query.apply(number_of_at_symbol)\n",
    "    data['number_colon'] = data.Query.apply(number_of_colon)\n",
    "    data['number_semicolon'] = data.Query.apply(number_of_semicolon)\n",
    "    data['number_equals'] = data.Query.apply(number_of_equals)\n",
    "    data['number_angular_brackets'] = data.Query.apply(number_of_angular_brackets)\n",
    "    data['number_question_mark'] = data.Query.apply(number_of_question_mark)\n",
    "    data['number_under_score'] = data.Query.apply(number_of_under_score)\n",
    "    data['number_arithematic'] = data.Query.apply(number_of_arithematic)\n",
    "    data['number_comma'] = data.Query.apply(number_of_comma)\n",
    "    data['number_dot'] = data.Query.apply(number_of_dot)\n",
    "    data['number_single_comment'] = data.Query.apply(number_of_single_comment)\n",
    "    data['number_white_space'] = data.Query.apply(number_of_white_space) \n",
    "    data['number_percentage'] = data.Query.apply(number_of_percentage) \n",
    "    data['number_logical_operators'] = data.Query.apply(number_of_logical_operators) \n",
    "    data['number_punctuation'] = data.Query.apply(number_of_punctuation)\n",
    "    data['number_hexadecimal'] = data.Query.apply(number_of_hexadecimal)\n",
    "    data['number_null'] = data.Query.apply(number_of_null)\n",
    "    data['number_digits'] = data.Query.apply(number_of_digits)\n",
    "    data['number_alfabets'] = data.Query.apply(number_of_alfabets)\n",
    "    return data"
   ]
  },
  {
   "cell_type": "code",
   "execution_count": 9,
   "metadata": {},
   "outputs": [],
   "source": [
    "X_train = create_features(X_train)"
   ]
  },
  {
   "cell_type": "code",
   "execution_count": 10,
   "metadata": {},
   "outputs": [
    {
     "data": {
      "text/plain": [
       "(20698, 28)"
      ]
     },
     "execution_count": 10,
     "metadata": {},
     "output_type": "execute_result"
    }
   ],
   "source": [
    "X_train.shape"
   ]
  },
  {
   "cell_type": "code",
   "execution_count": 11,
   "metadata": {},
   "outputs": [
    {
     "data": {
      "text/html": [
       "<div>\n",
       "<style scoped>\n",
       "    .dataframe tbody tr th:only-of-type {\n",
       "        vertical-align: middle;\n",
       "    }\n",
       "\n",
       "    .dataframe tbody tr th {\n",
       "        vertical-align: top;\n",
       "    }\n",
       "\n",
       "    .dataframe thead th {\n",
       "        text-align: right;\n",
       "    }\n",
       "</style>\n",
       "<table border=\"1\" class=\"dataframe\">\n",
       "  <thead>\n",
       "    <tr style=\"text-align: right;\">\n",
       "      <th></th>\n",
       "      <th>Unnamed: 0</th>\n",
       "      <th>Query</th>\n",
       "      <th>label</th>\n",
       "      <th>number_single_quotes</th>\n",
       "      <th>number_double_quotes</th>\n",
       "      <th>number_hash</th>\n",
       "      <th>number_dollar</th>\n",
       "      <th>number_paranthesis</th>\n",
       "      <th>number_square_brackets</th>\n",
       "      <th>number_at_symbol</th>\n",
       "      <th>...</th>\n",
       "      <th>number_dot</th>\n",
       "      <th>number_single_comment</th>\n",
       "      <th>number_white_space</th>\n",
       "      <th>number_percentage</th>\n",
       "      <th>number_logical_operators</th>\n",
       "      <th>number_punctuation</th>\n",
       "      <th>number_hexadecimal</th>\n",
       "      <th>number_null</th>\n",
       "      <th>number_digits</th>\n",
       "      <th>number_alfabets</th>\n",
       "    </tr>\n",
       "  </thead>\n",
       "  <tbody>\n",
       "    <tr>\n",
       "      <th>0</th>\n",
       "      <td>11352</td>\n",
       "      <td>elias pallares</td>\n",
       "      <td>0</td>\n",
       "      <td>0</td>\n",
       "      <td>0</td>\n",
       "      <td>0</td>\n",
       "      <td>1</td>\n",
       "      <td>0</td>\n",
       "      <td>0</td>\n",
       "      <td>0</td>\n",
       "      <td>...</td>\n",
       "      <td>0</td>\n",
       "      <td>0</td>\n",
       "      <td>1</td>\n",
       "      <td>0</td>\n",
       "      <td>0</td>\n",
       "      <td>0</td>\n",
       "      <td>0</td>\n",
       "      <td>0</td>\n",
       "      <td>0</td>\n",
       "      <td>13</td>\n",
       "    </tr>\n",
       "    <tr>\n",
       "      <th>1</th>\n",
       "      <td>25664</td>\n",
       "      <td>select duck, nearby+ ', ' + quiet+ ' ' + wi...</td>\n",
       "      <td>0</td>\n",
       "      <td>6</td>\n",
       "      <td>0</td>\n",
       "      <td>0</td>\n",
       "      <td>1</td>\n",
       "      <td>0</td>\n",
       "      <td>0</td>\n",
       "      <td>0</td>\n",
       "      <td>...</td>\n",
       "      <td>0</td>\n",
       "      <td>0</td>\n",
       "      <td>19</td>\n",
       "      <td>0</td>\n",
       "      <td>0</td>\n",
       "      <td>15</td>\n",
       "      <td>0</td>\n",
       "      <td>0</td>\n",
       "      <td>0</td>\n",
       "      <td>54</td>\n",
       "    </tr>\n",
       "    <tr>\n",
       "      <th>2</th>\n",
       "      <td>18391</td>\n",
       "      <td>40359</td>\n",
       "      <td>0</td>\n",
       "      <td>0</td>\n",
       "      <td>0</td>\n",
       "      <td>0</td>\n",
       "      <td>1</td>\n",
       "      <td>0</td>\n",
       "      <td>0</td>\n",
       "      <td>0</td>\n",
       "      <td>...</td>\n",
       "      <td>0</td>\n",
       "      <td>0</td>\n",
       "      <td>0</td>\n",
       "      <td>0</td>\n",
       "      <td>0</td>\n",
       "      <td>0</td>\n",
       "      <td>0</td>\n",
       "      <td>0</td>\n",
       "      <td>5</td>\n",
       "      <td>0</td>\n",
       "    </tr>\n",
       "    <tr>\n",
       "      <th>3</th>\n",
       "      <td>8464</td>\n",
       "      <td>1' in boolean mode  )   and 6510  =    (  sele...</td>\n",
       "      <td>1</td>\n",
       "      <td>1</td>\n",
       "      <td>0</td>\n",
       "      <td>1</td>\n",
       "      <td>1</td>\n",
       "      <td>5</td>\n",
       "      <td>0</td>\n",
       "      <td>0</td>\n",
       "      <td>...</td>\n",
       "      <td>0</td>\n",
       "      <td>0</td>\n",
       "      <td>31</td>\n",
       "      <td>0</td>\n",
       "      <td>1</td>\n",
       "      <td>15</td>\n",
       "      <td>0</td>\n",
       "      <td>0</td>\n",
       "      <td>12</td>\n",
       "      <td>122</td>\n",
       "    </tr>\n",
       "    <tr>\n",
       "      <th>4</th>\n",
       "      <td>28448</td>\n",
       "      <td>select * from parallel where felt = 'examine'</td>\n",
       "      <td>0</td>\n",
       "      <td>2</td>\n",
       "      <td>0</td>\n",
       "      <td>0</td>\n",
       "      <td>1</td>\n",
       "      <td>0</td>\n",
       "      <td>0</td>\n",
       "      <td>0</td>\n",
       "      <td>...</td>\n",
       "      <td>0</td>\n",
       "      <td>0</td>\n",
       "      <td>7</td>\n",
       "      <td>0</td>\n",
       "      <td>0</td>\n",
       "      <td>4</td>\n",
       "      <td>0</td>\n",
       "      <td>0</td>\n",
       "      <td>0</td>\n",
       "      <td>34</td>\n",
       "    </tr>\n",
       "  </tbody>\n",
       "</table>\n",
       "<p>5 rows × 28 columns</p>\n",
       "</div>"
      ],
      "text/plain": [
       "   Unnamed: 0                                              Query  label  \\\n",
       "0       11352                                     elias pallares      0   \n",
       "1       25664     select duck, nearby+ ', ' + quiet+ ' ' + wi...      0   \n",
       "2       18391                                              40359      0   \n",
       "3        8464  1' in boolean mode  )   and 6510  =    (  sele...      1   \n",
       "4       28448      select * from parallel where felt = 'examine'      0   \n",
       "\n",
       "   number_single_quotes  number_double_quotes  number_hash  number_dollar  \\\n",
       "0                     0                     0            0              1   \n",
       "1                     6                     0            0              1   \n",
       "2                     0                     0            0              1   \n",
       "3                     1                     0            1              1   \n",
       "4                     2                     0            0              1   \n",
       "\n",
       "   number_paranthesis  number_square_brackets  number_at_symbol  ...  \\\n",
       "0                   0                       0                 0  ...   \n",
       "1                   0                       0                 0  ...   \n",
       "2                   0                       0                 0  ...   \n",
       "3                   5                       0                 0  ...   \n",
       "4                   0                       0                 0  ...   \n",
       "\n",
       "   number_dot  number_single_comment  number_white_space  number_percentage  \\\n",
       "0           0                      0                   1                  0   \n",
       "1           0                      0                  19                  0   \n",
       "2           0                      0                   0                  0   \n",
       "3           0                      0                  31                  0   \n",
       "4           0                      0                   7                  0   \n",
       "\n",
       "   number_logical_operators  number_punctuation  number_hexadecimal  \\\n",
       "0                         0                   0                   0   \n",
       "1                         0                  15                   0   \n",
       "2                         0                   0                   0   \n",
       "3                         1                  15                   0   \n",
       "4                         0                   4                   0   \n",
       "\n",
       "   number_null  number_digits  number_alfabets  \n",
       "0            0              0               13  \n",
       "1            0              0               54  \n",
       "2            0              5                0  \n",
       "3            0             12              122  \n",
       "4            0              0               34  \n",
       "\n",
       "[5 rows x 28 columns]"
      ]
     },
     "execution_count": 11,
     "metadata": {},
     "output_type": "execute_result"
    }
   ],
   "source": [
    "X_train.head()"
   ]
  },
  {
   "cell_type": "code",
   "execution_count": 12,
   "metadata": {},
   "outputs": [],
   "source": [
    "X_test = create_features(X_test)"
   ]
  },
  {
   "cell_type": "code",
   "execution_count": 13,
   "metadata": {},
   "outputs": [
    {
     "data": {
      "text/plain": [
       "(10200, 28)"
      ]
     },
     "execution_count": 13,
     "metadata": {},
     "output_type": "execute_result"
    }
   ],
   "source": [
    "X_test.shape"
   ]
  },
  {
   "cell_type": "code",
   "execution_count": 14,
   "metadata": {},
   "outputs": [
    {
     "data": {
      "text/html": [
       "<div>\n",
       "<style scoped>\n",
       "    .dataframe tbody tr th:only-of-type {\n",
       "        vertical-align: middle;\n",
       "    }\n",
       "\n",
       "    .dataframe tbody tr th {\n",
       "        vertical-align: top;\n",
       "    }\n",
       "\n",
       "    .dataframe thead th {\n",
       "        text-align: right;\n",
       "    }\n",
       "</style>\n",
       "<table border=\"1\" class=\"dataframe\">\n",
       "  <thead>\n",
       "    <tr style=\"text-align: right;\">\n",
       "      <th></th>\n",
       "      <th>Unnamed: 0</th>\n",
       "      <th>Query</th>\n",
       "      <th>label</th>\n",
       "      <th>number_single_quotes</th>\n",
       "      <th>number_double_quotes</th>\n",
       "      <th>number_hash</th>\n",
       "      <th>number_dollar</th>\n",
       "      <th>number_paranthesis</th>\n",
       "      <th>number_square_brackets</th>\n",
       "      <th>number_at_symbol</th>\n",
       "      <th>...</th>\n",
       "      <th>number_dot</th>\n",
       "      <th>number_single_comment</th>\n",
       "      <th>number_white_space</th>\n",
       "      <th>number_percentage</th>\n",
       "      <th>number_logical_operators</th>\n",
       "      <th>number_punctuation</th>\n",
       "      <th>number_hexadecimal</th>\n",
       "      <th>number_null</th>\n",
       "      <th>number_digits</th>\n",
       "      <th>number_alfabets</th>\n",
       "    </tr>\n",
       "  </thead>\n",
       "  <tbody>\n",
       "    <tr>\n",
       "      <th>0</th>\n",
       "      <td>10458</td>\n",
       "      <td>1\"   )    )     )   or 6793  =    (  select 67...</td>\n",
       "      <td>1</td>\n",
       "      <td>0</td>\n",
       "      <td>4</td>\n",
       "      <td>0</td>\n",
       "      <td>1</td>\n",
       "      <td>10</td>\n",
       "      <td>0</td>\n",
       "      <td>0</td>\n",
       "      <td>...</td>\n",
       "      <td>0</td>\n",
       "      <td>0</td>\n",
       "      <td>22</td>\n",
       "      <td>0</td>\n",
       "      <td>2</td>\n",
       "      <td>17</td>\n",
       "      <td>0</td>\n",
       "      <td>0</td>\n",
       "      <td>10</td>\n",
       "      <td>30</td>\n",
       "    </tr>\n",
       "    <tr>\n",
       "      <th>1</th>\n",
       "      <td>12553</td>\n",
       "      <td>newtell@theroxyblue.ir</td>\n",
       "      <td>0</td>\n",
       "      <td>0</td>\n",
       "      <td>0</td>\n",
       "      <td>0</td>\n",
       "      <td>1</td>\n",
       "      <td>0</td>\n",
       "      <td>0</td>\n",
       "      <td>1</td>\n",
       "      <td>...</td>\n",
       "      <td>1</td>\n",
       "      <td>0</td>\n",
       "      <td>0</td>\n",
       "      <td>0</td>\n",
       "      <td>0</td>\n",
       "      <td>2</td>\n",
       "      <td>0</td>\n",
       "      <td>0</td>\n",
       "      <td>0</td>\n",
       "      <td>20</td>\n",
       "    </tr>\n",
       "    <tr>\n",
       "      <th>2</th>\n",
       "      <td>10017</td>\n",
       "      <td>1  )   as qzif where 7877  =  7877 union all s...</td>\n",
       "      <td>1</td>\n",
       "      <td>0</td>\n",
       "      <td>0</td>\n",
       "      <td>0</td>\n",
       "      <td>1</td>\n",
       "      <td>1</td>\n",
       "      <td>0</td>\n",
       "      <td>0</td>\n",
       "      <td>...</td>\n",
       "      <td>0</td>\n",
       "      <td>1</td>\n",
       "      <td>11</td>\n",
       "      <td>0</td>\n",
       "      <td>0</td>\n",
       "      <td>10</td>\n",
       "      <td>0</td>\n",
       "      <td>7</td>\n",
       "      <td>9</td>\n",
       "      <td>53</td>\n",
       "    </tr>\n",
       "    <tr>\n",
       "      <th>3</th>\n",
       "      <td>689</td>\n",
       "      <td>%2a%28%7c%28mail%3d%2a%29%29</td>\n",
       "      <td>1</td>\n",
       "      <td>0</td>\n",
       "      <td>0</td>\n",
       "      <td>0</td>\n",
       "      <td>1</td>\n",
       "      <td>0</td>\n",
       "      <td>0</td>\n",
       "      <td>0</td>\n",
       "      <td>...</td>\n",
       "      <td>0</td>\n",
       "      <td>0</td>\n",
       "      <td>0</td>\n",
       "      <td>8</td>\n",
       "      <td>0</td>\n",
       "      <td>8</td>\n",
       "      <td>0</td>\n",
       "      <td>0</td>\n",
       "      <td>12</td>\n",
       "      <td>8</td>\n",
       "    </tr>\n",
       "    <tr>\n",
       "      <th>4</th>\n",
       "      <td>29732</td>\n",
       "      <td>select * from tin order by minute desc</td>\n",
       "      <td>0</td>\n",
       "      <td>0</td>\n",
       "      <td>0</td>\n",
       "      <td>0</td>\n",
       "      <td>1</td>\n",
       "      <td>0</td>\n",
       "      <td>0</td>\n",
       "      <td>0</td>\n",
       "      <td>...</td>\n",
       "      <td>0</td>\n",
       "      <td>0</td>\n",
       "      <td>7</td>\n",
       "      <td>0</td>\n",
       "      <td>0</td>\n",
       "      <td>1</td>\n",
       "      <td>0</td>\n",
       "      <td>0</td>\n",
       "      <td>0</td>\n",
       "      <td>30</td>\n",
       "    </tr>\n",
       "  </tbody>\n",
       "</table>\n",
       "<p>5 rows × 28 columns</p>\n",
       "</div>"
      ],
      "text/plain": [
       "   Unnamed: 0                                              Query  label  \\\n",
       "0       10458  1\"   )    )     )   or 6793  =    (  select 67...      1   \n",
       "1       12553                             newtell@theroxyblue.ir      0   \n",
       "2       10017  1  )   as qzif where 7877  =  7877 union all s...      1   \n",
       "3         689                       %2a%28%7c%28mail%3d%2a%29%29      1   \n",
       "4       29732             select * from tin order by minute desc      0   \n",
       "\n",
       "   number_single_quotes  number_double_quotes  number_hash  number_dollar  \\\n",
       "0                     0                     4            0              1   \n",
       "1                     0                     0            0              1   \n",
       "2                     0                     0            0              1   \n",
       "3                     0                     0            0              1   \n",
       "4                     0                     0            0              1   \n",
       "\n",
       "   number_paranthesis  number_square_brackets  number_at_symbol  ...  \\\n",
       "0                  10                       0                 0  ...   \n",
       "1                   0                       0                 1  ...   \n",
       "2                   1                       0                 0  ...   \n",
       "3                   0                       0                 0  ...   \n",
       "4                   0                       0                 0  ...   \n",
       "\n",
       "   number_dot  number_single_comment  number_white_space  number_percentage  \\\n",
       "0           0                      0                  22                  0   \n",
       "1           1                      0                   0                  0   \n",
       "2           0                      1                  11                  0   \n",
       "3           0                      0                   0                  8   \n",
       "4           0                      0                   7                  0   \n",
       "\n",
       "   number_logical_operators  number_punctuation  number_hexadecimal  \\\n",
       "0                         2                  17                   0   \n",
       "1                         0                   2                   0   \n",
       "2                         0                  10                   0   \n",
       "3                         0                   8                   0   \n",
       "4                         0                   1                   0   \n",
       "\n",
       "   number_null  number_digits  number_alfabets  \n",
       "0            0             10               30  \n",
       "1            0              0               20  \n",
       "2            7              9               53  \n",
       "3            0             12                8  \n",
       "4            0              0               30  \n",
       "\n",
       "[5 rows x 28 columns]"
      ]
     },
     "execution_count": 14,
     "metadata": {},
     "output_type": "execute_result"
    }
   ],
   "source": [
    "X_test.head()"
   ]
  },
  {
   "cell_type": "markdown",
   "metadata": {},
   "source": [
    "# Saving the file with new features"
   ]
  },
  {
   "cell_type": "code",
   "execution_count": 15,
   "metadata": {},
   "outputs": [],
   "source": [
    "X_train.to_csv(\"Preprocessed_X_train.csv\",index = False)\n",
    "X_test.to_csv(\"Preprocessed_X_test.csv\",index = False)\n"
   ]
  },
  {
   "cell_type": "markdown",
   "metadata": {},
   "source": [
    "# Load the saved file"
   ]
  },
  {
   "cell_type": "code",
   "execution_count": 16,
   "metadata": {},
   "outputs": [],
   "source": [
    "X_train = pd.read_csv(\"Preprocessed_X_train.csv\")\n",
    "X_test = pd.read_csv(\"Preprocessed_X_test.csv\")"
   ]
  },
  {
   "cell_type": "code",
   "execution_count": 17,
   "metadata": {},
   "outputs": [],
   "source": [
    "Y_train = X_train['label']\n",
    "X_train = X_train.drop(['label'],axis = 1)\n",
    "Y_test = X_test['label']\n",
    "X_test = X_test.drop(['label'],axis = 1)"
   ]
  },
  {
   "cell_type": "code",
   "execution_count": 18,
   "metadata": {},
   "outputs": [
    {
     "name": "stdout",
     "output_type": "stream",
     "text": [
      "(20698, 27)\n",
      "(10200, 27)\n",
      "(20698,)\n",
      "(10200,)\n"
     ]
    }
   ],
   "source": [
    "print(X_train.shape)\n",
    "print(X_test.shape)\n",
    "print(Y_train.shape)\n",
    "print(Y_test.shape)"
   ]
  },
  {
   "cell_type": "markdown",
   "metadata": {},
   "source": [
    "# Creating BoW for query column"
   ]
  },
  {
   "cell_type": "code",
   "execution_count": 19,
   "metadata": {},
   "outputs": [],
   "source": [
    "from sklearn.feature_extraction.text import CountVectorizer\n",
    "vectorizer = CountVectorizer(ngram_range=(1,2),max_features = 50000)\n",
    "X = vectorizer.fit(X_train['Query'])\n",
    "X_train_query = X.transform(X_train['Query'])\n",
    "X_test_query = X.transform(X_test['Query'])"
   ]
  },
  {
   "cell_type": "code",
   "execution_count": 20,
   "metadata": {},
   "outputs": [
    {
     "data": {
      "text/plain": [
       "50000"
      ]
     },
     "execution_count": 20,
     "metadata": {},
     "output_type": "execute_result"
    }
   ],
   "source": [
    "len(X.vocabulary_)"
   ]
  },
  {
   "cell_type": "code",
   "execution_count": 21,
   "metadata": {},
   "outputs": [],
   "source": [
    "X_train = X_train.drop(['Query','Unnamed: 0'],axis =1 )\n",
    "X_test = X_test.drop(['Query','Unnamed: 0'],axis =1 )"
   ]
  },
  {
   "cell_type": "code",
   "execution_count": 22,
   "metadata": {},
   "outputs": [
    {
     "data": {
      "text/html": [
       "<div>\n",
       "<style scoped>\n",
       "    .dataframe tbody tr th:only-of-type {\n",
       "        vertical-align: middle;\n",
       "    }\n",
       "\n",
       "    .dataframe tbody tr th {\n",
       "        vertical-align: top;\n",
       "    }\n",
       "\n",
       "    .dataframe thead th {\n",
       "        text-align: right;\n",
       "    }\n",
       "</style>\n",
       "<table border=\"1\" class=\"dataframe\">\n",
       "  <thead>\n",
       "    <tr style=\"text-align: right;\">\n",
       "      <th></th>\n",
       "      <th>number_single_quotes</th>\n",
       "      <th>number_double_quotes</th>\n",
       "      <th>number_hash</th>\n",
       "      <th>number_dollar</th>\n",
       "      <th>number_paranthesis</th>\n",
       "      <th>number_square_brackets</th>\n",
       "      <th>number_at_symbol</th>\n",
       "      <th>number_colon</th>\n",
       "      <th>number_semicolon</th>\n",
       "      <th>number_equals</th>\n",
       "      <th>...</th>\n",
       "      <th>number_dot</th>\n",
       "      <th>number_single_comment</th>\n",
       "      <th>number_white_space</th>\n",
       "      <th>number_percentage</th>\n",
       "      <th>number_logical_operators</th>\n",
       "      <th>number_punctuation</th>\n",
       "      <th>number_hexadecimal</th>\n",
       "      <th>number_null</th>\n",
       "      <th>number_digits</th>\n",
       "      <th>number_alfabets</th>\n",
       "    </tr>\n",
       "  </thead>\n",
       "  <tbody>\n",
       "    <tr>\n",
       "      <th>0</th>\n",
       "      <td>0</td>\n",
       "      <td>0</td>\n",
       "      <td>0</td>\n",
       "      <td>1</td>\n",
       "      <td>0</td>\n",
       "      <td>0</td>\n",
       "      <td>0</td>\n",
       "      <td>0</td>\n",
       "      <td>0</td>\n",
       "      <td>0</td>\n",
       "      <td>...</td>\n",
       "      <td>0</td>\n",
       "      <td>0</td>\n",
       "      <td>1</td>\n",
       "      <td>0</td>\n",
       "      <td>0</td>\n",
       "      <td>0</td>\n",
       "      <td>0</td>\n",
       "      <td>0</td>\n",
       "      <td>0</td>\n",
       "      <td>13</td>\n",
       "    </tr>\n",
       "    <tr>\n",
       "      <th>1</th>\n",
       "      <td>6</td>\n",
       "      <td>0</td>\n",
       "      <td>0</td>\n",
       "      <td>1</td>\n",
       "      <td>0</td>\n",
       "      <td>0</td>\n",
       "      <td>0</td>\n",
       "      <td>0</td>\n",
       "      <td>0</td>\n",
       "      <td>0</td>\n",
       "      <td>...</td>\n",
       "      <td>0</td>\n",
       "      <td>0</td>\n",
       "      <td>19</td>\n",
       "      <td>0</td>\n",
       "      <td>0</td>\n",
       "      <td>15</td>\n",
       "      <td>0</td>\n",
       "      <td>0</td>\n",
       "      <td>0</td>\n",
       "      <td>54</td>\n",
       "    </tr>\n",
       "    <tr>\n",
       "      <th>2</th>\n",
       "      <td>0</td>\n",
       "      <td>0</td>\n",
       "      <td>0</td>\n",
       "      <td>1</td>\n",
       "      <td>0</td>\n",
       "      <td>0</td>\n",
       "      <td>0</td>\n",
       "      <td>0</td>\n",
       "      <td>0</td>\n",
       "      <td>0</td>\n",
       "      <td>...</td>\n",
       "      <td>0</td>\n",
       "      <td>0</td>\n",
       "      <td>0</td>\n",
       "      <td>0</td>\n",
       "      <td>0</td>\n",
       "      <td>0</td>\n",
       "      <td>0</td>\n",
       "      <td>0</td>\n",
       "      <td>5</td>\n",
       "      <td>0</td>\n",
       "    </tr>\n",
       "    <tr>\n",
       "      <th>3</th>\n",
       "      <td>1</td>\n",
       "      <td>0</td>\n",
       "      <td>1</td>\n",
       "      <td>1</td>\n",
       "      <td>5</td>\n",
       "      <td>0</td>\n",
       "      <td>0</td>\n",
       "      <td>0</td>\n",
       "      <td>0</td>\n",
       "      <td>1</td>\n",
       "      <td>...</td>\n",
       "      <td>0</td>\n",
       "      <td>0</td>\n",
       "      <td>31</td>\n",
       "      <td>0</td>\n",
       "      <td>1</td>\n",
       "      <td>15</td>\n",
       "      <td>0</td>\n",
       "      <td>0</td>\n",
       "      <td>12</td>\n",
       "      <td>122</td>\n",
       "    </tr>\n",
       "    <tr>\n",
       "      <th>4</th>\n",
       "      <td>2</td>\n",
       "      <td>0</td>\n",
       "      <td>0</td>\n",
       "      <td>1</td>\n",
       "      <td>0</td>\n",
       "      <td>0</td>\n",
       "      <td>0</td>\n",
       "      <td>0</td>\n",
       "      <td>0</td>\n",
       "      <td>1</td>\n",
       "      <td>...</td>\n",
       "      <td>0</td>\n",
       "      <td>0</td>\n",
       "      <td>7</td>\n",
       "      <td>0</td>\n",
       "      <td>0</td>\n",
       "      <td>4</td>\n",
       "      <td>0</td>\n",
       "      <td>0</td>\n",
       "      <td>0</td>\n",
       "      <td>34</td>\n",
       "    </tr>\n",
       "  </tbody>\n",
       "</table>\n",
       "<p>5 rows × 25 columns</p>\n",
       "</div>"
      ],
      "text/plain": [
       "   number_single_quotes  number_double_quotes  number_hash  number_dollar  \\\n",
       "0                     0                     0            0              1   \n",
       "1                     6                     0            0              1   \n",
       "2                     0                     0            0              1   \n",
       "3                     1                     0            1              1   \n",
       "4                     2                     0            0              1   \n",
       "\n",
       "   number_paranthesis  number_square_brackets  number_at_symbol  number_colon  \\\n",
       "0                   0                       0                 0             0   \n",
       "1                   0                       0                 0             0   \n",
       "2                   0                       0                 0             0   \n",
       "3                   5                       0                 0             0   \n",
       "4                   0                       0                 0             0   \n",
       "\n",
       "   number_semicolon  number_equals  ...  number_dot  number_single_comment  \\\n",
       "0                 0              0  ...           0                      0   \n",
       "1                 0              0  ...           0                      0   \n",
       "2                 0              0  ...           0                      0   \n",
       "3                 0              1  ...           0                      0   \n",
       "4                 0              1  ...           0                      0   \n",
       "\n",
       "   number_white_space  number_percentage  number_logical_operators  \\\n",
       "0                   1                  0                         0   \n",
       "1                  19                  0                         0   \n",
       "2                   0                  0                         0   \n",
       "3                  31                  0                         1   \n",
       "4                   7                  0                         0   \n",
       "\n",
       "   number_punctuation  number_hexadecimal  number_null  number_digits  \\\n",
       "0                   0                   0            0              0   \n",
       "1                  15                   0            0              0   \n",
       "2                   0                   0            0              5   \n",
       "3                  15                   0            0             12   \n",
       "4                   4                   0            0              0   \n",
       "\n",
       "   number_alfabets  \n",
       "0               13  \n",
       "1               54  \n",
       "2                0  \n",
       "3              122  \n",
       "4               34  \n",
       "\n",
       "[5 rows x 25 columns]"
      ]
     },
     "execution_count": 22,
     "metadata": {},
     "output_type": "execute_result"
    }
   ],
   "source": [
    "X_train.head(5)"
   ]
  },
  {
   "cell_type": "markdown",
   "metadata": {},
   "source": [
    "# Combining all the features"
   ]
  },
  {
   "cell_type": "code",
   "execution_count": 23,
   "metadata": {},
   "outputs": [],
   "source": [
    "from scipy.sparse import hstack\n",
    "X_train = hstack((X_train,X_train_query)).tocsr()\n",
    "X_test = hstack((X_test,X_test_query)).tocsr()"
   ]
  },
  {
   "cell_type": "code",
   "execution_count": 24,
   "metadata": {},
   "outputs": [
    {
     "data": {
      "text/plain": [
       "(20698, 50025)"
      ]
     },
     "execution_count": 24,
     "metadata": {},
     "output_type": "execute_result"
    }
   ],
   "source": [
    "X_train.shape"
   ]
  },
  {
   "cell_type": "code",
   "execution_count": 25,
   "metadata": {},
   "outputs": [
    {
     "data": {
      "text/plain": [
       "<20698x50025 sparse matrix of type '<class 'numpy.int64'>'\n",
       "\twith 406886 stored elements in Compressed Sparse Row format>"
      ]
     },
     "execution_count": 25,
     "metadata": {},
     "output_type": "execute_result"
    }
   ],
   "source": [
    "X_train"
   ]
  },
  {
   "cell_type": "markdown",
   "metadata": {},
   "source": [
    "# Applying a baseline model( Logistic regression)"
   ]
  },
  {
   "cell_type": "code",
   "execution_count": 26,
   "metadata": {},
   "outputs": [],
   "source": [
    "from sklearn import preprocessing\n",
    "scaler = preprocessing.StandardScaler(with_mean=False).fit(X_train)\n",
    "X_train = scaler.transform(X_train)\n",
    "\n",
    "scaler = preprocessing.StandardScaler(with_mean=False).fit(X_test)\n",
    "X_test = scaler.transform(X_test)"
   ]
  },
  {
   "cell_type": "code",
   "execution_count": 27,
   "metadata": {},
   "outputs": [],
   "source": [
    "from sklearn.linear_model import SGDClassifier\n",
    "classifier = SGDClassifier(n_jobs=-1,loss = 'log').fit(X_train,Y_train)"
   ]
  },
  {
   "cell_type": "code",
   "execution_count": 28,
   "metadata": {},
   "outputs": [
    {
     "data": {
      "text/plain": [
       "0.9715686274509804"
      ]
     },
     "execution_count": 28,
     "metadata": {},
     "output_type": "execute_result"
    }
   ],
   "source": [
    "classifier.score(X_test, Y_test)"
   ]
  },
  {
   "cell_type": "code",
   "execution_count": 29,
   "metadata": {},
   "outputs": [],
   "source": [
    "from sklearn.metrics import confusion_matrix\n",
    "import seaborn as sns"
   ]
  },
  {
   "cell_type": "code",
   "execution_count": 30,
   "metadata": {},
   "outputs": [],
   "source": [
    "confusionMatrix = confusion_matrix(Y_train,classifier.predict(X_train))"
   ]
  },
  {
   "cell_type": "code",
   "execution_count": 31,
   "metadata": {},
   "outputs": [
    {
     "name": "stdout",
     "output_type": "stream",
     "text": [
      "[[13079     2]\n",
      " [   41  7576]]\n"
     ]
    }
   ],
   "source": [
    "print(confusionMatrix)"
   ]
  },
  {
   "cell_type": "code",
   "execution_count": 32,
   "metadata": {},
   "outputs": [],
   "source": [
    "def display_confusion_matrix(CM):\n",
    "    sns.heatmap(CM, annot=True,fmt=\"d\",cmap='Blues',xticklabels = ['No','Yes'],yticklabels=['No','Yes'])\n",
    "def get_F_1_Score(CM):\n",
    "    TP = CM[1][1]\n",
    "    TN = CM[0][0]\n",
    "    FP = CM[1][0]\n",
    "    FN = CM[0][1]\n",
    "    precision = TP/(TP+FP)\n",
    "    recall = TP/(TP+FN)\n",
    "    f1_score = (2*precision*recall)/(precision+recall)\n",
    "    return f1_score"
   ]
  },
  {
   "cell_type": "code",
   "execution_count": 33,
   "metadata": {},
   "outputs": [
    {
     "data": {
      "image/png": "[encoded data removed]",
      "text/plain": [
       "<Figure size 432x288 with 2 Axes>"
      ]
     },
     "metadata": {
      "needs_background": "light"
     },
     "output_type": "display_data"
    }
   ],
   "source": [
    "display_confusion_matrix(confusionMatrix)"
   ]
  },
  {
   "cell_type": "code",
   "execution_count": 34,
   "metadata": {},
   "outputs": [
    {
     "name": "stdout",
     "output_type": "stream",
     "text": [
      "0.9971701217505758\n"
     ]
    }
   ],
   "source": [
    "print(get_F_1_Score(confusionMatrix))"
   ]
  },
  {
   "cell_type": "code",
   "execution_count": 98,
   "metadata": {},
   "outputs": [],
   "source": [
    "import pandas as pd\n",
    "import numpy as np\n",
    "import nltk\n",
    "import matplotlib.pyplot as plt\n",
    "import seaborn as sns\n",
    "from sklearn.feature_extraction.text import TfidfVectorizer\n",
    "from sklearn.feature_extraction.text import CountVectorizer\n",
    "from sklearn.metrics import confusion_matrix\n",
    "from sklearn import metrics\n",
    "from sklearn.metrics import roc_curve, auc\n",
    "from sklearn.model_selection import train_test_split\n",
    "from sklearn.model_selection import RandomizedSearchCV\n",
    "from sklearn.preprocessing import Normalizer\n",
    "from scipy.sparse import hstack\n",
    "from sklearn.naive_bayes import MultinomialNB\n",
    "from sklearn.svm import SVC\n",
    "from sklearn.linear_model import LogisticRegression"
   ]
  },
  {
   "cell_type": "markdown",
   "metadata": {},
   "source": [
    "## Logistic Regression"
   ]
  },
  {
   "cell_type": "code",
   "execution_count": 102,
   "metadata": {},
   "outputs": [],
   "source": [
    "def LR_RandonSearchCV(X_Tr,Y_Train):\n",
    "    Classifier =   LogisticRegression()\n",
    "    Distributions = dict(C = [0.00001,0.0005, 0.0001,0.001,0.01,0.1,1,10,100])\n",
    "    Classification_RS = RandomizedSearchCV(Classifier, Distributions, cv = 3,scoring = 'roc_auc',n_jobs =-1,n_iter=14,return_train_score = True)\n",
    "    Result_RS = Classification_RS.fit(X_Tr, Y_Train)\n",
    "    Result = pd.DataFrame.from_dict(Result_RS.cv_results_)\n",
    "    return Result,Result_RS"
   ]
  },
  {
   "cell_type": "code",
   "execution_count": 139,
   "metadata": {},
   "outputs": [],
   "source": [
    "def plot_LR_results(Result,classifier):\n",
    "    C = np.log(Result['param_C'].astype('float64'))\n",
    "    Train_auc = Result['mean_train_score']\n",
    "    CV_auc = Result['mean_test_score']\n",
    "    plt.plot(C, Train_auc, label=' kernel Train AUC')\n",
    "    plt.plot(C, CV_auc, label=' kernel CV AUC')\n",
    "    plt.scatter(C, Train_auc, label='kernel Train AUC points')\n",
    "    plt.scatter(C, CV_auc, label='kernel CV AUC points')\n",
    "\n",
    "    plt.legend()\n",
    "    plt.xlabel(\"C: hyperparameter\")\n",
    "    plt.ylabel(\"AUC\")\n",
    "    plt.title(\"Hyper parameter Vs AUC plot(Train-CV Data)\")\n",
    "    plt.grid()\n",
    "    plt.show()"
   ]
  },
  {
   "cell_type": "code",
   "execution_count": 104,
   "metadata": {},
   "outputs": [
    {
     "name": "stderr",
     "output_type": "stream",
     "text": [
      "C:\\Users\\91985\\anaconda3\\lib\\site-packages\\sklearn\\model_selection\\_search.py:278: UserWarning: The total space of parameters 9 is smaller than n_iter=14. Running 9 iterations. For exhaustive searches, use GridSearchCV.\n",
      "  warnings.warn(\n"
     ]
    },
    {
     "name": "stdout",
     "output_type": "stream",
     "text": [
      "   mean_fit_time  std_fit_time  mean_score_time  std_score_time param_C  \\\n",
      "0       1.312098      0.121433         0.026056        0.007229   1e-05   \n",
      "1       2.055602      0.191665         0.015297        0.003599  0.0005   \n",
      "2       1.914284      0.513090         0.026577        0.020519  0.0001   \n",
      "3       1.681427      0.038159         0.041585        0.017537   0.001   \n",
      "4       2.392063      0.099398         0.032229        0.009973    0.01   \n",
      "5       3.936172      0.093466         0.014633        0.001388     0.1   \n",
      "6       4.891327      0.821401         0.025710        0.004105       1   \n",
      "7       6.474047      0.795543         0.021803        0.002008      10   \n",
      "8       6.050201      0.418015         0.008460        0.003766     100   \n",
      "\n",
      "          params  split0_test_score  split1_test_score  split2_test_score  \\\n",
      "0   {'C': 1e-05}           0.997261           0.998567           0.998186   \n",
      "1  {'C': 0.0005}           0.997336           0.998252           0.997894   \n",
      "2  {'C': 0.0001}           0.997461           0.998476           0.998083   \n",
      "3   {'C': 0.001}           0.997046           0.998114           0.997696   \n",
      "4    {'C': 0.01}           0.995230           0.996824           0.996666   \n",
      "5     {'C': 0.1}           0.992423           0.993928           0.994399   \n",
      "6       {'C': 1}           0.985977           0.986541           0.987394   \n",
      "7      {'C': 10}           0.972907           0.972159           0.977353   \n",
      "8     {'C': 100}           0.981197           0.970850           0.962013   \n",
      "\n",
      "   mean_test_score  std_test_score  rank_test_score  split0_train_score  \\\n",
      "0         0.998004        0.000548                2            0.999627   \n",
      "1         0.997827        0.000377                3            0.999732   \n",
      "2         0.998006        0.000418                1            0.999680   \n",
      "3         0.997619        0.000439                4            0.999767   \n",
      "4         0.996240        0.000717                5            0.999906   \n",
      "5         0.993583        0.000843                6            0.999989   \n",
      "6         0.986638        0.000583                7            0.999992   \n",
      "7         0.974140        0.002293                8            0.999994   \n",
      "8         0.971353        0.007840                9            0.999990   \n",
      "\n",
      "   split1_train_score  split2_train_score  mean_train_score  std_train_score  \n",
      "0            0.999427            0.999493          0.999516         0.000083  \n",
      "1            0.999608            0.999647          0.999662         0.000052  \n",
      "2            0.999540            0.999587          0.999602         0.000058  \n",
      "3            0.999653            0.999683          0.999701         0.000048  \n",
      "4            0.999866            0.999854          0.999875         0.000022  \n",
      "5            0.999979            0.999985          0.999984         0.000004  \n",
      "6            0.999982            0.999989          0.999988         0.000004  \n",
      "7            0.999983            0.999989          0.999989         0.000005  \n",
      "8            0.999978            0.999986          0.999985         0.000005  \n"
     ]
    }
   ],
   "source": [
    "Result_LR,classifier = LR_RandonSearchCV(X_train,Y_train)\n",
    "print(Result_LR)"
   ]
  },
  {
   "cell_type": "code",
   "execution_count": 140,
   "metadata": {},
   "outputs": [
    {
     "data": {
      "image/png": "[encoded data removed]",
      "text/plain": [
       "<Figure size 432x288 with 1 Axes>"
      ]
     },
     "metadata": {
      "needs_background": "light"
     },
     "output_type": "display_data"
    }
   ],
   "source": [
    "plot_LR_results(Result_LR,classifier)"
   ]
  },
  {
   "cell_type": "markdown",
   "metadata": {},
   "source": [
    "##### Best Parameters:"
   ]
  },
  {
   "cell_type": "code",
   "execution_count": 116,
   "metadata": {},
   "outputs": [
    {
     "name": "stdout",
     "output_type": "stream",
     "text": [
      "{'C': 0.0001}\n"
     ]
    }
   ],
   "source": [
    "print(classifier.best_params_)"
   ]
  },
  {
   "cell_type": "markdown",
   "metadata": {},
   "source": [
    "##### Train the classifier with the best parameters on the train- data and then Fit it on test data"
   ]
  },
  {
   "cell_type": "code",
   "execution_count": 121,
   "metadata": {},
   "outputs": [
    {
     "data": {
      "text/plain": [
       "LogisticRegression(C=0.0001)"
      ]
     },
     "execution_count": 121,
     "metadata": {},
     "output_type": "execute_result"
    }
   ],
   "source": [
    "Classifier_LR = LogisticRegression(C = 0.0001)\n",
    "Classifier_LR.fit(X_train,Y_train)"
   ]
  },
  {
   "cell_type": "code",
   "execution_count": 122,
   "metadata": {},
   "outputs": [
    {
     "data": {
      "text/plain": [
       "0.9358823529411765"
      ]
     },
     "execution_count": 122,
     "metadata": {},
     "output_type": "execute_result"
    }
   ],
   "source": [
    "Classifier_LR.score(X_test,Y_test)"
   ]
  },
  {
   "cell_type": "markdown",
   "metadata": {},
   "source": [
    "##### Get Confusion Matrix"
   ]
  },
  {
   "cell_type": "code",
   "execution_count": 130,
   "metadata": {},
   "outputs": [],
   "source": [
    "confusionMatrix = confusion_matrix(Y_test,Classifier_LR.predict(X_test))"
   ]
  },
  {
   "cell_type": "code",
   "execution_count": 131,
   "metadata": {},
   "outputs": [
    {
     "data": {
      "image/png": "[encoded data removed]",
      "text/plain": [
       "<Figure size 432x288 with 2 Axes>"
      ]
     },
     "metadata": {
      "needs_background": "light"
     },
     "output_type": "display_data"
    }
   ],
   "source": [
    "display_confusion_matrix(confusionMatrix)"
   ]
  },
  {
   "cell_type": "code",
   "execution_count": 132,
   "metadata": {},
   "outputs": [],
   "source": [
    "tn, fp, fn, tp = confusionMatrix.ravel()"
   ]
  },
  {
   "cell_type": "code",
   "execution_count": 133,
   "metadata": {},
   "outputs": [
    {
     "name": "stdout",
     "output_type": "stream",
     "text": [
      "6445 0 654 3101\n"
     ]
    }
   ],
   "source": [
    "print(tn, fp, fn, tp)"
   ]
  },
  {
   "cell_type": "markdown",
   "metadata": {},
   "source": [
    "##### F1-score"
   ]
  },
  {
   "cell_type": "code",
   "execution_count": 134,
   "metadata": {},
   "outputs": [
    {
     "name": "stdout",
     "output_type": "stream",
     "text": [
      "0.9046091015169195\n"
     ]
    }
   ],
   "source": [
    "print(get_F_1_Score(confusionMatrix))"
   ]
  },
  {
   "cell_type": "markdown",
   "metadata": {},
   "source": [
    "### Observations:\n",
    "#### True-Negative : 6445\n",
    "#### True Positive: 3101\n",
    "#### False Positive: 0\n",
    "#### False Negative: 654\n",
    "\n",
    "#### F1- Score: 0.90461\n"
   ]
  },
  {
   "cell_type": "markdown",
   "metadata": {},
   "source": [
    "### SVM"
   ]
  },
  {
   "cell_type": "code",
   "execution_count": 175,
   "metadata": {},
   "outputs": [],
   "source": [
    "def SVC_RandonSearchCV(X_Tr,Y_Train):\n",
    "    Classifier =  SVC()\n",
    "    Distributions = dict(C = [0.00001,0.0005, 0.0001,0.001,0.01,0.1,1,10,100],kernel =['linear','poly','rbf','sigmoid'])\n",
    "    Classification_RS = RandomizedSearchCV(Classifier, Distributions, cv = 3,scoring = 'roc_auc',n_jobs =-1,n_iter=14,return_train_score = True)\n",
    "    Result_RS = Classification_RS.fit(X_Tr, Y_Train)\n",
    "    Result = pd.DataFrame.from_dict(Result_RS.cv_results_)\n",
    "    return Result,Result_RS"
   ]
  },
  {
   "cell_type": "code",
   "execution_count": 176,
   "metadata": {},
   "outputs": [],
   "source": [
    "def plot_SVM_results(Result):\n",
    "    params = Result['params'].map(lambda x : str(x['C'])+\",\"+str(x['kernel'][0:3]))\n",
    "    Train_auc = Result['mean_train_score']\n",
    "    CV_auc = Result['mean_test_score']\n",
    "    plt.rcParams['figure.figsize'] = [20, 5]\n",
    "    plt.plot(params, Train_auc, label=' C,kernel Train AUC')\n",
    "    plt.plot(params, CV_auc, label=' C,kernel CV AUC')\n",
    "    plt.scatter(params, Train_auc, label='C,kernel Train AUC points')\n",
    "    plt.scatter(params, CV_auc, label='C,kernel CV AUC points')\n",
    "    plt.legend()\n",
    "    plt.xlabel(\"C,kernel : hyperparameter\")\n",
    "    plt.ylabel(\"AUC\")\n",
    "    plt.title(\"Hyper parameter Vs AUC plot(Train-CV Data)\")\n",
    "    plt.grid()\n",
    "    plt.show()"
   ]
  },
  {
   "cell_type": "code",
   "execution_count": 177,
   "metadata": {},
   "outputs": [
    {
     "name": "stdout",
     "output_type": "stream",
     "text": [
      "   param_C param_kernel  mean_train_score  mean_test_score\n",
      "0      0.1       linear          0.999874         0.977199\n",
      "1      100      sigmoid          0.999649         0.989036\n",
      "2      100         poly          0.999674         0.980599\n",
      "3        1       linear          0.999857         0.955345\n",
      "4       10         poly          0.999473         0.982281\n",
      "5    0.001      sigmoid          0.999241         0.995840\n",
      "6        1      sigmoid          0.999529         0.995914\n",
      "7        1          rbf          0.996163         0.965495\n",
      "8      100       linear          0.999877         0.945327\n",
      "9   0.0001         poly          0.998254         0.985088\n",
      "10  0.0005         poly          0.998076         0.984821\n",
      "11  0.0005       linear          0.998944         0.986448\n",
      "12  0.0005      sigmoid          0.999247         0.995830\n",
      "13   1e-05          rbf          0.607453         0.596796\n"
     ]
    }
   ],
   "source": [
    "#For Set 1\n",
    "#Find the Hyperparameter using RandomSearchCv\n",
    "Result_svm,classifier = SVC_RandonSearchCV(X_train,Y_train)\n",
    "print(Result_svm[['param_C','param_kernel','mean_train_score','mean_test_score']])"
   ]
  },
  {
   "cell_type": "code",
   "execution_count": 178,
   "metadata": {},
   "outputs": [
    {
     "data": {
      "image/png": "[encoded data removed]",
      "text/plain": [
       "<Figure size 1440x360 with 1 Axes>"
      ]
     },
     "metadata": {
      "needs_background": "light"
     },
     "output_type": "display_data"
    }
   ],
   "source": [
    "plot_SVM_results(Result_svm)"
   ]
  },
  {
   "cell_type": "markdown",
   "metadata": {},
   "source": [
    "##### Best Parameters:"
   ]
  },
  {
   "cell_type": "code",
   "execution_count": 179,
   "metadata": {},
   "outputs": [
    {
     "name": "stdout",
     "output_type": "stream",
     "text": [
      "{'kernel': 'sigmoid', 'C': 1}\n"
     ]
    }
   ],
   "source": [
    "print(classifier.best_params_)"
   ]
  },
  {
   "cell_type": "markdown",
   "metadata": {},
   "source": [
    "##### Train the classifier with the best parameters on the train- data and then Fit it on test data"
   ]
  },
  {
   "cell_type": "code",
   "execution_count": 180,
   "metadata": {},
   "outputs": [],
   "source": [
    "Classifier =  SVC(kernel = 'sigmoid', C= 1)\n",
    "Cls = Classifier.fit(X_train,Y_train)"
   ]
  },
  {
   "cell_type": "code",
   "execution_count": 181,
   "metadata": {},
   "outputs": [
    {
     "data": {
      "text/plain": [
       "0.9403921568627451"
      ]
     },
     "execution_count": 181,
     "metadata": {},
     "output_type": "execute_result"
    }
   ],
   "source": [
    "Cls.score(X_test, Y_test)"
   ]
  },
  {
   "cell_type": "markdown",
   "metadata": {},
   "source": [
    "##### Get Confusion Matrix"
   ]
  },
  {
   "cell_type": "code",
   "execution_count": 182,
   "metadata": {},
   "outputs": [],
   "source": [
    "confusionMatrix = confusion_matrix(Y_test,Cls.predict(X_test))"
   ]
  },
  {
   "cell_type": "code",
   "execution_count": 183,
   "metadata": {},
   "outputs": [
    {
     "data": {
      "image/png": "[encoded data removed]",
      "text/plain": [
       "<Figure size 1440x360 with 2 Axes>"
      ]
     },
     "metadata": {
      "needs_background": "light"
     },
     "output_type": "display_data"
    }
   ],
   "source": [
    "display_confusion_matrix(confusionMatrix)"
   ]
  },
  {
   "cell_type": "markdown",
   "metadata": {},
   "source": [
    "##### Get F1-score"
   ]
  },
  {
   "cell_type": "code",
   "execution_count": 184,
   "metadata": {},
   "outputs": [
    {
     "name": "stdout",
     "output_type": "stream",
     "text": [
      "0.911909591422776\n"
     ]
    }
   ],
   "source": [
    "print(get_F_1_Score(confusionMatrix))"
   ]
  },
  {
   "cell_type": "markdown",
   "metadata": {},
   "source": [
    "### Observations:\n",
    "#### True-Negative : 6445\n",
    "#### True Positive: 3147\n",
    "#### False Positive: 0\n",
    "#### False Negative: 608\n",
    "\n",
    "#### F1- Score: 0.91191\n"
   ]
  },
  {
   "cell_type": "markdown",
   "metadata": {},
   "source": [
    "### Naive Baye's\n"
   ]
  },
  {
   "cell_type": "code",
   "execution_count": 78,
   "metadata": {},
   "outputs": [],
   "source": [
    "#Applying MultinomialClassification with RandomSearch CV\n",
    "def multinomialNB_RandonSearchCV(X_Tr,Y_Train):\n",
    "    Classifier =  MultinomialNB()\n",
    "    Distributions = dict(alpha = [0.00001,0.0005, 0.0001,0.005,0.001,0.05,0.01,0.1,0.5,1,5,10,50,100])\n",
    "    Classification_RS = RandomizedSearchCV(Classifier, Distributions, cv = 9,scoring = 'roc_auc',n_jobs =-1,n_iter=14,return_train_score = True)\n",
    "    Result_RS = Classification_RS.fit(X_Tr, Y_Train)\n",
    "    Result = pd.DataFrame.from_dict(Result_RS.cv_results_)\n",
    "    print(Result[['param_alpha','mean_train_score','mean_test_score']])\n",
    "    Alpha = np.log(Result['param_alpha'].astype('float64'))\n",
    "    Train_auc = Result['mean_train_score']\n",
    "    CV_auc = Result['mean_test_score']\n",
    "\n",
    "    plt.plot(Alpha, Train_auc, label='Train AUC')\n",
    "    # this code is copied from here: https://stackoverflow.com/a/48803361/4084039\n",
    "    # plt.gca().fill_between(K, train_auc - train_auc_std,train_auc + train_auc_std,alpha=0.2,color='darkblue')\n",
    "\n",
    "    plt.plot(Alpha, CV_auc, label='CV AUC')\n",
    "    # this code is copied from here: https://stackoverflow.com/a/48803361/4084039\n",
    "    # plt.gca().fill_between(K, cv_auc - cv_auc_std,cv_auc + cv_auc_std,alpha=0.2,color='darkorange')\n",
    "\n",
    "    plt.scatter(Alpha, Train_auc, label='Train AUC points')\n",
    "    plt.scatter(Alpha, CV_auc, label='CV AUC points')\n",
    "\n",
    "\n",
    "    plt.legend()\n",
    "    plt.xlabel(\"alpha: hyperparameter\")\n",
    "    plt.ylabel(\"AUC\")\n",
    "    plt.title(\"Hyper parameter Vs AUC plot(Train-CV Data)\")\n",
    "    plt.grid()\n",
    "    plt.show()\n",
    "    print(\"Best alpha:\" , Result_RS.best_params_['alpha'])\n",
    "    return Result_RS.best_params_['alpha']"
   ]
  },
  {
   "cell_type": "code",
   "execution_count": 79,
   "metadata": {},
   "outputs": [
    {
     "name": "stdout",
     "output_type": "stream",
     "text": [
      "   param_alpha  mean_train_score  mean_test_score\n",
      "0        1e-05          0.993055         0.903420\n",
      "1       0.0005          0.993055         0.903742\n",
      "2       0.0001          0.993055         0.903561\n",
      "3        0.005          0.993045         0.904090\n",
      "4        0.001          0.993055         0.903864\n",
      "5         0.05          0.993037         0.904348\n",
      "6         0.01          0.993043         0.904374\n",
      "7          0.1          0.993036         0.904627\n",
      "8          0.5          0.993041         0.903959\n",
      "9            1          0.993039         0.904031\n",
      "10           5          0.993438         0.903950\n",
      "11          10          0.994792         0.903578\n",
      "12          50          0.995346         0.962803\n",
      "13         100          0.995913         0.972994\n"
     ]
    },
    {
     "data": {
      "image/png": "[encoded data removed]",
      "text/plain": [
       "<Figure size 432x288 with 1 Axes>"
      ]
     },
     "metadata": {
      "needs_background": "light"
     },
     "output_type": "display_data"
    },
    {
     "name": "stdout",
     "output_type": "stream",
     "text": [
      "Best alpha: 100\n"
     ]
    }
   ],
   "source": [
    "#For Set 1\n",
    "#Find the Hyperparameter using RandomSearchCv\n",
    "BestParameter = multinomialNB_RandonSearchCV(X_train,Y_train)"
   ]
  },
  {
   "cell_type": "markdown",
   "metadata": {},
   "source": [
    "##### Training the model with the best alpha"
   ]
  },
  {
   "cell_type": "code",
   "execution_count": 83,
   "metadata": {},
   "outputs": [
    {
     "data": {
      "text/plain": [
       "0.9626470588235294"
      ]
     },
     "execution_count": 83,
     "metadata": {},
     "output_type": "execute_result"
    }
   ],
   "source": [
    "Classifier =  MultinomialNB(alpha = 100)\n",
    "Result_RS = Classifier.fit(X_train,Y_train)\n",
    "Classifier.score(X_test, Y_test)"
   ]
  },
  {
   "cell_type": "markdown",
   "metadata": {},
   "source": [
    "##### Generating the confusion matrix"
   ]
  },
  {
   "cell_type": "code",
   "execution_count": 84,
   "metadata": {},
   "outputs": [],
   "source": [
    "confusionMatrix = confusion_matrix(Y_test,classifier.predict(X_test))"
   ]
  },
  {
   "cell_type": "code",
   "execution_count": 85,
   "metadata": {},
   "outputs": [
    {
     "data": {
      "image/png": "[encoded data removed]",
      "text/plain": [
       "<Figure size 432x288 with 2 Axes>"
      ]
     },
     "metadata": {
      "needs_background": "light"
     },
     "output_type": "display_data"
    }
   ],
   "source": [
    "display_confusion_matrix(confusionMatrix)"
   ]
  },
  {
   "cell_type": "markdown",
   "metadata": {},
   "source": [
    "##### Getting F1-Score"
   ]
  },
  {
   "cell_type": "code",
   "execution_count": 86,
   "metadata": {},
   "outputs": [
    {
     "name": "stdout",
     "output_type": "stream",
     "text": [
      "0.9787120096398447\n"
     ]
    }
   ],
   "source": [
    "print(get_F_1_Score(confusionMatrix))"
   ]
  },
  {
   "cell_type": "markdown",
   "metadata": {},
   "source": [
    "### Observations:\n",
    "#### True-Negative : 6386\n",
    "#### True Positive: 3655\n",
    "#### False Positive: 59\n",
    "#### False Negative: 100\n",
    "\n",
    "#### F1- Score: 0.97871\n"
   ]
  },
  {
   "cell_type": "markdown",
   "metadata": {},
   "source": [
    "### XGBoost"
   ]
  },
  {
   "cell_type": "code",
   "execution_count": 51,
   "metadata": {},
   "outputs": [],
   "source": [
    "import xgboost as xgb"
   ]
  },
  {
   "cell_type": "code",
   "execution_count": 54,
   "metadata": {},
   "outputs": [],
   "source": [
    "def find_best_GBDT_classifier(X_train,Y_train,params):\n",
    "    classifier = xgb.XGBClassifier()\n",
    "    classifierGridSearch = RandomizedSearchCV(classifier,params,n_jobs=-1,cv =3,scoring = 'roc_auc',return_train_score=True)\n",
    "    result_RS = classifierGridSearch.fit(X_train,Y_train)\n",
    "    result = pd.DataFrame.from_dict(result_RS.cv_results_)\n",
    "    return result,classifierGridSearch.best_params_"
   ]
  },
  {
   "cell_type": "code",
   "execution_count": 55,
   "metadata": {},
   "outputs": [
    {
     "name": "stderr",
     "output_type": "stream",
     "text": [
      "C:\\Users\\91985\\anaconda3\\lib\\site-packages\\xgboost\\sklearn.py:1146: UserWarning: The use of label encoder in XGBClassifier is deprecated and will be removed in a future release. To remove this warning, do the following: 1) Pass option use_label_encoder=False when constructing XGBClassifier object; and 2) Encode your labels (y) as integers starting with 0, i.e. 0, 1, 2, ..., [num_class - 1].\n",
      "  warnings.warn(label_encoder_deprecation_msg, UserWarning)\n"
     ]
    },
    {
     "name": "stdout",
     "output_type": "stream",
     "text": [
      "[14:11:19] WARNING: C:/Users/Administrator/workspace/xgboost-win64_release_1.4.0/src/learner.cc:1095: Starting in XGBoost 1.3.0, the default evaluation metric used with the objective 'binary:logistic' was changed from 'error' to 'logloss'. Explicitly set eval_metric if you'd like to restore the old behavior.\n",
      "Best Found Parameters:\t {'n_estimators': 100, 'learning_rate': 0.1}\n"
     ]
    }
   ],
   "source": [
    "params = {'n_estimators':[5,10,50,75,100],'learning_rate':[0.0001,0.001,0.01,0.1,0.2,0.3]}\n",
    "cv_results_set_1,best_params_set_1 = find_best_GBDT_classifier(X_train,Y_train,params)\n",
    "print(\"Best Found Parameters:\\t\",best_params_set_1)"
   ]
  },
  {
   "cell_type": "code",
   "execution_count": 74,
   "metadata": {},
   "outputs": [],
   "source": [
    "def plot_XGBoost_results(Result):\n",
    "    params = Result['params'].map(lambda x : str(x['n_estimators'])+\",\"+str(x['learning_rate']))\n",
    "    Train_auc = Result['mean_train_score']\n",
    "    CV_auc = Result['mean_test_score']\n",
    "    plt.plot(params, Train_auc, label=' kernel Train AUC')\n",
    "    plt.plot(params, CV_auc, label=' kernel CV AUC')\n",
    "    plt.scatter(params, Train_auc, label='kernel Train AUC points')\n",
    "    plt.scatter(params, CV_auc, label='kernel CV AUC points')\n",
    "\n",
    "    plt.legend()\n",
    "    plt.xlabel(\"alpha: hyperparameter\")\n",
    "    plt.ylabel(\"AUC\")\n",
    "    plt.title(\"Hyper parameter Vs AUC plot(Train-CV Data)\")\n",
    "    plt.grid()\n",
    "    plt.show()"
   ]
  },
  {
   "cell_type": "code",
   "execution_count": 75,
   "metadata": {},
   "outputs": [
    {
     "name": "stdout",
     "output_type": "stream",
     "text": [
      "<class 'pandas.core.series.Series'>\n"
     ]
    },
    {
     "data": {
      "image/png": "[encoded data removed]",
      "text/plain": [
       "<Figure size 432x288 with 1 Axes>"
      ]
     },
     "metadata": {
      "needs_background": "light"
     },
     "output_type": "display_data"
    }
   ],
   "source": [
    "plot_XGBoost_results(cv_results_set_1)"
   ]
  },
  {
   "cell_type": "markdown",
   "metadata": {},
   "source": [
    "##### Training the model with the best n_estimators and learning_rate"
   ]
  },
  {
   "cell_type": "code",
   "execution_count": 79,
   "metadata": {},
   "outputs": [
    {
     "name": "stdout",
     "output_type": "stream",
     "text": [
      "[14:23:27] WARNING: C:/Users/Administrator/workspace/xgboost-win64_release_1.4.0/src/learner.cc:1095: Starting in XGBoost 1.3.0, the default evaluation metric used with the objective 'binary:logistic' was changed from 'error' to 'logloss'. Explicitly set eval_metric if you'd like to restore the old behavior.\n"
     ]
    }
   ],
   "source": [
    "classifier = xgb.XGBClassifier(n_estimators=100,learning_rate=0.1)\n",
    "classifier.fit(X_train,Y_train)\n",
    "prediction = classifier.predict(X_test)"
   ]
  },
  {
   "cell_type": "markdown",
   "metadata": {},
   "source": [
    "##### Generating Confusion Matrix"
   ]
  },
  {
   "cell_type": "code",
   "execution_count": 80,
   "metadata": {},
   "outputs": [],
   "source": [
    "confusionMatrix = confusion_matrix(Y_test,classifier.predict(X_test))"
   ]
  },
  {
   "cell_type": "code",
   "execution_count": 81,
   "metadata": {},
   "outputs": [
    {
     "data": {
      "image/png": "[encoded data removed]",
      "text/plain": [
       "<Figure size 432x288 with 2 Axes>"
      ]
     },
     "metadata": {
      "needs_background": "light"
     },
     "output_type": "display_data"
    }
   ],
   "source": [
    "display_confusion_matrix(confusionMatrix)"
   ]
  },
  {
   "cell_type": "markdown",
   "metadata": {},
   "source": [
    "##### Getting F1-score"
   ]
  },
  {
   "cell_type": "code",
   "execution_count": 82,
   "metadata": {},
   "outputs": [
    {
     "name": "stdout",
     "output_type": "stream",
     "text": [
      "0.9954569748797434\n"
     ]
    }
   ],
   "source": [
    "print(get_F_1_Score(confusionMatrix))"
   ]
  },
  {
   "cell_type": "markdown",
   "metadata": {},
   "source": [
    "### Observations:\n",
    "#### True-Negative : 6441\n",
    "#### True Positive: 3725\n",
    "#### False Positive: 4\n",
    "#### False Negative: 30\n",
    "\n",
    "#### F1- Score: 0.99547\n"
   ]
  },
  {
   "cell_type": "markdown",
   "metadata": {},
   "source": [
    "# Observation:\n",
    "## 1. The best model is XGBoost with the F1-score of 0.9954, we also see a very very low False positive rate and False negative rate and hence we can say that XGBoost is our best performing model."
   ]
  },
  {
   "cell_type": "code",
   "execution_count": null,
   "metadata": {},
   "outputs": [],
   "source": []
  }
 ],
 "metadata": {
  "kernelspec": {
   "display_name": "Python 3",
   "language": "python",
   "name": "python3"
  },
  "language_info": {
   "codemirror_mode": {
    "name": "ipython",
    "version": 3
   },
   "file_extension": ".py",
   "mimetype": "text/x-python",
   "name": "python",
   "nbconvert_exporter": "python",
   "pygments_lexer": "ipython3",
   "version": "3.8.5"
  }
 },
 "nbformat": 4,
 "nbformat_minor": 4
}
