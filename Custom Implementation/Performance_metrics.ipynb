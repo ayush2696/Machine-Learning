{
 "cells": [
  {
   "cell_type": "markdown",
   "metadata": {
    "colab_type": "text",
    "id": "s0Ej_bXyQvnV"
   },
   "source": [
    "# Compute performance metrics for the given Y and Y_score without sklearn"
   ]
  },
  {
   "cell_type": "code",
   "execution_count": 86,
   "metadata": {
    "colab": {},
    "colab_type": "code",
    "id": "4CHb6NE7Qvnc"
   },
   "outputs": [],
   "source": [
    "import numpy as np\n",
    "import pandas as pd\n",
    "from tqdm import tqdm\n",
    "# other than these two you should not import any other packages"
   ]
  },
  {
   "cell_type": "markdown",
   "metadata": {
    "colab_type": "text",
    "id": "KbsWXuDaQvnq"
   },
   "source": [
    "<pre>\n",
    "<font color='red'><b>A.</b></font> Compute performance metrics for the given data <strong>5_a.csv</strong>\n",
    "   <b>Note 1:</b> in this data you can see number of positive points >> number of negatives points\n",
    "   <b>Note 2:</b> use pandas or numpy to read the data from <b>5_a.csv</b>\n",
    "   <b>Note 3:</b> you need to derive the class labels from given score</pre> $y^{pred}= \\text{[0 if y_score < 0.5 else 1]}$\n",
    "\n",
    "<pre>\n",
    "<ol>\n",
    "<li> Compute Confusion Matrix </li>\n",
    "<li> Compute F1 Score </li>\n",
    "<li> Compute AUC Score, you need to compute different thresholds and for each threshold compute tpr,fpr and then use               numpy.trapz(tpr_array, fpr_array) <a href='https://stackoverflow.com/q/53603376/4084039'>https://stackoverflow.com/q/53603376/4084039</a>, <a href='https://stackoverflow.com/a/39678975/4084039'>https://stackoverflow.com/a/39678975/4084039</a> Note: it should be numpy.trapz(tpr_array, fpr_array) not numpy.trapz(fpr_array, tpr_array)</li>\n",
    "<li> Compute Accuracy Score </li>\n",
    "</ol>\n",
    "</pre>"
   ]
  },
  {
   "cell_type": "code",
   "execution_count": 87,
   "metadata": {},
   "outputs": [],
   "source": [
    "def calculateConfusionMatrix(y,proba,threshold):\n",
    "    ypred = proba.apply(lambda prob: 1 if prob>threshold else 0)\n",
    "    data = pd.concat([y,ypred],keys=['y','ypred'],axis = 1)\n",
    "    TN = len(data[lambda row : (row.ypred == 0) & (row.y == 0)]);\n",
    "    #print(TN)\n",
    "    FN = len(data[lambda row : (row.ypred == 0) & (row.y == 1)]);\n",
    "    #print(FN)\n",
    "    TP = len(data[lambda row : (row.ypred == 1) & (row.y == 1)]);\n",
    "    #print(TP)\n",
    "    FP = len(data[lambda row : (row.ypred == 1) & (row.y == 0)]);\n",
    "    confusion_matrix = [[TN,FN],[FP,TP]];\n",
    "    return confusion_matrix;\n",
    "\n",
    "def calculate_auc(data):\n",
    "    #sort proba values\n",
    "    data = data.sort_values(by = ['proba'],ascending = [False]);\n",
    "    thresholds = data.proba.unique();\n",
    "    confusionMatrix = [];\n",
    "    tpr_array = [];\n",
    "    fpr_array = [];\n",
    "    for threshold in tqdm(thresholds):\n",
    "        confusionMatrix=calculateConfusionMatrix(data.y,data.proba,threshold);\n",
    "        TPR = confusionMatrix[1][1]/(confusionMatrix[1][1]+confusionMatrix[0][1]);\n",
    "        FPR = confusionMatrix[1][0]/(confusionMatrix[0][0]+confusionMatrix[1][0]);\n",
    "        tpr_array.append(TPR);\n",
    "        fpr_array.append(FPR);      \n",
    "    return np.trapz(tpr_array,fpr_array);\n",
    "    \n",
    "    "
   ]
  },
  {
   "cell_type": "code",
   "execution_count": 88,
   "metadata": {
    "colab": {},
    "colab_type": "code",
    "id": "WaFLW7oBQvnt"
   },
   "outputs": [
    {
     "name": "stderr",
     "output_type": "stream",
     "text": [
      "  0%|                                                                                | 5/10100 [00:00<03:42, 45.44it/s]"
     ]
    },
    {
     "name": "stdout",
     "output_type": "stream",
     "text": [
      "     y     proba\n",
      "0  1.0  0.637387\n",
      "1  1.0  0.635165\n",
      "2  1.0  0.766586\n",
      "3  1.0  0.724564\n",
      "4  1.0  0.889199\n",
      "1.0    10000\n",
      "0.0      100\n",
      "Name: y, dtype: int64\n",
      "Confusion Matrix :  [[0, 0], [100, 10000]]\n",
      "precision:  0.9900990099009901\n",
      "recall:  1.0\n",
      "f1_score:  0.9950248756218906\n"
     ]
    },
    {
     "name": "stderr",
     "output_type": "stream",
     "text": [
      "100%|████████████████████████████████████████████████████████████████████████████| 10100/10100 [04:07<00:00, 40.78it/s]"
     ]
    },
    {
     "name": "stdout",
     "output_type": "stream",
     "text": [
      "AUC:  0.48829900000000004\n",
      "accuracy: 0.9900990099009901\n"
     ]
    },
    {
     "name": "stderr",
     "output_type": "stream",
     "text": [
      "\n"
     ]
    }
   ],
   "source": [
    "# write your code here\n",
    "data = pd.read_csv(\"5_a.csv\");\n",
    "print(data.head(5));\n",
    "print(data['y'].value_counts());\n",
    "data['ypred'] = data['proba'].apply(lambda prob : 1 if prob >= 0.5 else 0);\n",
    "#confusion Matrix\n",
    "#[TN,FN]\n",
    "#[FP,TP]\n",
    "confusionMatrix = calculateConfusionMatrix(data.y,data.proba,0.5);\n",
    "print( \"Confusion Matrix : \",confusionMatrix);\n",
    "\n",
    "precision = (confusionMatrix[1][1]/(confusionMatrix[1][0]+confusionMatrix[1][1]));\n",
    "print(\"precision: \", precision);\n",
    "\n",
    "recall = (confusionMatrix[1][1]/(confusionMatrix[0][1]+confusionMatrix[1][1]));\n",
    "print(\"recall: \", recall);\n",
    "\n",
    "f1_score = 2*((precision*recall)/(precision+recall))\n",
    "print(\"f1_score: \", f1_score);\n",
    "\n",
    "#calculate AUC \n",
    "auc = calculate_auc(data);\n",
    "print(\"AUC: \", auc);\n",
    "\n",
    "#accuracy = (correctly classified points/totoal number of points)\n",
    "accuracy = (confusionMatrix[0][0]+confusionMatrix[1][1])/(len(data));\n",
    "print(\"accuracy:\",accuracy);"
   ]
  },
  {
   "cell_type": "markdown",
   "metadata": {
    "colab_type": "text",
    "id": "V5KZem1BQvn2"
   },
   "source": [
    "<pre>\n",
    "<font color='red'><b>B.</b></font> Compute performance metrics for the given data <strong>5_b.csv</strong>\n",
    "   <b>Note 1:</b> in this data you can see number of positive points << number of negatives points\n",
    "   <b>Note 2:</b> use pandas or numpy to read the data from <b>5_b.csv</b>\n",
    "   <b>Note 3:</b> you need to derive the class labels from given score</pre> $y^{pred}= \\text{[0 if y_score < 0.5 else 1]}$\n",
    "\n",
    "<pre>\n",
    "<ol>\n",
    "<li> Compute Confusion Matrix </li>\n",
    "<li> Compute F1 Score </li>\n",
    "<li> Compute AUC Score, you need to compute different thresholds and for each threshold compute tpr,fpr and then use               numpy.trapz(tpr_array, fpr_array) <a href='https://stackoverflow.com/q/53603376/4084039'>https://stackoverflow.com/q/53603376/4084039</a>, <a href='https://stackoverflow.com/a/39678975/4084039'>https://stackoverflow.com/a/39678975/4084039</a></li>\n",
    "<li> Compute Accuracy Score </li>\n",
    "</ol>\n",
    "</pre>"
   ]
  },
  {
   "cell_type": "code",
   "execution_count": 89,
   "metadata": {
    "colab": {},
    "colab_type": "code",
    "id": "U2sKlq0YQvn5"
   },
   "outputs": [
    {
     "name": "stderr",
     "output_type": "stream",
     "text": [
      "  0%|                                                                                | 6/10100 [00:00<02:55, 57.36it/s]"
     ]
    },
    {
     "name": "stdout",
     "output_type": "stream",
     "text": [
      "0.0    10000\n",
      "1.0      100\n",
      "Name: y, dtype: int64\n",
      "Confusion Matrix :  [[9761, 45], [239, 55]]\n",
      "precision:  0.1870748299319728\n",
      "recall:  0.55\n",
      "f1_score:  0.2791878172588833\n"
     ]
    },
    {
     "name": "stderr",
     "output_type": "stream",
     "text": [
      "100%|████████████████████████████████████████████████████████████████████████████| 10100/10100 [02:28<00:00, 67.90it/s]"
     ]
    },
    {
     "name": "stdout",
     "output_type": "stream",
     "text": [
      "AUC:  0.9376570000000001\n",
      "accuracy: 0.9718811881188119\n"
     ]
    },
    {
     "name": "stderr",
     "output_type": "stream",
     "text": [
      "\n"
     ]
    }
   ],
   "source": [
    "# write your code\n",
    "data = pd.read_csv(\"5_b.csv\");\n",
    "print(data['y'].value_counts());\n",
    "\n",
    "confusionMatrix = calculateConfusionMatrix(data.y,data.proba,0.5);\n",
    "print( \"Confusion Matrix : \",confusionMatrix);\n",
    "\n",
    "precision = (confusionMatrix[1][1]/(confusionMatrix[1][0]+confusionMatrix[1][1]));\n",
    "print(\"precision: \", precision);\n",
    "\n",
    "recall = (confusionMatrix[1][1]/(confusionMatrix[0][1]+confusionMatrix[1][1]));\n",
    "print(\"recall: \", recall);\n",
    "\n",
    "f1_score = 2*((precision*recall)/(precision+recall));\n",
    "print(\"f1_score: \", f1_score);\n",
    "\n",
    "#calculate AUC \n",
    "auc = calculate_auc(data);\n",
    "print(\"AUC: \", auc);\n",
    "\n",
    "#accuracy = (correctly classified points/totoal number of points)\n",
    "accuracy = (confusionMatrix[0][0]+confusionMatrix[1][1])/(len(data));\n",
    "print(\"accuracy:\",accuracy);"
   ]
  },
  {
   "cell_type": "markdown",
   "metadata": {
    "colab_type": "text",
    "id": "GiPGonTzQvoB"
   },
   "source": [
    "<font color='red'><b>C.</b></font> Compute the best threshold (similarly to ROC curve computation) of probability which gives lowest values of metric <b>A</b> for the given data <strong>5_c.csv</strong>\n",
    "<br>\n",
    "\n",
    "you will be predicting label of a data points like this: $y^{pred}= \\text{[0 if y_score < threshold  else 1]}$\n",
    "\n",
    "$ A = 500 \\times \\text{number of false negative} + 100 \\times \\text{numebr of false positive}$\n",
    "\n",
    "<pre>\n",
    "   <b>Note 1:</b> in this data you can see number of negative points > number of positive points\n",
    "   <b>Note 2:</b> use pandas or numpy to read the data from <b>5_c.csv</b>\n",
    "</pre>"
   ]
  },
  {
   "cell_type": "code",
   "execution_count": 84,
   "metadata": {},
   "outputs": [],
   "source": [
    "def calculateBestThreshold(data):\n",
    "    data = data.sort_values(by = ['prob'],ascending = [False])\n",
    "    thresholds = data.prob.unique();\n",
    "    minA = -1\n",
    "    minThreshold = -1\n",
    "    for threshold in tqdm(thresholds):\n",
    "        confusionMatrix=calculateConfusionMatrix(data.y,data.prob,threshold);\n",
    "        FN = confusionMatrix[0][1]\n",
    "        FP = confusionMatrix[1][0]\n",
    "        A = 500*FN + 100*FP;\n",
    "        if(minA == -1):\n",
    "            minA = A\n",
    "            minThreshold = threshold\n",
    "        if(A < minA):\n",
    "            minA = A\n",
    "            minThreshold = threshold\n",
    "    return minThreshold"
   ]
  },
  {
   "cell_type": "code",
   "execution_count": 85,
   "metadata": {
    "colab": {},
    "colab_type": "code",
    "id": "x5HIJzq1QvoE"
   },
   "outputs": [
    {
     "name": "stderr",
     "output_type": "stream",
     "text": [
      "  0%|▎                                                                              | 13/2791 [00:00<00:22, 121.46it/s]"
     ]
    },
    {
     "name": "stdout",
     "output_type": "stream",
     "text": [
      "                 y         prob\n",
      "count  2852.000000  2852.000000\n",
      "mean      0.367111     0.370069\n",
      "std       0.482102     0.207414\n",
      "min       0.000000     0.028038\n",
      "25%       0.000000     0.201460\n",
      "50%       0.000000     0.336935\n",
      "75%       1.000000     0.509001\n",
      "max       1.000000     0.957747\n",
      "0    1805\n",
      "1    1047\n",
      "Name: y, dtype: int64\n"
     ]
    },
    {
     "name": "stderr",
     "output_type": "stream",
     "text": [
      "100%|█████████████████████████████████████████████████████████████████████████████| 2791/2791 [00:25<00:00, 109.98it/s]"
     ]
    },
    {
     "name": "stdout",
     "output_type": "stream",
     "text": [
      "Best Threshold : 0.22987164436159915\n"
     ]
    },
    {
     "name": "stderr",
     "output_type": "stream",
     "text": [
      "\n"
     ]
    }
   ],
   "source": [
    " # write your code\n",
    "data = pd.read_csv(\"5_c.csv\");\n",
    "print(data.describe())\n",
    "print(data['y'].value_counts());\n",
    "optimalThreshold = calculateBestThreshold(data);\n",
    "print(\"Best Threshold :\",optimalThreshold);"
   ]
  },
  {
   "cell_type": "markdown",
   "metadata": {
    "colab_type": "text",
    "id": "sD4CcgjXQvoL"
   },
   "source": [
    "<pre>\n",
    "<font color='red'><b>D.</b></font> Compute performance metrics(for regression) for the given data <strong>5_d.csv</strong>\n",
    "    <b>Note 2:</b> use pandas or numpy to read the data from <b>5_d.csv</b>\n",
    "    <b>Note 1:</b> <b>5_d.csv</b> will having two columns Y and predicted_Y both are real valued features\n",
    "<ol>\n",
    "<li> Compute Mean Square Error </li>\n",
    "<li> Compute MAPE: https://www.youtube.com/watch?v=ly6ztgIkUxk</li>\n",
    "<li> Compute R^2 error: https://en.wikipedia.org/wiki/Coefficient_of_determination#Definitions </li>\n",
    "</ol>\n",
    "</pre>"
   ]
  },
  {
   "cell_type": "code",
   "execution_count": 131,
   "metadata": {},
   "outputs": [],
   "source": [
    "def absoluteDifference(num1,num2):\n",
    "    if(num1 > num2):\n",
    "        return num1 - num2\n",
    "    return num2 - num1\n",
    "\n",
    "def calculateMeanSquaredError(data):\n",
    "    squaredError = data.apply(lambda row: (row['y'] - row['pred'])**2, axis = 1)\n",
    "    return squaredError.mean()\n",
    "\n",
    "def calculateMAPE(data):\n",
    "    absDiff = data.apply( lambda row: absoluteDifference(row.y,row.pred),axis = 1 )\n",
    "    data['absDiff'] = absDiff\n",
    "    return (data['absDiff'].sum())/(data['y'].sum())\n",
    "    \n",
    "def calculateR2(data):\n",
    "    meanOfActualValue = data['y'].mean();\n",
    "    SSres = data.apply(lambda row: (row['y'] - row['pred'])**2, axis = 1)\n",
    "    SStotal = data.apply(lambda row: (row['y'] - meanOfActualValue)**2, axis = 1)\n",
    "    return 1 - (SSres.sum()/SStotal.sum())\n",
    "    "
   ]
  },
  {
   "cell_type": "code",
   "execution_count": 132,
   "metadata": {},
   "outputs": [
    {
     "name": "stdout",
     "output_type": "stream",
     "text": [
      "       y   pred\n",
      "0  101.0  100.0\n",
      "1  120.0  100.0\n",
      "2  131.0  113.0\n",
      "3  164.0  125.0\n",
      "4  154.0  152.0\n",
      "Mean Squared Error:  177.16569974554707\n",
      "MAPE: 0.1291202994009687\n",
      "R^2: 0.9563582786990937\n"
     ]
    }
   ],
   "source": [
    "data = pd.read_csv(\"5_d.csv\");\n",
    "print(data.head(5))\n",
    "meanSquaredError = calculateMeanSquaredError(data);\n",
    "print(\"Mean Squared Error: \",meanSquaredError )\n",
    "\n",
    "mape = calculateMAPE(data) \n",
    "print(\"MAPE:\",mape)\n",
    "\n",
    "r2 = calculateR2(data);\n",
    "print(\"R^2:\",r2)"
   ]
  }
 ],
 "metadata": {
  "colab": {
   "collapsed_sections": [],
   "name": "5_Performance_metrics_Instructions.ipynb",
   "provenance": []
  },
  "kernelspec": {
   "display_name": "Python 3",
   "language": "python",
   "name": "python3"
  },
  "language_info": {
   "codemirror_mode": {
    "name": "ipython",
    "version": 3
   },
   "file_extension": ".py",
   "mimetype": "text/x-python",
   "name": "python",
   "nbconvert_exporter": "python",
   "pygments_lexer": "ipython3",
   "version": "3.8.5"
  }
 },
 "nbformat": 4,
 "nbformat_minor": 1
}
