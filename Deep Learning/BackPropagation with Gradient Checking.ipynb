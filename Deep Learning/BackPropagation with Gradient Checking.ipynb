{
 "cells": [
  {
   "cell_type": "markdown",
   "metadata": {
    "id": "y871RZtRhCEH"
   },
   "source": [
    "# <font color='red'>BackPropagation</font>"
   ]
  },
  {
   "cell_type": "markdown",
   "metadata": {
    "id": "LqePYi-4mFvK"
   },
   "source": [
    "**There will be some functions that start with the word \"grader\" ex: grader_sigmoid(), grader_forwardprop(), grader_backprop() etc, you should not change those function definition.<br><br>Every Grader function has to return True.**"
   ]
  },
  {
   "cell_type": "markdown",
   "metadata": {
    "id": "0huUQ0byiI0I"
   },
   "source": [
    "## <font color='red'>Loading data </font>"
   ]
  },
  {
   "cell_type": "code",
   "execution_count": 1,
   "metadata": {
    "colab": {
     "base_uri": "https://localhost:8080/",
     "height": 50
    },
    "id": "1hSje5CBgcUb",
    "outputId": "66535fa5-f8a2-4792-bc62-7842c93480f7"
   },
   "outputs": [
    {
     "name": "stdout",
     "output_type": "stream",
     "text": [
      "(506, 6)\n",
      "(506, 5) (506,)\n"
     ]
    }
   ],
   "source": [
    "import pickle\n",
    "import numpy as np\n",
    "from tqdm import tqdm\n",
    "import matplotlib.pyplot as plt\n",
    "import math\n",
    "import numpy as np\n",
    "with open('data.pkl', 'rb') as f:\n",
    "    data = pickle.load(f)\n",
    "print(data.shape)\n",
    "X = data[:, :5]\n",
    "y = data[:, -1]\n",
    "print(X.shape, y.shape)"
   ]
  },
  {
   "cell_type": "markdown",
   "metadata": {
    "id": "5JL-0soQistC"
   },
   "source": [
    "# <font color='red'>Computational graph</font>"
   ]
  },
  {
   "cell_type": "markdown",
   "metadata": {
    "id": "nREnTTJ3i0Vd"
   },
   "source": [
    "<img src='https://i.imgur.com/seSGbNS.png'>"
   ]
  },
  {
   "cell_type": "markdown",
   "metadata": {
    "id": "DSPX_H_4i_HT"
   },
   "source": [
    "\n",
    "*  **If you observe the graph, we are having input features [f1, f2, f3, f4, f5] and 9 weights [w1, w2, w3, w4, w5, w6,    w7, w8, w9]**.<br><br>\n",
    "*  **The final output of this graph is a value L which is computed as (Y-Y')^2** "
   ]
  },
  {
   "cell_type": "markdown",
   "metadata": {
    "id": "D54eDEv6jkO4"
   },
   "source": [
    "# <font color='red'>Task 1: Implementing backpropagation and Gradient checking </font>"
   ]
  },
  {
   "cell_type": "markdown",
   "metadata": {
    "id": "qocI1Vzqkod9"
   },
   "source": [
    "<font color='blue'><b>Check this video for better understanding of the computational graphs and back propagation</font>"
   ]
  },
  {
   "cell_type": "code",
   "execution_count": 2,
   "metadata": {
    "colab": {
     "base_uri": "https://localhost:8080/",
     "height": 521
    },
    "id": "Wb5WMdwJinlX",
    "outputId": "b10489ec-890a-445a-c6a4-a3e0ea2a66be"
   },
   "outputs": [
    {
     "data": {
      "text/html": [
       "\n",
       "        <iframe\n",
       "            width=\"1000\"\n",
       "            height=\"500\"\n",
       "            src=\"https://www.youtube.com/embed/i94OvYb6noo\"\n",
       "            frameborder=\"0\"\n",
       "            allowfullscreen\n",
       "        ></iframe>\n",
       "        "
      ],
      "text/plain": [
       "<IPython.lib.display.YouTubeVideo at 0x2b832457f70>"
      ]
     },
     "execution_count": 2,
     "metadata": {},
     "output_type": "execute_result"
    }
   ],
   "source": [
    "from IPython.display import YouTubeVideo\n",
    "YouTubeVideo('i94OvYb6noo',width=\"1000\",height=\"500\")"
   ]
  },
  {
   "cell_type": "markdown",
   "metadata": {
    "id": "2jecTyVRlh-6"
   },
   "source": [
    "\n",
    "*  <b>Write two functions<br>\n",
    "    *  Forward propagation</b>(Write your code in<font color='blue'> def forward_propagation()</b></font>)<br><br>\n",
    "    For easy debugging, we will break the computational graph into 3 parts.\n",
    "\n",
    "    <font color='green'><b>Part 1</b></font></b>\n",
    "    <img src='https://i.imgur.com/0xUaxy6.png'><br><br>\n",
    "    <font color='green'><b>Part 2</b></font></b><br>\n",
    "    <img src='https://i.imgur.com/J29pAJL.png'><br><br>\n",
    "    <font color='green'><b>Part 3</b></font></b>\n",
    "    <img src='https://i.imgur.com/vMyCsd9.png'>\n",
    "\n",
    "    <pre>\n",
    "    <font color='green'>\n",
    "def forward_propagation(X, y, W):\n",
    "        <font color='grey'>\n",
    "        # X: input data point, note that in this assignment you are having 5-d data points\n",
    "        # y: output varible\n",
    "        # W: weight array, its of length 9, W[0] corresponds to w1 in graph, W[1] corresponds to w2 in graph, <br>         ..., W[8] corresponds to w9 in graph.  \n",
    "        # you have to return the following variables\n",
    "        # exp= part1 (compute the forward propagation until exp and then store the values in exp)\n",
    "        # tanh =part2(compute the forward propagation until tanh and then store the values in tanh)\n",
    "        # sig = part3(compute the forward propagation until sigmoid and then store the values in sig)\n",
    "        # now compute remaining values from computional graph and get y'\n",
    "        # write code to compute the value of L=(y-y')^2\n",
    "        # compute derivative of L  w.r.to Y' and store it in dl\n",
    "        # Create a dictionary to store all the intermediate values\n",
    "        # store L, exp,tanh,sig,dl variables\n",
    "        </font>\n",
    "        return (dictionary, which you might need to use for back propagation)\n",
    "        <font color='grey'>\n",
    "        </font>\n",
    "</font>\n",
    "</pre>\n",
    "    *  <b>Backward propagation</b>(Write your code in<font color='blue'> def backward_propagation()</b></font>)\n",
    "    </b>\n",
    "    <pre>\n",
    "    <font color='green'>\n",
    "    def backward_propagation(L, W,dictionary):\n",
    "        <font color='grey'>\n",
    "        # L: the loss we calculated for the current point\n",
    "        # dictionary: the outputs of the forward_propagation() function\n",
    "        # write code to compute the gradients of each weight [w1,w2,w3,...,w9]\n",
    "        # Hint: you can use dict type to store the required variables \n",
    "        # return dW, dW is a dictionary with gradients of all the weights\n",
    "        </font>\n",
    "        return dW\n",
    "        </font>\n",
    "</font>\n",
    "</pre>"
   ]
  },
  {
   "cell_type": "markdown",
   "metadata": {
    "id": "STS4NrQQc6OH"
   },
   "source": [
    " ## <font color='red'>Gradient clipping</font>"
   ]
  },
  {
   "cell_type": "markdown",
   "metadata": {
    "id": "XY7ivRNzdPok"
   },
   "source": [
    "<b> Check this  <a href='https://towardsdatascience.com/how-to-debug-a-neural-network-with-gradient-checking-41deec0357a9'>blog link</a> for more details on Gradient clipping"
   ]
  },
  {
   "cell_type": "markdown",
   "metadata": {
    "id": "BrsfpDoidtZ5"
   },
   "source": [
    " we know that the derivative of any function is\n",
    " \n",
    " $$\\lim_{\\epsilon\\to0}\\frac{f(x+\\epsilon)-f(x-\\epsilon)}{2\\epsilon}$$\n"
   ]
  },
  {
   "cell_type": "markdown",
   "metadata": {
    "id": "vUcmt0kPd02f"
   },
   "source": [
    "*  The definition above can be used as a numerical approximation of the derivative. Taking an epsilon small enough, the calculated approximation will have an error in the range of epsilon squared. \n",
    "\n",
    "*  In other words, if epsilon is 0.001, the approximation will be off by 0.00001.\n",
    "\n",
    "Therefore, we can use this to approximate the gradient, and in turn make sure that backpropagation is implemented properly. This forms the basis of <b>gradient checking!</b>"
   ]
  },
  {
   "cell_type": "markdown",
   "metadata": {
    "id": "pFSu16KCeU0x"
   },
   "source": [
    "## <Font color='blue'>Gradient checking example</font>"
   ]
  },
  {
   "cell_type": "markdown",
   "metadata": {
    "id": "Gz0mmT_xecfC"
   },
   "source": [
    "<font >\n",
    "lets understand the concept with a simple example:\n",
    "$f(w1,w2,x1,x2)=w_{1}^{2} . x_{1} + w_{2} . x_{2}$ \n",
    "\n",
    "from the above function , lets assume $w_{1}=1$, $w_{2}=2$, $x_{1}=3$, $x_{2}=4$ the gradient of $f$ w.r.t $w_{1}$ is\n",
    "\n",
    "\\begin{array} {lcl}\n",
    "\\frac{df}{dw_{1}} = dw_{1} &=&2.w_{1}.x_{1} \\\\& = &2.1.3\\\\& = &6\n",
    "\\end{array}\n",
    "\n",
    "\n",
    "let calculate the aproximate gradient of $w_{1}$ as mentinoned in the above formula and considering $\\epsilon=0.0001$\n",
    "\n",
    "\\begin{array} {lcl}\n",
    "dw_1^{approx} & = & \\frac{f(w1+\\epsilon,w2,x1,x2)-f(w1-\\epsilon,w2,x1,x2)}{2\\epsilon} \\\\ & = & \\frac{((1+0.0001)^{2} . 3 + 2 . 4) - ((1-0.0001)^{2} . 3 + 2 . 4)}{2\\epsilon} \\\\ & = & \\frac{(1.00020001 . 3 + 2 . 4) - (0.99980001. 3 + 2 . 4)}{2*0.0001} \\\\ & = & \\frac{(11.00060003) - (10.99940003)}{0.0002}\\\\ & = & 5.99999999999\n",
    "\\end{array}\n",
    "\n",
    "Then, we apply the following formula for gradient check: <i>gradient_check</i> = \n",
    "$\\frac{\\left\\Vert\\left (dW-dW^{approx}\\rm\\right) \\right\\Vert_2}{\\left\\Vert\\left (dW\\rm\\right) \\right\\Vert_2+\\left\\Vert\\left (dW^{approx}\\rm\\right) \\right\\Vert_2}$\n",
    "\n",
    "The equation above is basically the Euclidean distance normalized by the sum of the norm of the vectors. We use normalization in case that one of the vectors is very small.\n",
    "As a value for epsilon, we usually opt for 1e-7. Therefore, if gradient check return a value less than 1e-7, then it means that backpropagation was implemented correctly. Otherwise, there is potentially a mistake in your implementation. If the value exceeds 1e-3, then you are sure that the code is not correct.\n",
    "\n",
    "in our example: <i>gradient_check</i> $ = \\frac{(6 - 5.999999999994898)}{(6 + 5.999999999994898)} = 4.2514140356330737e^{-13}$\n",
    "\n",
    "you can mathamatically derive the same thing like this\n",
    "\n",
    "\\begin{array} {lcl}\n",
    "dw_1^{approx} & = & \\frac{f(w1+\\epsilon,w2,x1,x2)-f(w1-\\epsilon,w2,x1,x2)}{2\\epsilon} \\\\ & = & \\frac{((w_{1}+\\epsilon)^{2} . x_{1} + w_{2} . x_{2}) - ((w_{1}-\\epsilon)^{2} . x_{1} + w_{2} . x_{2})}{2\\epsilon} \\\\ & = & \\frac{4. \\epsilon.w_{1}. x_{1}}{2\\epsilon} \\\\ & = &  2.w_{1}.x_{1}\n",
    "\\end{array}\n"
   ]
  },
  {
   "cell_type": "markdown",
   "metadata": {
    "id": "f1BFQQaCermK"
   },
   "source": [
    "## <font color='red'> Implement Gradient checking </font> <br>\n",
    " (Write your code in <font color='blue'> def gradient_checking()</font>)"
   ]
  },
  {
   "cell_type": "markdown",
   "metadata": {
    "id": "GqpfA3AqfJba"
   },
   "source": [
    "**Algorithm** \n",
    "\n"
   ]
  },
  {
   "cell_type": "markdown",
   "metadata": {
    "id": "FL39KeRFfNoD"
   },
   "source": [
    "<pre>\n",
    "<font color='darkblue'>\n",
    "W = initilize_randomly\n",
    "def gradient_checking(data_point, W):<font color='grey'>\n",
    "    # compute the L value using forward_propagation()\n",
    "    # compute the gradients of W using backword_propagation()</font>\n",
    "    approx_gradients = []\n",
    "    for each wi weight value in W:<font color='grey'>\n",
    "        # add a small value to weight wi, and then find the values of L with the updated weights\n",
    "        # subtract a small value to weight wi, and then find the values of L with the updated weights\n",
    "        # compute the approximation gradients of weight wi</font>\n",
    "        approx_gradients.append(approximation gradients of weight wi)<font color='grey'>\n",
    "    # compare the gradient of weights W from backword_propagation() with the aproximation gradients of weights with <br>  gradient_check formula</font>\n",
    "    return gradient_check</font>\n",
    "<b>NOTE: you can do sanity check by checking all the return values of gradient_checking(),<br> they have to be zero. if not you have bug in your code\n",
    "</pre></b>"
   ]
  },
  {
   "cell_type": "markdown",
   "metadata": {
    "id": "0ufbFBFfhgL0"
   },
   "source": [
    "# <font color='red'> Task 2 : Optimizers </font>"
   ]
  },
  {
   "cell_type": "markdown",
   "metadata": {
    "id": "7zt05soYh1RM"
   },
   "source": [
    "* As a part of this task, you will be implementing 3 type of optimizers(methods to update weight)\n",
    "* Use the same computational graph that was mentioned above to do this task\n",
    "* Initilze the 9 weights from normal distribution with mean=0 and std=0.01"
   ]
  },
  {
   "cell_type": "markdown",
   "metadata": {
    "id": "CAyi7aSAicbr"
   },
   "source": [
    "**Check below video and <a href='https://cs231n.github.io/neural-networks-3/'>this</a> blog**"
   ]
  },
  {
   "cell_type": "code",
   "execution_count": 3,
   "metadata": {
    "colab": {
     "base_uri": "https://localhost:8080/",
     "height": 521
    },
    "id": "ZogcxiegkQpz",
    "outputId": "9b4e0235-e638-4f20-d9c1-ac3ca4fb3ce8"
   },
   "outputs": [
    {
     "data": {
      "text/html": [
       "\n",
       "        <iframe\n",
       "            width=\"1000\"\n",
       "            height=\"500\"\n",
       "            src=\"https://www.youtube.com/embed/gYpoJMlgyXA\"\n",
       "            frameborder=\"0\"\n",
       "            allowfullscreen\n",
       "        ></iframe>\n",
       "        "
      ],
      "text/plain": [
       "<IPython.lib.display.YouTubeVideo at 0x2b832457d90>"
      ]
     },
     "execution_count": 3,
     "metadata": {},
     "output_type": "execute_result"
    }
   ],
   "source": [
    "from IPython.display import YouTubeVideo\n",
    "YouTubeVideo('gYpoJMlgyXA',width=\"1000\",height=\"500\")"
   ]
  },
  {
   "cell_type": "markdown",
   "metadata": {
    "id": "jmefh7ktjbaR"
   },
   "source": [
    "<font color='blue'><b>Algorithm</b>"
   ]
  },
  {
   "cell_type": "markdown",
   "metadata": {
    "id": "nAc4NudkjdNa"
   },
   "source": [
    "<pre>\n",
    "    for each epoch(1-100):\n",
    "        for each data point in your data:\n",
    "            using the functions forward_propagation() and backword_propagation() compute the gradients of weights\n",
    "            update the weigts with help of gradients  ex: w1 = w1-learning_rate*dw1\n",
    "</pre>"
   ]
  },
  {
   "cell_type": "markdown",
   "metadata": {
    "id": "_fdmPNqtjm3X"
   },
   "source": [
    "## <font color='red'> Implement below tasks</b>"
   ]
  },
  {
   "cell_type": "markdown",
   "metadata": {
    "id": "Ll9-CRsLjx_D"
   },
   "source": [
    "\n",
    "*  <b>Task 2.1</b>: you will be implementing the above algorithm with <b>Vanilla update</b> of weights<br><br>\n",
    "*  <b>Task 2.2</b>: you will be implementing the above algorithm with <b>Momentum update</b> of weights<br><br>\n",
    "*  <b>Task 2.3</b>: you will be implementing the above algorithm with <b>Adam update</b> of weights\n"
   ]
  },
  {
   "cell_type": "markdown",
   "metadata": {
    "id": "atp082demrUR"
   },
   "source": [
    "**Note : If you get any assertion error while running grader functions, please print the variables in grader functions and check which variable is returning False .Recheck your logic for that variable .**"
   ]
  },
  {
   "cell_type": "markdown",
   "metadata": {
    "id": "phG2WDkjkuIL"
   },
   "source": [
    "<br>\n",
    "<br>\n",
    "<br>"
   ]
  },
  {
   "cell_type": "markdown",
   "metadata": {
    "id": "CBaPzHP63grG"
   },
   "source": [
    "# <font color='red'>Task 1 </font>"
   ]
  },
  {
   "cell_type": "markdown",
   "metadata": {
    "id": "QfmV3FUgSrBo"
   },
   "source": [
    "## <font color='blue'>Forward propagation </font>"
   ]
  },
  {
   "cell_type": "code",
   "execution_count": 4,
   "metadata": {
    "id": "5_pBivcY30qf"
   },
   "outputs": [],
   "source": [
    "def sigmoid(z):\n",
    "    '''In this function, we will compute the sigmoid(z)'''\n",
    "    # we can use this function in forward and backward propagation \n",
    "    return 1/(1+math.exp(-z))\n",
    "    \n",
    "def forward_propagation(x, y, w):\n",
    "        #'''In this function, we will compute the forward propagation '''\n",
    "        # X: input data point, note that in this assignment you are having 5-d data points\n",
    "        # y: output varible\n",
    "        # W: weight array, its of length 9, W[0] corresponds to w1 in graph, W[1] corresponds to w2 in graph,..., W[8] corresponds to w9 in graph\n",
    "        # you have to return the following variables\n",
    "        # exp= part1 (compute the forward propagation until exp and then store the values in exp)\n",
    "        exp = math.exp(((w[0]*x[0] + w[1]*x[1])**2) + w[5])\n",
    "        # tanh =part2(compute the forward propagation until tanh and then store the values in tanh)\n",
    "        tanh = np.tanh(exp + w[6])\n",
    "        # sig = part3(compute the forward propagation until sigmoid and then store the values in sig)\n",
    "        sig = sigmoid(np.sin(w[2]*x[2])*(w[3]*x[3] + w[4]*x[4]) + w[7])\n",
    "        # now compute remaining values from computional graph and get y'\n",
    "        y_dash = tanh + (w[8]*sig)\n",
    "        # write code to compute the value of L=(y-y')^2\n",
    "        loss = (y - y_dash)**2\n",
    "        # compute derivative of L  w.r.to Y' and store it in dl\n",
    "        dl = -2 * (y - y_dash)\n",
    "        # Create a dictionary to store all the intermediate values\n",
    "        data = {\"exp\":exp,\"tanh\":tanh,\"sigmoid\": sig , \"loss\":loss, \"dy_pr\":dl}\n",
    "        # store L, exp,tanh,sig variables\n",
    "        return data"
   ]
  },
  {
   "cell_type": "markdown",
   "metadata": {
    "id": "z-z1rGKqCHNN"
   },
   "source": [
    "<font color='cyan'>Grader function - 1</font>"
   ]
  },
  {
   "cell_type": "code",
   "execution_count": 5,
   "metadata": {
    "id": "6ZxFF00zBmx1"
   },
   "outputs": [
    {
     "data": {
      "text/plain": [
       "True"
      ]
     },
     "execution_count": 5,
     "metadata": {},
     "output_type": "execute_result"
    }
   ],
   "source": [
    "def grader_sigmoid(z):\n",
    "  val=sigmoid(z)\n",
    "  assert(val==0.8807970779778823)\n",
    "  return True\n",
    "grader_sigmoid(2)"
   ]
  },
  {
   "cell_type": "markdown",
   "metadata": {
    "id": "KgAUXq_aChey"
   },
   "source": [
    "<font color='cyan'>Grader function - 2 </font>"
   ]
  },
  {
   "cell_type": "code",
   "execution_count": 6,
   "metadata": {
    "id": "3uzsUqcjCorN"
   },
   "outputs": [
    {
     "data": {
      "text/plain": [
       "True"
      ]
     },
     "execution_count": 6,
     "metadata": {},
     "output_type": "execute_result"
    }
   ],
   "source": [
    "def grader_forwardprop(data):\n",
    "    dl = (data['dy_pr']==-1.9285278284819143)\n",
    "    loss=(data['loss']==0.9298048963072919)\n",
    "    part1=(data['exp']==1.1272967040973583)\n",
    "    part2=(data['tanh']==0.8417934192562146)\n",
    "    part3=(data['sigmoid']==0.5279179387419721)\n",
    "    assert(dl and loss and part1 and part2 and part3)\n",
    "    return True\n",
    "w=np.ones(9)*0.1\n",
    "d1=forward_propagation(X[0],y[0],w)\n",
    "grader_forwardprop(d1)"
   ]
  },
  {
   "cell_type": "markdown",
   "metadata": {
    "id": "obOaAqj3Sxvb"
   },
   "source": [
    "## <font color='blue'>Backward propagation</font>"
   ]
  },
  {
   "cell_type": "code",
   "execution_count": 7,
   "metadata": {
    "id": "dS49ykcOGhIv"
   },
   "outputs": [],
   "source": [
    "def backward_propagation(L,W,dict):\n",
    "    '''In this function, we will compute the backward propagation '''\n",
    "    # L: the loss we calculated for the current point\n",
    "    # dictionary: the outputs of the forward_propagation() function\n",
    "    # write code to compute the gradients of each weight [w1,w2,w3,...,w9]\n",
    "    # Hint: you can use dict type to store the required variables\n",
    "    dw7 = (1-(dict['tanh'])**2)*dict['dy_pr']\n",
    "    dw6 = dict['exp'] * dw7\n",
    "    dw1 = dw6*2*L[0]*(W[0]*L[0] + W[1]*L[1])\n",
    "    dw2 = L[1]*(W[0]*L[0] + W[1]*L[1])*dw6*2\n",
    "    dw9 = dict['dy_pr']*dict['sigmoid']\n",
    "    dw8 = W[8]*dict['dy_pr']*dict['sigmoid']*(1-dict['sigmoid'])\n",
    "    dw3 = L[2]*math.cos(W[2]*L[2])*((W[3]*L[3])+(W[4]*L[4]))*dw8\n",
    "    dw4 = math.sin(W[2]*L[2])*dw8* L[3]\n",
    "    dw5 = math.sin(W[2]*L[2])*dw8* L[4]\n",
    "    dw = {\"dw1\":dw1,\"dw2\":dw2,\"dw3\":dw3,\"dw4\":dw4,\"dw5\":dw5,\"dw6\":dw6,\"dw7\":dw7,\"dw8\":dw8,\"dw9\":dw9}\n",
    "    return dw\n",
    "    # return dW, dW is a dictionary with gradients of all the weights"
   ]
  },
  {
   "cell_type": "markdown",
   "metadata": {
    "id": "2NpZWAVlS4jb"
   },
   "source": [
    "<font color='cyan'>Grader function - 3 </font>"
   ]
  },
  {
   "cell_type": "code",
   "execution_count": 8,
   "metadata": {
    "id": "1a8Kll2xGhMJ"
   },
   "outputs": [
    {
     "data": {
      "text/plain": [
       "True"
      ]
     },
     "execution_count": 8,
     "metadata": {},
     "output_type": "execute_result"
    }
   ],
   "source": [
    "def grader_backprop(data):\n",
    "    dw1=(data['dw1']==-0.22973323498702003)\n",
    "    dw2=(data['dw2']==-0.021407614717752925)\n",
    "    dw3=(data['dw3']==-0.005625405580266319)\n",
    "    dw4=(data['dw4']==-0.004657941222712423)\n",
    "    dw5=(data['dw5']==-0.0010077228498574246)\n",
    "    dw6=(data['dw6']==-0.6334751873437471)\n",
    "    dw7=(data['dw7']==-0.561941842854033)\n",
    "    dw8=(data['dw8']==-0.04806288407316516)\n",
    "    dw9=(data['dw9']==-1.0181044360187037)\n",
    "    assert(dw1 and dw2 and dw3 and dw4 and dw5 and dw6 and dw7 and dw8 and dw9)\n",
    "    return True \n",
    "w=np.ones(9)*0.1\n",
    "d1=forward_propagation(X[0],y[0],w)\n",
    "d1=backward_propagation(X[0],w,d1)\n",
    "grader_backprop(d1)"
   ]
  },
  {
   "cell_type": "markdown",
   "metadata": {
    "id": "1rfHHXZwgwo6"
   },
   "source": [
    "## <font color='blue'> Implement gradient checking</font>"
   ]
  },
  {
   "cell_type": "code",
   "execution_count": 9,
   "metadata": {
    "id": "oh8wj1yjGhOi"
   },
   "outputs": [
    {
     "name": "stdout",
     "output_type": "stream",
     "text": [
      "[1.0370728946337426e-08, 8.174982888388155e-11, 1.7287700041112022e-09, 1.87486944153289e-12, 4.2849738752544037e-10, 7.610196933782967e-10, 3.1480030084674753e-09, 4.0368014625577295e-10, 3.361951351774315e-13]\n"
     ]
    }
   ],
   "source": [
    "W = np.ones(9)*0.1\n",
    "def gradient_checking(data_point, W,y):\n",
    "    # compute the L value using forward_propagation()\n",
    "    data_fp = forward_propagation(data_point,y,W)\n",
    "    # compute the gradients of W using backword_propagation()\n",
    "    data_bp = backward_propagation(data_point,W,data_fp)\n",
    "    approx_gradients = []\n",
    "    gradient_check = []\n",
    "    e = 0.0001\n",
    "    W_copy = np.copy(W)\n",
    "    x = data_point\n",
    "    Y = y\n",
    "    #for each wi weight value in W:\n",
    "    for index in range(0,len(W_copy)):\n",
    "        # add a small value to weight wi, and then find the values of L with the updated weights\n",
    "        W_copy[index] = W_copy[index] + e\n",
    "        exp = math.exp(((W_copy[0]*x[0] +W_copy[1]*x[1])**2) + W_copy[5])\n",
    "        # tanh =part2(compute the forward propagation until tanh and then store the values in tanh)\n",
    "        tanh = np.tanh(exp + W_copy[6])\n",
    "        # sig = part3(compute the forward propagation until sigmoid and then store the values in sig)\n",
    "        sig = sigmoid(np.sin(W_copy[2]*x[2])*(W_copy[3]*x[3] + W_copy[4]*x[4]) + W_copy[7])\n",
    "        # now compute remaining values from computional graph and get y'\n",
    "        y_dash = tanh + (W_copy[8]*sig)\n",
    "        L_plus = (Y - y_dash)**2\n",
    "        W_copy[index] = W[index]\n",
    "        # subtract a small value to weight wi, and then find the values of L with the updated weights\n",
    "        W_copy[index] = W_copy[index] - e\n",
    "        exp = math.exp(((W_copy[0]*x[0] +W_copy[1]*x[1])**2) + W_copy[5])\n",
    "        # tanh =part2(compute the forward propagation until tanh and then store the values in tanh)\n",
    "        tanh = np.tanh(exp + W_copy[6])\n",
    "        # sig = part3(compute the forward propagation until sigmoid and then store the values in sig)\n",
    "        sig = sigmoid(np.sin(W_copy[2]*x[2])*(W_copy[3]*x[3] + W_copy[4]*x[4]) + W_copy[7])\n",
    "        # now compute remaining values from computional graph and get y'\n",
    "        y_dash = tanh + (W_copy[8]*sig)\n",
    "        L_minus = (Y - y_dash)**2\n",
    "        W_copy[index] = W[index]\n",
    "        # compute the approximation gradients of weight wi\n",
    "        approx_gradient = (L_plus-L_minus)/(2*e)\n",
    "        #approx_gradients.append(approximation gradients of weight wi)\n",
    "        approx_gradients.append(approx_gradient)\n",
    "    # compare the gradient of weights W from backword_propagation() with the aproximation gradients of weights with gradient_check formula\n",
    "    gradient_check.append(abs(abs(data_bp['dw1']) - abs(approx_gradients[0]))/abs(abs(data_bp['dw1']) + abs(approx_gradients[0])))\n",
    "    gradient_check.append(abs(abs(data_bp['dw2']) - abs(approx_gradients[1]))/abs(abs(data_bp['dw2']) + abs(approx_gradients[1])))\n",
    "    gradient_check.append(abs(abs(data_bp['dw3']) - abs(approx_gradients[2]))/abs(abs(data_bp['dw3']) + abs(approx_gradients[2])))\n",
    "    gradient_check.append(abs(abs(data_bp['dw4']) - abs(approx_gradients[3]))/abs(abs(data_bp['dw4']) + abs(approx_gradients[3])))\n",
    "    gradient_check.append(abs(abs(data_bp['dw5']) - abs(approx_gradients[4]))/abs(abs(data_bp['dw5']) + abs(approx_gradients[4])))\n",
    "    gradient_check.append(abs(abs(data_bp['dw6']) - abs(approx_gradients[5]))/abs(abs(data_bp['dw6']) + abs(approx_gradients[5])))\n",
    "    gradient_check.append(abs(abs(data_bp['dw7']) - abs(approx_gradients[6]))/abs(abs(data_bp['dw7']) + abs(approx_gradients[6])))\n",
    "    gradient_check.append(abs(abs(data_bp['dw8']) - abs(approx_gradients[7]))/abs(abs(data_bp['dw8']) + abs(approx_gradients[7])))\n",
    "    gradient_check.append(abs(abs(data_bp['dw9']) - abs(approx_gradients[8]))/abs(abs(data_bp['dw9']) + abs(approx_gradients[8])))\n",
    "    return gradient_check\n",
    "gradient_check = gradient_checking(X[0], W,y[0])\n",
    "print(gradient_check)"
   ]
  },
  {
   "cell_type": "markdown",
   "metadata": {
    "id": "MhwDSe99kJ32"
   },
   "source": [
    "# <font color='red'>Task 2: Optimizers"
   ]
  },
  {
   "cell_type": "code",
   "execution_count": 10,
   "metadata": {},
   "outputs": [],
   "source": [
    "def calculateLoss(W):\n",
    "    y_dash = []\n",
    "    sum_loss = 0\n",
    "    for index in range(0,len(X)):\n",
    "        exp = math.exp(((W[0]*X[index][0] +W[1]*X[index][1])**2) + W[5])\n",
    "        # tanh =part2(compute the forward propagation until tanh and then store the values in tanh)\n",
    "        tanh = np.tanh(exp + W[6])\n",
    "        # sig = part3(compute the forward propagation until sigmoid and then store the values in sig)\n",
    "        sig = sigmoid(np.sin(W[2]*X[index][2])*(W[3]*X[index][3] + W[4]*X[index][4]) + W[7])\n",
    "            # now compute remaining values from computional graph and get y'\n",
    "        y_dash = tanh + (W[8]*sig)\n",
    "        sum_loss = sum_loss + (y[index] - y_dash)**2\n",
    "    return sum_loss"
   ]
  },
  {
   "cell_type": "markdown",
   "metadata": {},
   "source": [
    "### <font color='blue'>Algorithm with Vanilla update of weights</font>"
   ]
  },
  {
   "cell_type": "code",
   "execution_count": 11,
   "metadata": {},
   "outputs": [],
   "source": [
    "def vanila_update(W,dw,learning_rate):\n",
    "    W = W - (learning_rate*dw)\n",
    "    return W"
   ]
  },
  {
   "cell_type": "code",
   "execution_count": 12,
   "metadata": {},
   "outputs": [
    {
     "name": "stdout",
     "output_type": "stream",
     "text": [
      "epoch:0 \t loss:17.910858\n",
      "epoch:1 \t loss:18.995827\n",
      "epoch:2 \t loss:18.969384\n",
      "epoch:3 \t loss:18.857552\n",
      "epoch:4 \t loss:18.510104\n",
      "epoch:5 \t loss:17.486059\n",
      "epoch:6 \t loss:14.893370\n",
      "epoch:7 \t loss:10.309887\n",
      "epoch:8 \t loss:5.764111\n",
      "epoch:9 \t loss:3.075848\n",
      "epoch:10 \t loss:1.790236\n",
      "epoch:11 \t loss:1.188711\n",
      "epoch:12 \t loss:0.898540\n",
      "epoch:13 \t loss:0.751932\n",
      "epoch:14 \t loss:0.673270\n",
      "epoch:15 \t loss:0.627758\n",
      "epoch:16 \t loss:0.599030\n",
      "epoch:17 \t loss:0.579206\n",
      "epoch:18 \t loss:0.564373\n",
      "epoch:19 \t loss:0.552512\n",
      "epoch:20 \t loss:0.542521\n",
      "epoch:21 \t loss:0.533763\n",
      "epoch:22 \t loss:0.525843\n",
      "epoch:23 \t loss:0.518502\n",
      "epoch:24 \t loss:0.511563\n",
      "epoch:25 \t loss:0.504901\n",
      "epoch:26 \t loss:0.498426\n",
      "epoch:27 \t loss:0.492074\n",
      "epoch:28 \t loss:0.485800\n",
      "epoch:29 \t loss:0.479572\n",
      "epoch:30 \t loss:0.473368\n",
      "epoch:31 \t loss:0.467175\n",
      "epoch:32 \t loss:0.460985\n",
      "epoch:33 \t loss:0.454793\n",
      "epoch:34 \t loss:0.448598\n",
      "epoch:35 \t loss:0.442401\n",
      "epoch:36 \t loss:0.436204\n",
      "epoch:37 \t loss:0.430011\n",
      "epoch:38 \t loss:0.423824\n",
      "epoch:39 \t loss:0.417649\n",
      "epoch:40 \t loss:0.411489\n",
      "epoch:41 \t loss:0.405347\n",
      "epoch:42 \t loss:0.399229\n",
      "epoch:43 \t loss:0.393137\n",
      "epoch:44 \t loss:0.387075\n",
      "epoch:45 \t loss:0.381047\n",
      "epoch:46 \t loss:0.375056\n",
      "epoch:47 \t loss:0.369104\n",
      "epoch:48 \t loss:0.363194\n",
      "epoch:49 \t loss:0.357329\n",
      "epoch:50 \t loss:0.351510\n",
      "epoch:51 \t loss:0.345740\n",
      "epoch:52 \t loss:0.340021\n",
      "epoch:53 \t loss:0.334354\n",
      "epoch:54 \t loss:0.328741\n",
      "epoch:55 \t loss:0.323183\n",
      "epoch:56 \t loss:0.317681\n",
      "epoch:57 \t loss:0.312238\n",
      "epoch:58 \t loss:0.306853\n",
      "epoch:59 \t loss:0.301528\n",
      "epoch:60 \t loss:0.296264\n",
      "epoch:61 \t loss:0.291061\n",
      "epoch:62 \t loss:0.285920\n",
      "epoch:63 \t loss:0.280842\n",
      "epoch:64 \t loss:0.275827\n",
      "epoch:65 \t loss:0.270876\n",
      "epoch:66 \t loss:0.265989\n",
      "epoch:67 \t loss:0.261167\n",
      "epoch:68 \t loss:0.256409\n",
      "epoch:69 \t loss:0.251716\n",
      "epoch:70 \t loss:0.247088\n",
      "epoch:71 \t loss:0.242525\n",
      "epoch:72 \t loss:0.238027\n",
      "epoch:73 \t loss:0.233595\n",
      "epoch:74 \t loss:0.229227\n",
      "epoch:75 \t loss:0.224925\n",
      "epoch:76 \t loss:0.220688\n",
      "epoch:77 \t loss:0.216515\n",
      "epoch:78 \t loss:0.212407\n",
      "epoch:79 \t loss:0.208364\n",
      "epoch:80 \t loss:0.204384\n",
      "epoch:81 \t loss:0.200468\n",
      "epoch:82 \t loss:0.196615\n",
      "epoch:83 \t loss:0.192825\n",
      "epoch:84 \t loss:0.189098\n",
      "epoch:85 \t loss:0.185433\n",
      "epoch:86 \t loss:0.181829\n",
      "epoch:87 \t loss:0.178287\n",
      "epoch:88 \t loss:0.174805\n",
      "epoch:89 \t loss:0.171383\n",
      "epoch:90 \t loss:0.168021\n",
      "epoch:91 \t loss:0.164717\n",
      "epoch:92 \t loss:0.161472\n",
      "epoch:93 \t loss:0.158285\n",
      "epoch:94 \t loss:0.155155\n",
      "epoch:95 \t loss:0.152081\n",
      "epoch:96 \t loss:0.149063\n",
      "epoch:97 \t loss:0.146100\n",
      "epoch:98 \t loss:0.143192\n",
      "epoch:99 \t loss:0.140338\n",
      "epoch:100 \t loss:0.137536\n",
      "epoch:101 \t loss:0.134787\n",
      "epoch:102 \t loss:0.132090\n",
      "epoch:103 \t loss:0.129444\n",
      "epoch:104 \t loss:0.126848\n",
      "epoch:105 \t loss:0.124301\n",
      "epoch:106 \t loss:0.121803\n",
      "epoch:107 \t loss:0.119354\n",
      "epoch:108 \t loss:0.116952\n",
      "epoch:109 \t loss:0.114596\n",
      "epoch:110 \t loss:0.112287\n",
      "epoch:111 \t loss:0.110023\n",
      "epoch:112 \t loss:0.107803\n",
      "epoch:113 \t loss:0.105627\n",
      "epoch:114 \t loss:0.103494\n",
      "epoch:115 \t loss:0.101403\n",
      "epoch:116 \t loss:0.099355\n",
      "epoch:117 \t loss:0.097347\n",
      "epoch:118 \t loss:0.095379\n",
      "epoch:119 \t loss:0.093451\n",
      "epoch:120 \t loss:0.091562\n",
      "epoch:121 \t loss:0.089711\n",
      "epoch:122 \t loss:0.087897\n",
      "epoch:123 \t loss:0.086120\n",
      "epoch:124 \t loss:0.084380\n",
      "epoch:125 \t loss:0.082675\n",
      "epoch:126 \t loss:0.081004\n",
      "epoch:127 \t loss:0.079368\n",
      "epoch:128 \t loss:0.077766\n",
      "epoch:129 \t loss:0.076197\n",
      "epoch:130 \t loss:0.074659\n",
      "epoch:131 \t loss:0.073154\n",
      "epoch:132 \t loss:0.071680\n",
      "epoch:133 \t loss:0.070236\n",
      "epoch:134 \t loss:0.068822\n",
      "epoch:135 \t loss:0.067438\n",
      "epoch:136 \t loss:0.066082\n",
      "epoch:137 \t loss:0.064754\n",
      "epoch:138 \t loss:0.063455\n",
      "epoch:139 \t loss:0.062182\n",
      "epoch:140 \t loss:0.060936\n",
      "epoch:141 \t loss:0.059716\n",
      "epoch:142 \t loss:0.058521\n",
      "epoch:143 \t loss:0.057351\n",
      "epoch:144 \t loss:0.056206\n",
      "epoch:145 \t loss:0.055085\n",
      "epoch:146 \t loss:0.053988\n",
      "epoch:147 \t loss:0.052913\n",
      "epoch:148 \t loss:0.051862\n",
      "epoch:149 \t loss:0.050832\n",
      "epoch:150 \t loss:0.049824\n",
      "epoch:151 \t loss:0.048837\n",
      "epoch:152 \t loss:0.047871\n",
      "epoch:153 \t loss:0.046925\n",
      "epoch:154 \t loss:0.045999\n",
      "epoch:155 \t loss:0.045093\n",
      "epoch:156 \t loss:0.044206\n",
      "epoch:157 \t loss:0.043337\n",
      "epoch:158 \t loss:0.042487\n",
      "epoch:159 \t loss:0.041655\n",
      "epoch:160 \t loss:0.040840\n",
      "epoch:161 \t loss:0.040043\n",
      "epoch:162 \t loss:0.039262\n",
      "epoch:163 \t loss:0.038498\n",
      "epoch:164 \t loss:0.037750\n",
      "epoch:165 \t loss:0.037018\n",
      "epoch:166 \t loss:0.036301\n",
      "epoch:167 \t loss:0.035599\n",
      "epoch:168 \t loss:0.034912\n",
      "epoch:169 \t loss:0.034240\n",
      "epoch:170 \t loss:0.033582\n",
      "epoch:171 \t loss:0.032938\n",
      "epoch:172 \t loss:0.032307\n",
      "epoch:173 \t loss:0.031689\n",
      "epoch:174 \t loss:0.031085\n",
      "epoch:175 \t loss:0.030493\n",
      "epoch:176 \t loss:0.029914\n",
      "epoch:177 \t loss:0.029347\n",
      "epoch:178 \t loss:0.028792\n",
      "epoch:179 \t loss:0.028249\n",
      "epoch:180 \t loss:0.027717\n",
      "epoch:181 \t loss:0.027196\n",
      "epoch:182 \t loss:0.026686\n",
      "epoch:183 \t loss:0.026187\n",
      "epoch:184 \t loss:0.025699\n",
      "epoch:185 \t loss:0.025220\n",
      "epoch:186 \t loss:0.024752\n",
      "epoch:187 \t loss:0.024293\n",
      "epoch:188 \t loss:0.023845\n",
      "epoch:189 \t loss:0.023405\n",
      "epoch:190 \t loss:0.022975\n",
      "epoch:191 \t loss:0.022553\n",
      "epoch:192 \t loss:0.022141\n",
      "epoch:193 \t loss:0.021737\n",
      "epoch:194 \t loss:0.021342\n",
      "epoch:195 \t loss:0.020955\n",
      "epoch:196 \t loss:0.020576\n",
      "epoch:197 \t loss:0.020204\n",
      "epoch:198 \t loss:0.019841\n",
      "epoch:199 \t loss:0.019485\n",
      "epoch:200 \t loss:0.019137\n",
      "epoch:201 \t loss:0.018796\n",
      "epoch:202 \t loss:0.018462\n",
      "epoch:203 \t loss:0.018134\n",
      "epoch:204 \t loss:0.017814\n",
      "epoch:205 \t loss:0.017500\n",
      "epoch:206 \t loss:0.017193\n",
      "epoch:207 \t loss:0.016892\n",
      "epoch:208 \t loss:0.016598\n",
      "epoch:209 \t loss:0.016309\n",
      "epoch:210 \t loss:0.016027\n",
      "epoch:211 \t loss:0.015750\n",
      "epoch:212 \t loss:0.015479\n",
      "epoch:213 \t loss:0.015214\n",
      "epoch:214 \t loss:0.014954\n",
      "epoch:215 \t loss:0.014699\n",
      "epoch:216 \t loss:0.014450\n",
      "epoch:217 \t loss:0.014206\n",
      "epoch:218 \t loss:0.013967\n",
      "epoch:219 \t loss:0.013732\n",
      "epoch:220 \t loss:0.013503\n",
      "epoch:221 \t loss:0.013278\n",
      "epoch:222 \t loss:0.013058\n",
      "epoch:223 \t loss:0.012842\n",
      "epoch:224 \t loss:0.012631\n",
      "epoch:225 \t loss:0.012424\n",
      "epoch:226 \t loss:0.012221\n",
      "epoch:227 \t loss:0.012023\n",
      "epoch:228 \t loss:0.011828\n",
      "epoch:229 \t loss:0.011638\n",
      "epoch:230 \t loss:0.011451\n",
      "epoch:231 \t loss:0.011268\n",
      "epoch:232 \t loss:0.011089\n",
      "epoch:233 \t loss:0.010914\n",
      "epoch:234 \t loss:0.010742\n",
      "epoch:235 \t loss:0.010573\n",
      "epoch:236 \t loss:0.010408\n",
      "epoch:237 \t loss:0.010247\n",
      "epoch:238 \t loss:0.010088\n",
      "epoch:239 \t loss:0.009933\n",
      "epoch:240 \t loss:0.009781\n",
      "epoch:241 \t loss:0.009632\n",
      "epoch:242 \t loss:0.009486\n",
      "epoch:243 \t loss:0.009343\n",
      "epoch:244 \t loss:0.009202\n",
      "epoch:245 \t loss:0.009065\n",
      "epoch:246 \t loss:0.008930\n",
      "epoch:247 \t loss:0.008798\n",
      "epoch:248 \t loss:0.008669\n",
      "epoch:249 \t loss:0.008542\n",
      "epoch:250 \t loss:0.008418\n",
      "epoch:251 \t loss:0.008296\n",
      "epoch:252 \t loss:0.008177\n",
      "epoch:253 \t loss:0.008060\n",
      "epoch:254 \t loss:0.007946\n",
      "epoch:255 \t loss:0.007833\n",
      "epoch:256 \t loss:0.007723\n",
      "epoch:257 \t loss:0.007615\n",
      "epoch:258 \t loss:0.007510\n",
      "epoch:259 \t loss:0.007406\n",
      "epoch:260 \t loss:0.007304\n",
      "epoch:261 \t loss:0.007205\n"
     ]
    }
   ],
   "source": [
    "epochs = 1000\n",
    "W = np.random.normal(0,0.01,9)\n",
    "learning_rate = 0.01\n",
    "W_prev = np.copy(W)\n",
    "loss_vanilla = []\n",
    "for epoch in range(0,epochs):\n",
    "    for index in range(0,len(X)):\n",
    "        data_fp = forward_propagation(X[index],y[index],W)\n",
    "        data_bp = backward_propagation(X[index],W,data_fp)\n",
    "        dw = np.array([data_bp['dw1'],data_bp['dw2'],data_bp['dw3'],data_bp['dw4'],data_bp['dw5'],data_bp['dw6'],data_bp['dw7'],data_bp['dw8'],data_bp['dw9']])\n",
    "        W = vanila_update(W,dw,learning_rate)\n",
    "    loss_vanilla.append(calculateLoss(W))\n",
    "    print(\"epoch:%d \\t loss:%f\"%(epoch,loss_vanilla[len(loss_vanilla)-1]))\n",
    "    if((abs(loss_vanilla[len(loss_vanilla)-1] - loss_vanilla[len(loss_vanilla)-2] )< 0.0001) & (epoch>0)):\n",
    "        break"
   ]
  },
  {
   "cell_type": "code",
   "execution_count": 13,
   "metadata": {
    "id": "CjTCVUIoGhTo"
   },
   "outputs": [
    {
     "data": {
      "image/png": "[encoded data removed]",
      "text/plain": [
       "<Figure size 432x288 with 1 Axes>"
      ]
     },
     "metadata": {
      "needs_background": "light"
     },
     "output_type": "display_data"
    }
   ],
   "source": [
    "plt.plot(np.array(range(0,len(loss_vanilla))),loss_vanilla, label=' Loss')\n",
    "plt.title('Loss Vs Epoch')\n",
    "plt.legend()\n",
    "plt.xlabel(\"Epoch\")\n",
    "plt.ylabel(\"Loss\")\n",
    "plt.show()"
   ]
  },
  {
   "cell_type": "markdown",
   "metadata": {
    "id": "cv_hZFWalS2z"
   },
   "source": [
    "### <font color='blue'>Algorithm with Momentum update of weights</font>"
   ]
  },
  {
   "cell_type": "code",
   "execution_count": 14,
   "metadata": {},
   "outputs": [],
   "source": [
    "def momentum_update(W,dw,learning_rate,vt_prev,gamma):\n",
    "    vt = (vt_prev*gamma) + (learning_rate*dw)\n",
    "    W = W - vt\n",
    "    return W,vt"
   ]
  },
  {
   "cell_type": "code",
   "execution_count": 15,
   "metadata": {},
   "outputs": [
    {
     "name": "stdout",
     "output_type": "stream",
     "text": [
      "epoch:0 \t loss:19.614259\n",
      "epoch:1 \t loss:19.621281\n",
      "epoch:2 \t loss:19.620280\n",
      "epoch:3 \t loss:19.617081\n",
      "epoch:4 \t loss:19.599440\n",
      "epoch:5 \t loss:19.477611\n",
      "epoch:6 \t loss:18.614533\n",
      "epoch:7 \t loss:14.015813\n",
      "epoch:8 \t loss:5.654200\n",
      "epoch:9 \t loss:2.051491\n",
      "epoch:10 \t loss:1.078423\n",
      "epoch:11 \t loss:0.774086\n",
      "epoch:12 \t loss:0.657484\n",
      "epoch:13 \t loss:0.602245\n",
      "epoch:14 \t loss:0.570579\n",
      "epoch:15 \t loss:0.549373\n",
      "epoch:16 \t loss:0.533232\n",
      "epoch:17 \t loss:0.519586\n",
      "epoch:18 \t loss:0.507108\n",
      "epoch:19 \t loss:0.495099\n",
      "epoch:20 \t loss:0.483204\n",
      "epoch:21 \t loss:0.471267\n",
      "epoch:22 \t loss:0.459234\n",
      "epoch:23 \t loss:0.447112\n",
      "epoch:24 \t loss:0.434931\n",
      "epoch:25 \t loss:0.422734\n",
      "epoch:26 \t loss:0.410564\n",
      "epoch:27 \t loss:0.398463\n",
      "epoch:28 \t loss:0.386467\n",
      "epoch:29 \t loss:0.374607\n",
      "epoch:30 \t loss:0.362908\n",
      "epoch:31 \t loss:0.351394\n",
      "epoch:32 \t loss:0.340082\n",
      "epoch:33 \t loss:0.328986\n",
      "epoch:34 \t loss:0.318119\n",
      "epoch:35 \t loss:0.307489\n",
      "epoch:36 \t loss:0.297104\n",
      "epoch:37 \t loss:0.286969\n",
      "epoch:38 \t loss:0.277089\n",
      "epoch:39 \t loss:0.267466\n",
      "epoch:40 \t loss:0.258102\n",
      "epoch:41 \t loss:0.248997\n",
      "epoch:42 \t loss:0.240152\n",
      "epoch:43 \t loss:0.231565\n",
      "epoch:44 \t loss:0.223234\n",
      "epoch:45 \t loss:0.215158\n",
      "epoch:46 \t loss:0.207333\n",
      "epoch:47 \t loss:0.199757\n",
      "epoch:48 \t loss:0.192424\n",
      "epoch:49 \t loss:0.185332\n",
      "epoch:50 \t loss:0.178476\n",
      "epoch:51 \t loss:0.171852\n",
      "epoch:52 \t loss:0.165453\n",
      "epoch:53 \t loss:0.159276\n",
      "epoch:54 \t loss:0.153315\n",
      "epoch:55 \t loss:0.147564\n",
      "epoch:56 \t loss:0.142019\n",
      "epoch:57 \t loss:0.136673\n",
      "epoch:58 \t loss:0.131522\n",
      "epoch:59 \t loss:0.126559\n",
      "epoch:60 \t loss:0.121778\n",
      "epoch:61 \t loss:0.117176\n",
      "epoch:62 \t loss:0.112745\n",
      "epoch:63 \t loss:0.108480\n",
      "epoch:64 \t loss:0.104376\n",
      "epoch:65 \t loss:0.100428\n",
      "epoch:66 \t loss:0.096631\n",
      "epoch:67 \t loss:0.092979\n",
      "epoch:68 \t loss:0.089467\n",
      "epoch:69 \t loss:0.086090\n",
      "epoch:70 \t loss:0.082844\n",
      "epoch:71 \t loss:0.079724\n",
      "epoch:72 \t loss:0.076725\n",
      "epoch:73 \t loss:0.073843\n",
      "epoch:74 \t loss:0.071074\n",
      "epoch:75 \t loss:0.068413\n",
      "epoch:76 \t loss:0.065856\n",
      "epoch:77 \t loss:0.063400\n",
      "epoch:78 \t loss:0.061040\n",
      "epoch:79 \t loss:0.058773\n",
      "epoch:80 \t loss:0.056595\n",
      "epoch:81 \t loss:0.054503\n",
      "epoch:82 \t loss:0.052494\n",
      "epoch:83 \t loss:0.050564\n",
      "epoch:84 \t loss:0.048709\n",
      "epoch:85 \t loss:0.046929\n",
      "epoch:86 \t loss:0.045218\n",
      "epoch:87 \t loss:0.043575\n",
      "epoch:88 \t loss:0.041997\n",
      "epoch:89 \t loss:0.040481\n",
      "epoch:90 \t loss:0.039025\n",
      "epoch:91 \t loss:0.037626\n",
      "epoch:92 \t loss:0.036282\n",
      "epoch:93 \t loss:0.034991\n",
      "epoch:94 \t loss:0.033751\n",
      "epoch:95 \t loss:0.032560\n",
      "epoch:96 \t loss:0.031416\n",
      "epoch:97 \t loss:0.030316\n",
      "epoch:98 \t loss:0.029260\n",
      "epoch:99 \t loss:0.028245\n",
      "epoch:100 \t loss:0.027269\n",
      "epoch:101 \t loss:0.026332\n",
      "epoch:102 \t loss:0.025432\n",
      "epoch:103 \t loss:0.024566\n",
      "epoch:104 \t loss:0.023734\n",
      "epoch:105 \t loss:0.022935\n",
      "epoch:106 \t loss:0.022167\n",
      "epoch:107 \t loss:0.021428\n",
      "epoch:108 \t loss:0.020718\n",
      "epoch:109 \t loss:0.020035\n",
      "epoch:110 \t loss:0.019379\n",
      "epoch:111 \t loss:0.018748\n",
      "epoch:112 \t loss:0.018142\n",
      "epoch:113 \t loss:0.017559\n",
      "epoch:114 \t loss:0.016998\n",
      "epoch:115 \t loss:0.016458\n",
      "epoch:116 \t loss:0.015939\n",
      "epoch:117 \t loss:0.015440\n",
      "epoch:118 \t loss:0.014960\n",
      "epoch:119 \t loss:0.014499\n",
      "epoch:120 \t loss:0.014055\n",
      "epoch:121 \t loss:0.013627\n",
      "epoch:122 \t loss:0.013216\n",
      "epoch:123 \t loss:0.012820\n",
      "epoch:124 \t loss:0.012440\n",
      "epoch:125 \t loss:0.012073\n",
      "epoch:126 \t loss:0.011721\n",
      "epoch:127 \t loss:0.011381\n",
      "epoch:128 \t loss:0.011054\n",
      "epoch:129 \t loss:0.010740\n",
      "epoch:130 \t loss:0.010437\n",
      "epoch:131 \t loss:0.010145\n",
      "epoch:132 \t loss:0.009864\n",
      "epoch:133 \t loss:0.009594\n",
      "epoch:134 \t loss:0.009334\n",
      "epoch:135 \t loss:0.009083\n",
      "epoch:136 \t loss:0.008841\n",
      "epoch:137 \t loss:0.008608\n",
      "epoch:138 \t loss:0.008384\n",
      "epoch:139 \t loss:0.008168\n",
      "epoch:140 \t loss:0.007960\n",
      "epoch:141 \t loss:0.007759\n",
      "epoch:142 \t loss:0.007566\n",
      "epoch:143 \t loss:0.007380\n",
      "epoch:144 \t loss:0.007200\n",
      "epoch:145 \t loss:0.007027\n",
      "epoch:146 \t loss:0.006860\n",
      "epoch:147 \t loss:0.006699\n",
      "epoch:148 \t loss:0.006544\n",
      "epoch:149 \t loss:0.006394\n",
      "epoch:150 \t loss:0.006250\n",
      "epoch:151 \t loss:0.006110\n",
      "epoch:152 \t loss:0.005976\n",
      "epoch:153 \t loss:0.005846\n",
      "epoch:154 \t loss:0.005721\n",
      "epoch:155 \t loss:0.005601\n",
      "epoch:156 \t loss:0.005484\n",
      "epoch:157 \t loss:0.005372\n",
      "epoch:158 \t loss:0.005263\n",
      "epoch:159 \t loss:0.005159\n",
      "epoch:160 \t loss:0.005058\n",
      "epoch:161 \t loss:0.004960\n"
     ]
    }
   ],
   "source": [
    "epochs = 1000\n",
    "gamma = 0.5\n",
    "W = np.random.normal(0,0.01,9)\n",
    "learning_rate = 0.01\n",
    "loss_momentum = []\n",
    "vt = np.zeros(9)\n",
    "for epoch in range(0,epochs):\n",
    "    for index in range(0,len(X)):\n",
    "        data_fp = forward_propagation(X[index],y[index],W)\n",
    "        data_bp = backward_propagation(X[index],W,data_fp)\n",
    "        dw = np.array([data_bp['dw1'],data_bp['dw2'],data_bp['dw3'],data_bp['dw4'],data_bp['dw5'],data_bp['dw6'],data_bp['dw7'],data_bp['dw8'],data_bp['dw9']])\n",
    "        W,vt = momentum_update(W,dw,learning_rate,vt,gamma)\n",
    "    loss_momentum.append(calculateLoss(W))\n",
    "    print(\"epoch:%d \\t loss:%f\"%(epoch,loss_momentum[len(loss_momentum)-1]))\n",
    "    if((abs(loss_momentum[len(loss_momentum)-1] - loss_momentum[len(loss_momentum)-2] )< 0.0001) & (epoch>0)):\n",
    "        break"
   ]
  },
  {
   "cell_type": "markdown",
   "metadata": {
    "id": "Ow20azfKlVhn"
   },
   "source": [
    "<font color='blue'>Plot between epochs and loss</font>"
   ]
  },
  {
   "cell_type": "code",
   "execution_count": 16,
   "metadata": {
    "id": "u-m90Sq_Ghce"
   },
   "outputs": [
    {
     "data": {
      "image/png": "[encoded data removed]",
      "text/plain": [
       "<Figure size 432x288 with 1 Axes>"
      ]
     },
     "metadata": {
      "needs_background": "light"
     },
     "output_type": "display_data"
    }
   ],
   "source": [
    "plt.plot(np.array(range(0,len(loss_momentum))),loss_momentum, label=' Loss')\n",
    "plt.title('Loss Vs Epoch')\n",
    "plt.legend()\n",
    "plt.xlabel(\"Epoch\")\n",
    "plt.ylabel(\"Loss\")\n",
    "plt.show()"
   ]
  },
  {
   "cell_type": "markdown",
   "metadata": {
    "id": "V4RWWrZ7lWap"
   },
   "source": [
    "### <font color='blue'>Algorithm with ADAM update of weights</font>"
   ]
  },
  {
   "cell_type": "code",
   "execution_count": 17,
   "metadata": {},
   "outputs": [],
   "source": [
    "def adam_update(W,dw,learning_rate,vt_prev,mt_prev,beta1,beta2,epoch):\n",
    "    mt = (beta1*mt_prev) + ((1-beta1)*dw)\n",
    "    vt = (beta2*vt_prev) + ((1-beta2)*(dw**2))\n",
    "    m_hat = mt/(1-(beta1**epoch))\n",
    "    v_hat = vt/(1-(beta2**epoch))\n",
    "    W = W - ((learning_rate*(m_hat))/(np.sqrt(v_hat+0.0001)))\n",
    "    return W,vt,mt"
   ]
  },
  {
   "cell_type": "code",
   "execution_count": 18,
   "metadata": {
    "id": "72rRC8rJGhf5"
   },
   "outputs": [
    {
     "name": "stdout",
     "output_type": "stream",
     "text": [
      "epoch:0 \t loss:0.031910\n",
      "epoch:1 \t loss:0.030569\n",
      "epoch:2 \t loss:0.093152\n",
      "epoch:3 \t loss:0.076276\n",
      "epoch:4 \t loss:0.065288\n",
      "epoch:5 \t loss:0.058908\n",
      "epoch:6 \t loss:0.050812\n",
      "epoch:7 \t loss:0.042416\n",
      "epoch:8 \t loss:0.034656\n",
      "epoch:9 \t loss:0.027731\n",
      "epoch:10 \t loss:0.022061\n",
      "epoch:11 \t loss:0.017729\n",
      "epoch:12 \t loss:0.014192\n",
      "epoch:13 \t loss:0.011209\n",
      "epoch:14 \t loss:0.008897\n",
      "epoch:15 \t loss:0.007231\n",
      "epoch:16 \t loss:0.006061\n",
      "epoch:17 \t loss:0.005232\n",
      "epoch:18 \t loss:0.004631\n",
      "epoch:19 \t loss:0.004179\n",
      "epoch:20 \t loss:0.003830\n",
      "epoch:21 \t loss:0.003551\n",
      "epoch:22 \t loss:0.003322\n",
      "epoch:23 \t loss:0.003129\n",
      "epoch:24 \t loss:0.002964\n",
      "epoch:25 \t loss:0.002821\n",
      "epoch:26 \t loss:0.002693\n",
      "epoch:27 \t loss:0.002579\n",
      "epoch:28 \t loss:0.002475\n",
      "epoch:29 \t loss:0.002379\n"
     ]
    }
   ],
   "source": [
    "epochs = 1000\n",
    "beta1 = 0.9\n",
    "beta2 = 0.99\n",
    "W = np.random.normal(0,0.01,9)\n",
    "learning_rate = 0.01\n",
    "loss_adam = []\n",
    "vt = np.zeros(9)\n",
    "mt = np.zeros(9)\n",
    "for epoch in range(0,epochs):\n",
    "    for index in range(0,len(X)):\n",
    "        data_fp = forward_propagation(X[index],y[index],W)\n",
    "        data_bp = backward_propagation(X[index],W,data_fp)\n",
    "        dw = np.array([data_bp['dw1'],data_bp['dw2'],data_bp['dw3'],data_bp['dw4'],data_bp['dw5'],data_bp['dw6'],data_bp['dw7'],data_bp['dw8'],data_bp['dw9']])\n",
    "        W,vt,mt = adam_update(W,dw,learning_rate,vt,mt,beta1,beta2,(epoch+1))\n",
    "    loss_adam.append(calculateLoss(W))\n",
    "    print(\"epoch:%d \\t loss:%f\"%(epoch,loss_adam[len(loss_adam)-1]))\n",
    "    if((abs(loss_adam[len(loss_adam)-1] - loss_adam[len(loss_adam)-2] )< 0.0001) & (epoch>0)):\n",
    "        break"
   ]
  },
  {
   "cell_type": "markdown",
   "metadata": {
    "id": "MMy0nBw-lXml"
   },
   "source": [
    "<font color='blue'>Plot between epochs and loss</font>"
   ]
  },
  {
   "cell_type": "code",
   "execution_count": 19,
   "metadata": {
    "id": "aiFRk_uFlm2V"
   },
   "outputs": [
    {
     "data": {
      "image/png": "[encoded data removed]",
      "text/plain": [
       "<Figure size 432x288 with 1 Axes>"
      ]
     },
     "metadata": {
      "needs_background": "light"
     },
     "output_type": "display_data"
    }
   ],
   "source": [
    "plt.plot(np.array(range(0,len(loss_adam))),loss_adam, label=' Loss')\n",
    "plt.title('Loss Vs Epoch')\n",
    "plt.legend()\n",
    "plt.xlabel(\"Epoch\")\n",
    "plt.ylabel(\"Loss\")\n",
    "plt.show()"
   ]
  },
  {
   "cell_type": "markdown",
   "metadata": {
    "id": "7627cy8YlnYO"
   },
   "source": [
    "<font color='blue'>Comparision plot between epochs and loss with different optimizers</font>"
   ]
  },
  {
   "cell_type": "code",
   "execution_count": 20,
   "metadata": {
    "id": "scleSfIXl_bC"
   },
   "outputs": [
    {
     "data": {
      "image/png": "[encoded data removed]",
      "text/plain": [
       "<Figure size 432x288 with 1 Axes>"
      ]
     },
     "metadata": {
      "needs_background": "light"
     },
     "output_type": "display_data"
    }
   ],
   "source": [
    "plt.plot(np.array(range(0,len(loss_vanilla))),loss_vanilla, label=' Loss Vanilla update')\n",
    "plt.plot(np.array(range(0,len(loss_momentum))),loss_momentum, label=' Loss Momentum update')\n",
    "plt.plot(np.array(range(0,len(loss_adam))),loss_adam, label=' Loss Adam Update')\n",
    "plt.title('Loss Vs Epoch')\n",
    "plt.legend()\n",
    "plt.xlabel(\"Epoch\")\n",
    "plt.ylabel(\"Loss\")\n",
    "plt.show()"
   ]
  },
  {
   "cell_type": "code",
   "execution_count": null,
   "metadata": {},
   "outputs": [],
   "source": []
  }
 ],
 "metadata": {
  "colab": {
   "collapsed_sections": [],
   "name": "Backpropagation_assignment.ipynb",
   "provenance": []
  },
  "kernelspec": {
   "display_name": "Python 3",
   "language": "python",
   "name": "python3"
  },
  "language_info": {
   "codemirror_mode": {
    "name": "ipython",
    "version": 3
   },
   "file_extension": ".py",
   "mimetype": "text/x-python",
   "name": "python",
   "nbconvert_exporter": "python",
   "pygments_lexer": "ipython3",
   "version": "3.8.5"
  }
 },
 "nbformat": 4,
 "nbformat_minor": 1
}
