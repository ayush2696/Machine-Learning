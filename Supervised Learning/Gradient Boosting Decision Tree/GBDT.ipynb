{
 "cells": [
  {
   "cell_type": "markdown",
   "metadata": {
    "colab_type": "text",
    "id": "8wqapAXjsc24"
   },
   "source": [
    "# Assignment 9: GBDT"
   ]
  },
  {
   "cell_type": "markdown",
   "metadata": {
    "colab_type": "text",
    "id": "8u5NhbnEsc2-"
   },
   "source": [
    "#### Response Coding: Example"
   ]
  },
  {
   "cell_type": "markdown",
   "metadata": {
    "colab_type": "text",
    "id": "HIFWmwHKsc3A"
   },
   "source": [
    "<img src='http://i.imgur.com/TufZptV.jpg' width=700px>\n",
    "\n",
    "> The response tabel is built only on train dataset.\n",
    "> For a category which is not there in train data and present in test data, we will encode them with default values\n",
    "Ex: in our test data if have State: D then we encode it as [0.5, 0.05]"
   ]
  },
  {
   "cell_type": "markdown",
   "metadata": {
    "colab_type": "text",
    "id": "3KwfGufDsc3D"
   },
   "source": [
    "<ol>\n",
    "    <li><strong>Apply GBDT on these feature sets</strong>\n",
    "        <ul>\n",
    "            <li><font color='red'>Set 1</font>: categorical(instead of one hot encoding, try <a href='https://www.appliedaicourse.com/course/applied-ai-course-online/lessons/handling-categorical-and-numerical-features/'>response coding</a>: use probability values), numerical features + project_title(TFIDF)+  preprocessed_eassay (TFIDF)+sentiment Score of eassay(check the bellow example, include all 4 values as 4 features)</li>\n",
    "            <li><font color='red'>Set 2</font>: categorical(instead of one hot encoding, try <a href='https://www.appliedaicourse.com/course/applied-ai-course-online/lessons/handling-categorical-and-numerical-features/'>response coding</a>: use probability values), numerical features + project_title(TFIDF W2V)+  preprocessed_eassay (TFIDF W2V)</li>        </ul>\n",
    "    </li>\n",
    "    <li><strong>The hyper paramter tuning (Consider any two hyper parameters)</strong>\n",
    "        <ul>\n",
    "    <li>Find the best hyper parameter which will give the maximum <a href='https://www.appliedaicourse.com/course/applied-ai-course-online/lessons/receiver-operating-characteristic-curve-roc-curve-and-auc-1/'>AUC</a> value</li>\n",
    "    <li>find the best hyper paramter using k-fold cross validation/simple cross validation data</li>\n",
    "    <li>use gridsearch cv or randomsearch cv or you can write your own for loops to do this task</li>\n",
    "        </ul>\n",
    "    </li>\n",
    "    <li>\n",
    "    <strong>Representation of results</strong>\n",
    "        <ul>\n",
    "    <li>You need to plot the performance of model both on train data and cross validation data for each hyper parameter, like shown in the figure\n",
    "    <img src='https://i.imgur.com/Gp2DQmh.jpg' width=500px> with X-axis as <strong>n_estimators</strong>, Y-axis as <strong>max_depth</strong>, and Z-axis as <strong>AUC Score</strong> , we have given the notebook which explains how to plot this 3d plot, you can find it in the same drive <i>3d_scatter_plot.ipynb</i></li>\n",
    "            <p style=\"text-align:center;font-size:30px;color:red;\"><strong>or</strong></p> <br>\n",
    "    <li>You need to plot the performance of model both on train data and cross validation data for each hyper parameter, like shown in the figure\n",
    "    <img src='https://i.imgur.com/fgN9aUP.jpg' width=300px> <a href='https://seaborn.pydata.org/generated/seaborn.heatmap.html'>seaborn heat maps</a> with rows as <strong>n_estimators</strong>, columns as <strong>max_depth</strong>, and values inside the cell representing <strong>AUC Score</strong> </li>\n",
    "    <li>You choose either of the plotting techniques out of 3d plot or heat map</li>\n",
    "    <li>Once after you found the best hyper parameter, you need to train your model with it, and find the AUC on test data and plot the ROC curve on both train and test.\n",
    "    <img src='https://i.imgur.com/wMQDTFe.jpg' width=300px></li>\n",
    "    <li>Along with plotting ROC curve, you need to print the <a href='https://www.appliedaicourse.com/course/applied-ai-course-online/lessons/confusion-matrix-tpr-fpr-fnr-tnr-1/'>confusion matrix</a> with predicted and original labels of test data points\n",
    "    <img src='https://i.imgur.com/IdN5Ctv.png' width=300px></li>\n",
    "            </ul>\n",
    "    <br>\n",
    "    <li>You need to summarize the results at the end of the notebook, summarize it in the table format\n",
    "        <img src='http://i.imgur.com/YVpIGGE.jpg' width=400px>\n",
    "    </li>\n",
    "</ol>"
   ]
  },
  {
   "cell_type": "code",
   "execution_count": 1,
   "metadata": {
    "colab": {},
    "colab_type": "code",
    "id": "iffa2_WGsc3H",
    "outputId": "151fc2d5-3bc1-4206-9bd2-000dbf662b31"
   },
   "outputs": [
    {
     "name": "stdout",
     "output_type": "stream",
     "text": [
      "neg: 0.01, neu: 0.745, pos: 0.245, compound: 0.9975, "
     ]
    }
   ],
   "source": [
    "import nltk\n",
    "from nltk.sentiment.vader import SentimentIntensityAnalyzer\n",
    "\n",
    "# import nltk\n",
    "# nltk.download('vader_lexicon')\n",
    "\n",
    "sid = SentimentIntensityAnalyzer()\n",
    "\n",
    "for_sentiment = 'a person is a person no matter how small dr seuss i teach the smallest students with the biggest enthusiasm \\\n",
    "for learning my students learn in many different ways using all of our senses and multiple intelligences i use a wide range\\\n",
    "of techniques to help all my students succeed students in my class come from a variety of different backgrounds which makes\\\n",
    "for wonderful sharing of experiences and cultures including native americans our school is a caring community of successful \\\n",
    "learners which can be seen through collaborative student project based learning in and out of the classroom kindergarteners \\\n",
    "in my class love to work with hands on materials and have many different opportunities to practice a skill before it is\\\n",
    "mastered having the social skills to work cooperatively with friends is a crucial aspect of the kindergarten curriculum\\\n",
    "montana is the perfect place to learn about agriculture and nutrition my students love to role play in our pretend kitchen\\\n",
    "in the early childhood classroom i have had several kids ask me can we try cooking with real food i will take their idea \\\n",
    "and create common core cooking lessons where we learn important math and writing concepts while cooking delicious healthy \\\n",
    "food for snack time my students will have a grounded appreciation for the work that went into making the food and knowledge \\\n",
    "of where the ingredients came from as well as how it is healthy for their bodies this project would expand our learning of \\\n",
    "nutrition and agricultural cooking recipes by having us peel our own apples to make homemade applesauce make our own bread \\\n",
    "and mix up healthy plants from our classroom garden in the spring we will also create our own cookbooks to be printed and \\\n",
    "shared with families students will gain math and literature skills as well as a life long enjoyment for healthy cooking \\\n",
    "nannan'\n",
    "ss = sid.polarity_scores(for_sentiment)\n",
    "\n",
    "for k in ss:\n",
    "    print('{0}: {1}, '.format(k, ss[k]), end='')\n",
    "\n",
    "# we can use these 4 things as features/attributes (neg, neu, pos, compound)\n",
    "# neg: 0.0, neu: 0.753, pos: 0.247, compound: 0.93"
   ]
  },
  {
   "cell_type": "markdown",
   "metadata": {
    "colab_type": "text",
    "id": "BOyTl7oKsc3W"
   },
   "source": [
    "<h1>1. GBDT (xgboost/lightgbm) </h1>"
   ]
  },
  {
   "cell_type": "markdown",
   "metadata": {
    "colab_type": "text",
    "id": "VWge-b2Zsc3Z"
   },
   "source": [
    "## 1.1 Loading Data"
   ]
  },
  {
   "cell_type": "code",
   "execution_count": 2,
   "metadata": {
    "colab": {},
    "colab_type": "code",
    "id": "WDZFu6-usc3d"
   },
   "outputs": [],
   "source": [
    "import pandas as pd\n",
    "import numpy as np\n",
    "import seaborn as sns\n",
    "import matplotlib.pyplot as plt\n",
    "from tqdm import tqdm\n",
    "from sklearn.model_selection import train_test_split\n",
    "from sklearn.feature_extraction.text import TfidfVectorizer\n",
    "from scipy.sparse import hstack\n",
    "import scipy\n",
    "from sklearn.ensemble import GradientBoostingClassifier\n",
    "from sklearn.model_selection import GridSearchCV\n",
    "from sklearn.metrics import confusion_matrix\n",
    "from sklearn import metrics\n",
    "from sklearn.metrics import roc_curve, auc\n",
    "import xgboost as xgb"
   ]
  },
  {
   "cell_type": "code",
   "execution_count": 3,
   "metadata": {},
   "outputs": [
    {
     "name": "stdout",
     "output_type": "stream",
     "text": [
      "First Two Rows Of Dataset:\n"
     ]
    },
    {
     "data": {
      "text/html": [
       "<div>\n",
       "<style scoped>\n",
       "    .dataframe tbody tr th:only-of-type {\n",
       "        vertical-align: middle;\n",
       "    }\n",
       "\n",
       "    .dataframe tbody tr th {\n",
       "        vertical-align: top;\n",
       "    }\n",
       "\n",
       "    .dataframe thead th {\n",
       "        text-align: right;\n",
       "    }\n",
       "</style>\n",
       "<table border=\"1\" class=\"dataframe\">\n",
       "  <thead>\n",
       "    <tr style=\"text-align: right;\">\n",
       "      <th></th>\n",
       "      <th>teacher_prefix</th>\n",
       "      <th>school_state</th>\n",
       "      <th>project_grade_category</th>\n",
       "      <th>clean_categories</th>\n",
       "      <th>clean_subcategories</th>\n",
       "      <th>teacher_number_of_previously_posted_projects</th>\n",
       "      <th>project_is_approved</th>\n",
       "      <th>price</th>\n",
       "      <th>title</th>\n",
       "      <th>essay</th>\n",
       "    </tr>\n",
       "  </thead>\n",
       "  <tbody>\n",
       "    <tr>\n",
       "      <th>0</th>\n",
       "      <td>mrs</td>\n",
       "      <td>in</td>\n",
       "      <td>grades_prek_2</td>\n",
       "      <td>literacy_language</td>\n",
       "      <td>esl_literacy</td>\n",
       "      <td>0</td>\n",
       "      <td>0</td>\n",
       "      <td>154.6</td>\n",
       "      <td>educational support english learners home</td>\n",
       "      <td>students english learners working english seco...</td>\n",
       "    </tr>\n",
       "    <tr>\n",
       "      <th>1</th>\n",
       "      <td>mr</td>\n",
       "      <td>fl</td>\n",
       "      <td>grades_6_8</td>\n",
       "      <td>history_civics_health_sports</td>\n",
       "      <td>civics_government_teamsports</td>\n",
       "      <td>7</td>\n",
       "      <td>1</td>\n",
       "      <td>299.0</td>\n",
       "      <td>wanted projector hungry learners</td>\n",
       "      <td>students arrive school eager learn polite gene...</td>\n",
       "    </tr>\n",
       "  </tbody>\n",
       "</table>\n",
       "</div>"
      ],
      "text/plain": [
       "  teacher_prefix school_state project_grade_category  \\\n",
       "0            mrs           in          grades_prek_2   \n",
       "1             mr           fl             grades_6_8   \n",
       "\n",
       "               clean_categories           clean_subcategories  \\\n",
       "0             literacy_language                  esl_literacy   \n",
       "1  history_civics_health_sports  civics_government_teamsports   \n",
       "\n",
       "   teacher_number_of_previously_posted_projects  project_is_approved  price  \\\n",
       "0                                             0                    0  154.6   \n",
       "1                                             7                    1  299.0   \n",
       "\n",
       "                                       title  \\\n",
       "0  educational support english learners home   \n",
       "1           wanted projector hungry learners   \n",
       "\n",
       "                                               essay  \n",
       "0  students english learners working english seco...  \n",
       "1  students arrive school eager learn polite gene...  "
      ]
     },
     "execution_count": 3,
     "metadata": {},
     "output_type": "execute_result"
    }
   ],
   "source": [
    "data = pd.read_csv('preprocessed_data.csv')\n",
    "print(\"First Two Rows Of Dataset:\")\n",
    "data.head(2)"
   ]
  },
  {
   "cell_type": "code",
   "execution_count": 4,
   "metadata": {},
   "outputs": [
    {
     "name": "stdout",
     "output_type": "stream",
     "text": [
      "Shape Of Dataset:\t (109248, 10)\n",
      "Index(['teacher_prefix', 'school_state', 'project_grade_category',\n",
      "       'clean_categories', 'clean_subcategories',\n",
      "       'teacher_number_of_previously_posted_projects', 'project_is_approved',\n",
      "       'price', 'title', 'essay'],\n",
      "      dtype='object')\n"
     ]
    }
   ],
   "source": [
    "print(\"Shape Of Dataset:\\t\",data.shape)\n",
    "print(data.columns)"
   ]
  },
  {
   "cell_type": "markdown",
   "metadata": {
    "colab_type": "text",
    "id": "6lAMFKFcsc3j"
   },
   "source": [
    "<h2>1.2 Splitting data into Train and cross validation(or test): Stratified Sampling</h2>"
   ]
  },
  {
   "cell_type": "code",
   "execution_count": 5,
   "metadata": {
    "colab": {},
    "colab_type": "code",
    "id": "ODMijuuNsc3l"
   },
   "outputs": [
    {
     "name": "stdout",
     "output_type": "stream",
     "text": [
      "X_train-length: 76473.000000\tY_train-length: 76473.000000\n",
      "X_test-length: 32775.000000\tY_test-length: 32775.000000  \n"
     ]
    }
   ],
   "source": [
    "X = data.drop('project_is_approved',axis = 1)\n",
    "Y = data['project_is_approved']\n",
    "X_train,X_test,Y_train,Y_test = train_test_split(X,Y,test_size = 0.3,stratify= Y)\n",
    "print(\"X_train-length: %f\\tY_train-length: %f\\nX_test-length: %f\\tY_test-length: %f  \"%(len(X_train),len(Y_train),len(X_test),len(Y_test)))"
   ]
  },
  {
   "cell_type": "markdown",
   "metadata": {
    "colab_type": "text",
    "id": "vsALgl5Asc3u"
   },
   "source": [
    "<h2>1.3 Make Data Model Ready: encoding eassay, and project_title</h2>"
   ]
  },
  {
   "cell_type": "code",
   "execution_count": 6,
   "metadata": {},
   "outputs": [],
   "source": [
    "def generate_tfidf(minDf,maxFeatures,feature):\n",
    "    vectorizer = TfidfVectorizer(min_df=minDf,max_features=maxFeatures)\n",
    "    vectorizer.fit(X_train[feature])\n",
    "    X_train_feature_tfidf = vectorizer.transform(X_train[feature])\n",
    "    X_test_feature_tfidf = vectorizer.transform(X_test[feature])\n",
    "    return X_train_feature_tfidf,X_test_feature_tfidf,vectorizer.get_feature_names()"
   ]
  },
  {
   "cell_type": "markdown",
   "metadata": {},
   "source": [
    "### SET 1"
   ]
  },
  {
   "cell_type": "code",
   "execution_count": 7,
   "metadata": {
    "colab": {},
    "colab_type": "code",
    "id": "1A_85jbWsc3v"
   },
   "outputs": [
    {
     "name": "stdout",
     "output_type": "stream",
     "text": [
      "Shape of X_train_essay :  (76473, 5000)\n",
      "Shape of X_test_essay :  (32775, 5000)\n",
      "5000\n"
     ]
    }
   ],
   "source": [
    "#Set 1: \n",
    "# 1.1) essay\n",
    "X_train_essay_tfidf,X_test_essay_tfidf,X_train_essay_tdif_features = generate_tfidf(1,5000,'essay')\n",
    "print(\"Shape of X_train_essay : \", X_train_essay_tfidf.shape)\n",
    "print(\"Shape of X_test_essay : \", X_test_essay_tfidf.shape)\n",
    "print(len(X_train_essay_tdif_features))"
   ]
  },
  {
   "cell_type": "code",
   "execution_count": 8,
   "metadata": {},
   "outputs": [
    {
     "name": "stdout",
     "output_type": "stream",
     "text": [
      "Shape of X_train_title :  (76473, 5000)\n",
      "Shape of X_test_title :  (32775, 5000)\n",
      "5000\n"
     ]
    }
   ],
   "source": [
    "# 1.2) title\n",
    "X_train_title_tfidf,X_test_title_tfidf,X_train_title_tdif_features = generate_tfidf(1,5000,'title')\n",
    "print(\"Shape of X_train_title : \", X_train_title_tfidf.shape)\n",
    "print(\"Shape of X_test_title : \", X_test_title_tfidf.shape)\n",
    "print(len(X_train_title_tdif_features))"
   ]
  },
  {
   "cell_type": "markdown",
   "metadata": {},
   "source": [
    "### SET 2"
   ]
  },
  {
   "cell_type": "code",
   "execution_count": 9,
   "metadata": {},
   "outputs": [],
   "source": [
    "import pickle\n",
    "with open('glove_vectors', 'rb') as f:\n",
    "    model = pickle.load(f)\n",
    "    glove_words =  set(model.keys())"
   ]
  },
  {
   "cell_type": "code",
   "execution_count": 10,
   "metadata": {},
   "outputs": [],
   "source": [
    "def generate_tfidf_w2v(minDf,ngram,maxFeatures,feature):\n",
    "    vectorizer = TfidfVectorizer(min_df=minDf,max_features=maxFeatures,ngram_range=ngram)\n",
    "    vectorizer.fit(X_train[feature])\n",
    "    X_train_feature_tfidf = vectorizer.transform(X_train[feature])\n",
    "    X_test_feature_tfidf = vectorizer.transform(X_test[feature])\n",
    "    return X_train_feature_tfidf,X_test_feature_tfidf,vectorizer.get_feature_names()"
   ]
  },
  {
   "cell_type": "code",
   "execution_count": 11,
   "metadata": {},
   "outputs": [
    {
     "name": "stdout",
     "output_type": "stream",
     "text": [
      "Shape of X_train_essay :  (76473, 48765)\n",
      "Shape of X_test_essay :  (32775, 48765)\n",
      "48765\n"
     ]
    }
   ],
   "source": [
    "#Set 2: \n",
    "# 2.1) essay\n",
    "\n",
    "X_train_essay_tfidf_w2v,X_test_essay_tfidf_w2v,X_train_essay_tfidf_w2v_features =  generate_tfidf_w2v(1,(1,1),None,'essay')\n",
    "print(\"Shape of X_train_essay : \", X_train_essay_tfidf_w2v.shape)\n",
    "print(\"Shape of X_test_essay : \", X_test_essay_tfidf_w2v.shape)\n",
    "print(len(X_train_essay_tfidf_w2v_features))"
   ]
  },
  {
   "cell_type": "code",
   "execution_count": 12,
   "metadata": {},
   "outputs": [
    {
     "name": "stdout",
     "output_type": "stream",
     "text": [
      "Shape of X_train_essay :  (76473, 14198)\n",
      "Shape of X_test_essay :  (32775, 14198)\n",
      "14198\n"
     ]
    }
   ],
   "source": [
    "# 2.2) title\n",
    "\n",
    "X_train_title_tfidf_w2v,X_test_title_tfidf_w2v,X_train_title_tfidf_w2v_features =  generate_tfidf_w2v(1,(1,1),None,'title')\n",
    "print(\"Shape of X_train_essay : \", X_train_title_tfidf_w2v.shape)\n",
    "print(\"Shape of X_test_essay : \", X_test_title_tfidf_w2v.shape)\n",
    "print(len(X_train_title_tfidf_w2v_features))"
   ]
  },
  {
   "cell_type": "code",
   "execution_count": 13,
   "metadata": {},
   "outputs": [],
   "source": [
    "def tfidf_w2v_vector_generator(feature_tfidf_w2v,corpus):\n",
    "    tdif_w2v = []\n",
    "    #for each essay calculate the tfidf-w2v\n",
    "    for row in tqdm(feature_tfidf_w2v):\n",
    "        #convert the row to array\n",
    "        row_array = row.toarray()\n",
    "        sentence_avg_w2v = 0\n",
    "        sum_tdif = 0\n",
    "        #get all the indexes for which tfidf value is zero\n",
    "        for index in np.where(row_array != 0)[1]:\n",
    "            #for each index check if the word exists in glove model\n",
    "            if(corpus[index] in model):\n",
    "                #if the word exists in glove model then calculate the numerator\n",
    "                sentence_avg_w2v += model[corpus[index]] * row_array[0][index]\n",
    "                #calculate the denominator\n",
    "                sum_tdif = sum_tdif + row_array[0][index]\n",
    "        #store the numerator/denominator\n",
    "        if(sum_tdif == 0):\n",
    "            sentence_avg_w2v = np.zeros(300)\n",
    "        else:\n",
    "            sentence_avg_w2v = sentence_avg_w2v/sum_tdif\n",
    "        #store the 300 dim. vector for all rows\n",
    "        tdif_w2v.append(sentence_avg_w2v.tolist())\n",
    "    return tdif_w2v"
   ]
  },
  {
   "cell_type": "code",
   "execution_count": 14,
   "metadata": {},
   "outputs": [
    {
     "name": "stderr",
     "output_type": "stream",
     "text": [
      "76473it [01:12, 1052.24it/s]\n",
      "32775it [00:32, 1018.24it/s]"
     ]
    },
    {
     "name": "stdout",
     "output_type": "stream",
     "text": [
      "Vector Length X_train_tfidf_w2v:\t 300\n",
      "Number of Vectors  X_train_tfidf_w2v:\t 76473\n",
      "Vector Length X_test_tfidf_w2v:\t 300\n",
      "Number of Vectors  X_test_tfidf_w2v:\t 32775\n"
     ]
    },
    {
     "name": "stderr",
     "output_type": "stream",
     "text": [
      "\n"
     ]
    }
   ],
   "source": [
    "X_train_essay_w2v = tfidf_w2v_vector_generator(X_train_essay_tfidf_w2v,X_train_essay_tfidf_w2v_features)\n",
    "X_test_essay_w2v = tfidf_w2v_vector_generator(X_test_essay_tfidf_w2v,X_train_essay_tfidf_w2v_features)\n",
    "print(\"Vector Length X_train_tfidf_w2v:\\t\",len(X_train_essay_w2v[0]))\n",
    "print(\"Number of Vectors  X_train_tfidf_w2v:\\t\",len(X_train_essay_w2v))\n",
    "print(\"Vector Length X_test_tfidf_w2v:\\t\",len(X_test_essay_w2v[0]))\n",
    "print(\"Number of Vectors  X_test_tfidf_w2v:\\t\",len(X_test_essay_w2v))"
   ]
  },
  {
   "cell_type": "code",
   "execution_count": 15,
   "metadata": {},
   "outputs": [
    {
     "name": "stderr",
     "output_type": "stream",
     "text": [
      "76473it [00:13, 5848.01it/s]\n",
      "32775it [00:05, 5949.17it/s]"
     ]
    },
    {
     "name": "stdout",
     "output_type": "stream",
     "text": [
      "Vector Length X_train_tfidf_w2v:\t 300\n",
      "Number of Vectors  X_train_tfidf_w2v:\t 76473\n",
      "Vector Length X_test_tfidf_w2v:\t 300\n",
      "Number of Vectors  X_test_tfidf_w2v:\t 32775\n"
     ]
    },
    {
     "name": "stderr",
     "output_type": "stream",
     "text": [
      "\n"
     ]
    }
   ],
   "source": [
    "X_train_title_w2v = tfidf_w2v_vector_generator(X_train_title_tfidf_w2v,X_train_title_tfidf_w2v_features)\n",
    "X_test_title_w2v = tfidf_w2v_vector_generator(X_test_title_tfidf_w2v,X_train_title_tfidf_w2v_features)\n",
    "print(\"Vector Length X_train_tfidf_w2v:\\t\",len(X_train_title_w2v[0]))\n",
    "print(\"Number of Vectors  X_train_tfidf_w2v:\\t\",len(X_train_title_w2v))\n",
    "print(\"Vector Length X_test_tfidf_w2v:\\t\",len(X_test_title_w2v[0]))\n",
    "print(\"Number of Vectors  X_test_tfidf_w2v:\\t\",len(X_test_title_w2v))"
   ]
  },
  {
   "cell_type": "markdown",
   "metadata": {
    "colab_type": "text",
    "id": "S3Vxxv2Hsc31"
   },
   "source": [
    "<h2>1.4 Make Data Model Ready: encoding numerical, categorical features</h2>"
   ]
  },
  {
   "cell_type": "code",
   "execution_count": 16,
   "metadata": {},
   "outputs": [],
   "source": [
    "def generate_dict_feature_class_counts(X_train_combined,feature):\n",
    "    unique_feature = X_train_combined[feature].unique()\n",
    "    dict_feature = {}\n",
    "    for index in range(0,len(unique_feature)):\n",
    "        number_of_zeros = len(X_train_combined[(X_train_combined[feature] == unique_feature[index]) & (X_train_combined['Y_train']==0)])\n",
    "        number_of_ones = len(X_train_combined[(X_train_combined[feature] == unique_feature[index]) & (X_train_combined['Y_train']==1)])\n",
    "        dict_feature[unique_feature[index]]=[number_of_zeros,number_of_ones]\n",
    "    return dict_feature"
   ]
  },
  {
   "cell_type": "code",
   "execution_count": 17,
   "metadata": {},
   "outputs": [],
   "source": [
    "X_test_combined = X_test.copy()\n",
    "X_test_combined['Y_test'] = Y_test\n",
    "X_train_combined = X_train.copy()\n",
    "X_train_combined['Y_train'] = Y_train"
   ]
  },
  {
   "cell_type": "markdown",
   "metadata": {},
   "source": [
    "#### Creating a dict. for categorical_feature, where { categorical_feature:[number_of_zeros,number_of_ones]}"
   ]
  },
  {
   "cell_type": "code",
   "execution_count": 18,
   "metadata": {},
   "outputs": [
    {
     "name": "stdout",
     "output_type": "stream",
     "text": [
      "State_Name Dictionary with respective count for [class 0, class 1]:\n",
      " {'wa': [210, 1428], 'nh': [33, 183], 'nv': [147, 816], 'ar': [122, 579], 'tx': [971, 4197], 'fl': [727, 3579], 'ca': [1510, 9303], 'in': [284, 1569], 'ga': [438, 2354], 'il': [434, 2604], 'nj': [236, 1358], 'mi': [325, 1856], 'me': [55, 302], 'ks': [70, 373], 'pa': [326, 1851], 'sc': [379, 2411], 'ny': [718, 4421], 'mo': [263, 1569], 'ma': [229, 1460], 'ky': [126, 802], 'al': [184, 1056], 'or': [137, 734], 'nc': [517, 3006], 'tn': [171, 1008], 'ct': [152, 1001], 'va': [227, 1238], 'ia': [61, 390], 'la': [290, 1367], 'az': [234, 1238], 'md': [186, 887], 'wv': [44, 288], 'co': [129, 643], 'nm': [58, 337], 'ms': [142, 766], 'nd': [10, 87], 'ok': [277, 1316], 'ut': [192, 1034], 'mn': [123, 738], 'oh': [217, 1516], 'mt': [36, 139], 'wi': [197, 1065], 'sd': [32, 176], 'ri': [27, 165], 'ak': [41, 212], 'dc': [72, 281], 'de': [26, 222], 'id': [79, 403], 'ne': [36, 180], 'hi': [54, 286], 'wy': [13, 53], 'vt': [12, 47]}\n",
      "***************************************************************************************************************************\n",
      "teacher_prefix Dictionary with respective count for [class 0, class 1]:\n",
      " {'mrs': [5797, 34336], 'ms': [4280, 23027], 'teacher': [320, 1290], 'mr': [1180, 6235], 'dr': [2, 6]}\n",
      "***************************************************************************************************************************\n",
      "project_grade_category Dictionary with respective count for [class 0, class 1]:\n",
      " {'grades_prek_2': [4717, 26346], 'grades_3_5': [3741, 22246], 'grades_9_12': [1272, 6400], 'grades_6_8': [1849, 9902]}\n",
      "***************************************************************************************************************************\n",
      "clean_categories Dictionary with respective count for [class 0, class 1]:\n",
      " {'literacy_language': [2204, 14395], 'literacy_language_math_science': [1356, 8900], 'math_science': [2142, 9797], 'appliedlearning': [515, 2128], 'health_sports': [1080, 6047], 'math_science_literacy_language': [222, 1374], 'math_science_appliedlearning': [130, 739], 'appliedlearning_math_science': [147, 607], 'appliedlearning_history_civics': [18, 101], 'warmth_care_hunger': [61, 853], 'history_civics': [222, 1082], 'health_sports_specialneeds': [124, 842], 'literacy_language_history_civics': [65, 492], 'literacy_language_music_arts': [200, 1037], 'literacy_language_specialneeds': [374, 2367], 'math_science_history_civics': [65, 411], 'history_civics_appliedlearning': [8, 22], 'specialneeds': [570, 2377], 'math_science_music_arts': [194, 963], 'music_arts': [527, 3111], 'specialneeds_music_arts': [35, 197], 'history_civics_specialneeds': [30, 146], 'history_civics_literacy_language': [103, 902], 'appliedlearning_music_arts': [107, 444], 'health_sports_math_science': [33, 134], 'appliedlearning_literacy_language': [226, 1273], 'appliedlearning_specialneeds': [198, 832], 'specialneeds_health_sports': [4, 22], 'math_science_specialneeds': [200, 1070], 'literacy_language_appliedlearning': [57, 377], 'health_sports_literacy_language': [81, 490], 'music_arts_history_civics': [3, 9], 'math_science_health_sports': [59, 238], 'history_civics_math_science': [34, 198], 'appliedlearning_health_sports': [70, 344], 'history_civics_music_arts': [38, 176], 'literacy_language_health_sports': [8, 41], 'music_arts_specialneeds': [14, 89], 'health_sports_music_arts': [19, 82], 'health_sports_appliedlearning': [20, 100], 'health_sports_warmth_care_hunger': [1, 12], 'specialneeds_warmth_care_hunger': [3, 14], 'appliedlearning_warmth_care_hunger': [2, 5], 'music_arts_health_sports': [1, 9], 'math_science_warmth_care_hunger': [2, 6], 'health_sports_history_civics': [2, 21], 'music_arts_appliedlearning': [2, 6], 'history_civics_health_sports': [1, 7], 'literacy_language_warmth_care_hunger': [2, 4], 'music_arts_warmth_care_hunger': [0, 1]}\n",
      "***************************************************************************************************************************\n",
      "clean_subcategories Dictionary with respective count for [class 0, class 1]:\n",
      " {'literature_writing': [462, 2624], 'literature_writing_mathematics': [559, 3620], 'literacy_mathematics': [751, 5063], 'appliedsciences': [315, 1419], 'college_careerprep': [64, 241], 'charactereducation': [48, 189], 'health_wellness': [328, 2217], 'environmentalscience_literacy': [39, 279], 'appliedsciences_mathematics': [376, 1994], 'foreignlanguages_literacy': [28, 142], 'appliedsciences_college_careerprep': [51, 235], 'literacy': [794, 5915], 'college_careerprep_mathematics': [35, 182], 'other_socialsciences': [1, 2], 'mathematics': [715, 3058], 'warmth_care_hunger': [61, 853], 'socialsciences': [22, 132], 'nutritioneducation': [40, 152], 'esl_literacy': [202, 1375], 'health_wellness_specialneeds': [103, 729], 'environmentalscience_health_lifescience': [130, 553], 'literacy_literature_writing': [511, 3393], 'literature_writing_socialsciences': [29, 203], 'literacy_visualarts': [62, 321], 'esl_literature_writing': [86, 423], 'esl_mathematics': [32, 157], 'literacy_specialneeds': [221, 1479], 'gym_fitness': [148, 690], 'environmentalscience_history_geography': [12, 101], 'financialliteracy_other': [1, 1], 'environmentalscience': [124, 632], 'specialneeds': [570, 2377], 'appliedsciences_visualarts': [71, 369], 'visualarts': [269, 1313], 'health_lifescience_mathematics': [66, 297], 'gym_fitness_teamsports': [87, 309], 'other': [95, 473], 'specialneeds_visualarts': [35, 197], 'communityservice_extracurricular': [2, 7], 'history_geography_specialneeds': [14, 68], 'communityservice_environmentalscience': [5, 28], 'literature_writing_specialneeds': [137, 762], 'gym_fitness_health_wellness': [191, 1418], 'music': [119, 918], 'civics_government_literature_writing': [5, 59], 'appliedsciences_health_lifescience': [78, 308], 'charactereducation_college_careerprep': [17, 63], 'earlydevelopment_visualarts': [30, 82], 'civics_government_literacy': [11, 102], 'health_wellness_mathematics': [24, 114], 'charactereducation_literacy': [29, 203], 'other_specialneeds': [47, 164], 'civics_government_history_geography': [29, 145], 'specialneeds_teamsports': [4, 22], 'earlydevelopment': [116, 536], 'gym_fitness_specialneeds': [17, 91], 'appliedsciences_earlydevelopment': [22, 102], 'charactereducation_parentinvolvement': [3, 15], 'health_lifescience_literacy': [27, 202], 'health_lifescience': [87, 495], 'appliedsciences_esl': [7, 47], 'literacy_music': [9, 87], 'appliedsciences_civics_government': [2, 10], 'history_geography_socialsciences': [35, 184], 'health_wellness_nutritioneducation': [92, 442], 'mathematics_specialneeds': [142, 671], 'teamsports': [132, 587], 'appliedsciences_performingarts': [4, 21], 'music_performingarts': [74, 572], 'literacy_socialsciences': [25, 238], 'environmentalscience_visualarts': [27, 115], 'earlydevelopment_specialneeds': [98, 451], 'economics_financialliteracy': [12, 45], 'appliedsciences_specialneeds': [27, 226], 'financialliteracy_history_geography': [1, 8], 'appliedsciences_literature_writing': [39, 241], 'appliedsciences_literacy': [69, 321], 'health_wellness_teamsports': [53, 188], 'history_geography_literature_writing': [57, 363], 'charactereducation_literature_writing': [18, 94], 'gym_fitness_mathematics': [7, 16], 'literacy_other': [12, 106], 'college_careerprep_other': [10, 46], 'foreignlanguages_socialsciences': [1, 6], 'esl': [45, 241], 'health_wellness_literature_writing': [26, 177], 'music_socialsciences': [1, 5], 'health_wellness_literacy': [47, 290], 'foreignlanguages_mathematics': [4, 19], 'appliedsciences_environmentalscience': [141, 566], 'foreignlanguages': [55, 197], 'esl_specialneeds': [15, 113], 'history_geography_literacy': [27, 343], 'college_careerprep_performingarts': [6, 12], 'parentinvolvement_specialneeds': [3, 15], 'college_careerprep_literacy': [17, 140], 'performingarts': [40, 228], 'college_careerprep_literature_writing': [39, 183], 'environmentalscience_nutritioneducation': [8, 26], 'environmentalscience_mathematics': [110, 475], 'health_lifescience_health_wellness': [18, 95], 'history_geography': [76, 304], 'environmentalscience_literature_writing': [27, 165], 'communityservice_specialneeds': [6, 13], 'health_lifescience_visualarts': [13, 59], 'environmentalscience_socialsciences': [10, 49], 'charactereducation_socialsciences': [2, 10], 'foreignlanguages_history_geography': [3, 10], 'earlydevelopment_literacy': [73, 429], 'other_visualarts': [9, 33], 'civics_government': [11, 50], 'extracurricular_parentinvolvement': [0, 4], 'mathematics_visualarts': [67, 276], 'earlydevelopment_mathematics': [48, 164], 'literacy_performingarts': [15, 78], 'health_lifescience_socialsciences': [7, 49], 'appliedsciences_communityservice': [2, 10], 'appliedsciences_charactereducation': [3, 37], 'performingarts_visualarts': [17, 57], 'charactereducation_mathematics': [15, 66], 'appliedsciences_parentinvolvement': [4, 46], 'financialliteracy_mathematics': [10, 85], 'earlydevelopment_parentinvolvement': [6, 22], 'literature_writing_performingarts': [10, 73], 'music_visualarts': [8, 23], 'literature_writing_visualarts': [80, 402], 'charactereducation_specialneeds': [25, 98], 'appliedsciences_extracurricular': [13, 89], 'communityservice_other': [5, 3], 'literacy_parentinvolvement': [11, 96], 'esl_socialsciences': [1, 10], 'earlydevelopment_health_lifescience': [7, 19], 'health_lifescience_specialneeds': [21, 81], 'earlydevelopment_health_wellness': [24, 186], 'communityservice': [9, 27], 'parentinvolvement': [7, 25], 'literature_writing_other': [19, 75], 'earlydevelopment_teamsports': [1, 2], 'mathematics_other': [12, 56], 'literature_writing_parentinvolvement': [8, 40], 'socialsciences_visualarts': [7, 37], 'civics_government_socialsciences': [6, 56], 'performingarts_socialsciences': [2, 4], 'health_lifescience_literature_writing': [12, 116], 'appliedsciences_music': [6, 42], 'foreignlanguages_visualarts': [5, 3], 'foreignlanguages_health_wellness': [2, 5], 'charactereducation_earlydevelopment': [27, 84], 'music_specialneeds': [11, 82], 'literacy_teamsports': [2, 7], 'gym_fitness_literacy': [5, 14], 'appliedsciences_health_wellness': [2, 28], 'history_geography_mathematics': [13, 70], 'financialliteracy': [20, 96], 'college_careerprep_specialneeds': [17, 80], 'charactereducation_communityservice': [8, 31], 'communityservice_socialsciences': [1, 3], 'environmentalscience_specialneeds': [10, 92], 'college_careerprep_communityservice': [4, 15], 'college_careerprep_parentinvolvement': [7, 19], 'gym_fitness_health_lifescience': [2, 4], 'literature_writing_music': [4, 28], 'extracurricular': [20, 73], 'charactereducation_other': [20, 55], 'appliedsciences_socialsciences': [6, 45], 'extracurricular_visualarts': [14, 53], 'health_wellness_performingarts': [2, 9], 'appliedsciences_economics': [1, 1], 'health_lifescience_teamsports': [1, 6], 'mathematics_performingarts': [2, 18], 'civics_government_specialneeds': [1, 15], 'charactereducation_health_wellness': [15, 63], 'financialliteracy_literacy': [3, 15], 'health_lifescience_nutritioneducation': [11, 23], 'extracurricular_music': [2, 21], 'charactereducation_gym_fitness': [1, 2], 'extracurricular_performingarts': [1, 18], 'charactereducation_visualarts': [10, 39], 'college_careerprep_health_lifescience': [4, 23], 'mathematics_socialsciences': [8, 54], 'appliedsciences_history_geography': [11, 50], 'earlydevelopment_other': [19, 87], 'communityservice_literacy': [4, 10], 'health_wellness_other': [18, 84], 'health_wellness_warmth_care_hunger': [1, 10], 'charactereducation_health_lifescience': [3, 15], 'college_careerprep_socialsciences': [2, 18], 'health_wellness_music': [2, 21], 'college_careerprep_health_wellness': [3, 13], 'appliedsciences_nutritioneducation': [1, 3], 'extracurricular_mathematics': [5, 34], 'esl_health_wellness': [3, 15], 'health_lifescience_history_geography': [7, 41], 'economics_mathematics': [1, 18], 'appliedsciences_other': [10, 78], 'environmentalscience_other': [2, 7], 'communityservice_mathematics': [1, 13], 'economics_socialsciences': [2, 7], 'environmentalscience_health_wellness': [8, 30], 'literature_writing_teamsports': [0, 6], 'history_geography_other': [3, 6], 'charactereducation_extracurricular': [9, 28], 'college_careerprep_extracurricular': [4, 28], 'mathematics_parentinvolvement': [6, 53], 'health_wellness_visualarts': [5, 22], 'nutritioneducation_warmth_care_hunger': [0, 2], 'charactereducation_environmentalscience': [3, 13], 'earlydevelopment_music': [4, 13], 'history_geography_performingarts': [3, 9], 'extracurricular_other': [8, 15], 'history_geography_visualarts': [21, 93], 'esl_earlydevelopment': [2, 40], 'gym_fitness_nutritioneducation': [5, 38], 'college_careerprep_environmentalscience': [9, 15], 'communityservice_health_lifescience': [1, 6], 'college_careerprep_visualarts': [11, 95], 'earlydevelopment_environmentalscience': [9, 27], 'nutritioneducation_specialneeds': [4, 22], 'health_wellness_parentinvolvement': [1, 1], 'charactereducation_teamsports': [7, 9], 'foreignlanguages_specialneeds': [1, 13], 'earlydevelopment_literature_writing': [26, 118], 'environmentalscience_music': [0, 4], 'foreignlanguages_literature_writing': [13, 53], 'gym_fitness_literature_writing': [3, 9], 'earlydevelopment_socialsciences': [1, 9], 'esl_foreignlanguages': [8, 32], 'financialliteracy_literature_writing': [0, 7], 'esl_history_geography': [3, 23], 'socialsciences_specialneeds': [8, 30], 'history_geography_music': [2, 18], 'communityservice_earlydevelopment': [1, 7], 'specialneeds_warmth_care_hunger': [3, 14], 'charactereducation_warmth_care_hunger': [2, 1], 'extracurricular_specialneeds': [2, 11], 'extracurricular_literacy': [7, 26], 'gym_fitness_music': [3, 14], 'extracurricular_teamsports': [3, 11], 'esl_environmentalscience': [5, 18], 'communityservice_nutritioneducation': [2, 1], 'appliedsciences_teamsports': [1, 8], 'charactereducation_foreignlanguages': [0, 4], 'economics': [1, 15], 'esl_health_lifescience': [5, 20], 'mathematics_music': [3, 40], 'extracurricular_health_lifescience': [2, 2], 'esl_parentinvolvement': [2, 6], 'appliedsciences_gym_fitness': [2, 8], 'college_careerprep_history_geography': [3, 14], 'earlydevelopment_extracurricular': [2, 8], 'charactereducation_performingarts': [2, 4], 'civics_government_performingarts': [2, 3], 'civics_government_environmentalscience': [4, 5], 'civics_government_health_lifescience': [3, 8], 'earlydevelopment_gym_fitness': [1, 25], 'parentinvolvement_visualarts': [3, 21], 'earlydevelopment_nutritioneducation': [1, 5], 'performingarts_specialneeds': [3, 7], 'nutritioneducation_teamsports': [4, 6], 'civics_government_financialliteracy': [1, 9], 'college_careerprep_foreignlanguages': [3, 12], 'music_teamsports': [1, 4], 'college_careerprep_nutritioneducation': [3, 5], 'esl_other': [2, 10], 'environmentalscience_teamsports': [0, 1], 'civics_government_economics': [4, 14], 'gym_fitness_visualarts': [4, 7], 'esl_performingarts': [3, 8], 'extracurricular_health_wellness': [1, 7], 'civics_government_college_careerprep': [1, 6], 'charactereducation_music': [2, 12], 'mathematics_warmth_care_hunger': [1, 1], 'civics_government_extracurricular': [1, 1], 'gym_fitness_performingarts': [2, 5], 'parentinvolvement_socialsciences': [1, 3], 'esl_visualarts': [6, 23], 'economics_visualarts': [1, 6], 'health_lifescience_music': [0, 7], 'financialliteracy_specialneeds': [6, 32], 'health_wellness_history_geography': [1, 12], 'civics_government_mathematics': [2, 5], 'civics_government_communityservice': [2, 5], 'economics_music': [0, 1], 'college_careerprep_earlydevelopment': [2, 18], 'communityservice_visualarts': [9, 17], 'economics_literacy': [0, 9], 'environmentalscience_warmth_care_hunger': [0, 2], 'earlydevelopment_economics': [1, 1], 'esl_music': [1, 8], 'communityservice_performingarts': [0, 2], 'esl_financialliteracy': [3, 2], 'gym_fitness_other': [0, 9], 'communityservice_literature_writing': [1, 20], 'financialliteracy_health_lifescience': [1, 2], 'foreignlanguages_other': [1, 3], 'environmentalscience_foreignlanguages': [2, 2], 'appliedsciences_financialliteracy': [1, 5], 'communityservice_parentinvolvement': [1, 3], 'communityservice_gym_fitness': [0, 1], 'earlydevelopment_warmth_care_hunger': [0, 2], 'foreignlanguages_music': [4, 4], 'other_parentinvolvement': [1, 6], 'charactereducation_financialliteracy': [1, 4], 'parentinvolvement_performingarts': [0, 4], 'mathematics_nutritioneducation': [3, 4], 'economics_literature_writing': [0, 2], 'other_teamsports': [0, 3], 'extracurricular_literature_writing': [1, 20], 'earlydevelopment_performingarts': [1, 11], 'esl_gym_fitness': [0, 1], 'music_parentinvolvement': [0, 3], 'earlydevelopment_history_geography': [0, 2], 'environmentalscience_parentinvolvement': [0, 8], 'health_wellness_socialsciences': [1, 6], 'music_other': [2, 3], 'civics_government_parentinvolvement': [0, 1], 'college_careerprep_economics': [0, 5], 'other_performingarts': [2, 1], 'environmentalscience_performingarts': [1, 9], 'economics_history_geography': [2, 16], 'charactereducation_history_geography': [1, 4], 'literacy_nutritioneducation': [1, 3], 'financialliteracy_health_wellness': [0, 2], 'environmentalscience_extracurricular': [2, 5], 'college_careerprep_financialliteracy': [1, 7], 'communityservice_history_geography': [0, 3], 'economics_nutritioneducation': [0, 1], 'literature_writing_nutritioneducation': [0, 1], 'civics_government_visualarts': [2, 6], 'health_lifescience_performingarts': [0, 3], 'communityservice_economics': [1, 2], 'charactereducation_esl': [5, 5], 'nutritioneducation_other': [1, 5], 'extracurricular_foreignlanguages': [0, 2], 'history_geography_teamsports': [1, 1], 'extracurricular_gym_fitness': [1, 1], 'nutritioneducation_visualarts': [0, 2], 'economics_environmentalscience': [0, 4], 'health_lifescience_other': [2, 5], 'earlydevelopment_financialliteracy': [1, 5], 'environmentalscience_gym_fitness': [1, 3], 'mathematics_teamsports': [3, 3], 'environmentalscience_financialliteracy': [0, 6], 'extracurricular_nutritioneducation': [2, 2], 'communityservice_esl': [2, 2], 'teamsports_visualarts': [1, 2], 'health_lifescience_parentinvolvement': [1, 8], 'performingarts_teamsports': [0, 5], 'communityservice_health_wellness': [4, 4], 'literacy_warmth_care_hunger': [2, 1], 'financialliteracy_visualarts': [0, 3], 'charactereducation_civics_government': [1, 4], 'college_careerprep_music': [1, 6], 'appliedsciences_foreignlanguages': [0, 1], 'appliedsciences_warmth_care_hunger': [1, 1], 'extracurricular_socialsciences': [0, 3], 'gym_fitness_history_geography': [0, 2], 'parentinvolvement_warmth_care_hunger': [0, 1], 'gym_fitness_parentinvolvement': [0, 1], 'esl_extracurricular': [0, 1], 'earlydevelopment_foreignlanguages': [0, 2], 'civics_government_teamsports': [0, 1], 'health_lifescience_warmth_care_hunger': [0, 2], 'literature_writing_warmth_care_hunger': [0, 3], 'civics_government_esl': [0, 1], 'economics_specialneeds': [1, 1], 'financialliteracy_socialsciences': [0, 1], 'college_careerprep_teamsports': [0, 1], 'economics_other': [0, 1], 'economics_foreignlanguages': [0, 1], 'college_careerprep_gym_fitness': [1, 2], 'esl_nutritioneducation': [0, 3], 'extracurricular_history_geography': [0, 1], 'college_careerprep_esl': [1, 3], 'charactereducation_nutritioneducation': [0, 1], 'civics_government_health_wellness': [0, 2], 'nutritioneducation_socialsciences': [0, 1], 'foreignlanguages_health_lifescience': [0, 3], 'foreignlanguages_performingarts': [1, 2], 'visualarts_warmth_care_hunger': [0, 1], 'extracurricular_financialliteracy': [0, 1], 'history_geography_parentinvolvement': [0, 1], 'economics_health_lifescience': [0, 1], 'college_careerprep_warmth_care_hunger': [0, 1]}\n",
      "***************************************************************************************************************************\n"
     ]
    }
   ],
   "source": [
    "\n",
    "# 1.Creating a dict. for school_state, where {state_name:[number_of_zeros,number_of_ones]}\n",
    "dict_school_state = generate_dict_feature_class_counts(X_train_combined,'school_state')\n",
    "print(\"State_Name Dictionary with respective count for [class 0, class 1]:\\n\",dict_school_state)\n",
    "print(\"*\"*123)\n",
    "# 2.Creating a dict. for teacher_prefix, where {teacher_prefix:[number_of_zeros,number_of_ones]}\n",
    "dict_teacher_prefix = generate_dict_feature_class_counts(X_train_combined,'teacher_prefix')\n",
    "print(\"teacher_prefix Dictionary with respective count for [class 0, class 1]:\\n\",dict_teacher_prefix)\n",
    "print(\"*\"*123)\n",
    "# 3.Creating a dict. for project_grade_category, where {project_grade_category:[number_of_zeros,number_of_ones]}\n",
    "dict_project_grade_category = generate_dict_feature_class_counts(X_train_combined,'project_grade_category')\n",
    "print(\"project_grade_category Dictionary with respective count for [class 0, class 1]:\\n\",dict_project_grade_category)\n",
    "print(\"*\"*123)\n",
    "# 4.Creating a dict. for clean_categories, where {clean_categories:[number_of_zeros,number_of_ones]}\n",
    "dict_clean_categories = generate_dict_feature_class_counts(X_train_combined,'clean_categories')\n",
    "print(\"clean_categories Dictionary with respective count for [class 0, class 1]:\\n\",dict_clean_categories)\n",
    "print(\"*\"*123)\n",
    "# 5.Creating a dict. for clean_subcategories, where {clean_subcategories:[number_of_zeros,number_of_ones]}\n",
    "dict_clean_subcategories= generate_dict_feature_class_counts(X_train_combined,'clean_subcategories')\n",
    "print(\"clean_subcategories Dictionary with respective count for [class 0, class 1]:\\n\",dict_clean_subcategories)\n",
    "print(\"*\"*123)"
   ]
  },
  {
   "cell_type": "code",
   "execution_count": 19,
   "metadata": {},
   "outputs": [],
   "source": [
    "def create_response_coded_features(dict_feature,feature):\n",
    "    feature_train = []\n",
    "    for index in X_train.index:\n",
    "        value_0 = dict_feature[X_train.loc[index,feature]][0]/(dict_feature[X_train.loc[index,feature]][0]+dict_feature[X_train.loc[index,feature]][1])\n",
    "        value_1 = dict_feature[X_train.loc[index,feature]][1]/(dict_feature[X_train.loc[index,feature]][0]+dict_feature[X_train.loc[index,feature]][1])\n",
    "        feature_train.append([value_0,value_1])\n",
    "            \n",
    "    feature_test = []\n",
    "    for index in X_test.index:\n",
    "        if(X_test.loc[index,feature] not in dict_feature):\n",
    "                feature_test.append([0.5,0.5])\n",
    "        else:\n",
    "                value_0 = dict_feature[X_test.loc[index,feature]][0]/(dict_feature[X_test.loc[index,feature]][0]+dict_feature[X_test.loc[index,feature]][1])\n",
    "                value_1 = dict_feature[X_test.loc[index,feature]][1]/(dict_feature[X_test.loc[index,feature]][0]+dict_feature[X_test.loc[index,feature]][1])\n",
    "                feature_test.append([value_0,value_1])\n",
    "    return feature_train,feature_test"
   ]
  },
  {
   "cell_type": "markdown",
   "metadata": {},
   "source": [
    "### Getting Categorical and numerical features ready"
   ]
  },
  {
   "cell_type": "code",
   "execution_count": 20,
   "metadata": {},
   "outputs": [],
   "source": [
    "# 1.Replace Value for school_state\n",
    "school_state_train,school_state_test = create_response_coded_features(dict_school_state,'school_state')\n",
    "\n",
    "# 2.Replace Value for teacher_prefix\n",
    "teacher_prefix_train,teacher_prefix_test = create_response_coded_features(dict_teacher_prefix,'teacher_prefix')\n",
    "\n",
    "# 3.Replace Value for project_grade_category\n",
    "project_grade_category_train,project_grade_category_test = create_response_coded_features(dict_project_grade_category,'project_grade_category')\n",
    "\n",
    "# 4.Replace Value for clean_categories\n",
    "clean_categories_train,clean_categories_test = create_response_coded_features(dict_clean_categories,'clean_categories')\n",
    "\n",
    "# 5.Replace Value for clean_subcategories\n",
    "clean_subcategories_train,clean_subcategories_test = create_response_coded_features(dict_clean_subcategories,'clean_subcategories')\n",
    "\n",
    "price_train = scipy.sparse.csr_matrix(X_train['price'].values.reshape(-1,1))\n",
    "price_test = scipy.sparse.csr_matrix(X_test['price'].values.reshape(-1,1))\n",
    "\n",
    "teacher_number_of_previously_posted_projects_train = scipy.sparse.csr_matrix(X_train['teacher_number_of_previously_posted_projects'].values.reshape(-1,1))\n",
    "teacher_number_of_previously_posted_projects_test = scipy.sparse.csr_matrix(X_test['teacher_number_of_previously_posted_projects'].values.reshape(-1,1))"
   ]
  },
  {
   "cell_type": "markdown",
   "metadata": {},
   "source": [
    "### Generating sentiment Features"
   ]
  },
  {
   "cell_type": "code",
   "execution_count": 23,
   "metadata": {},
   "outputs": [],
   "source": [
    "#import the classifier\n",
    "import nltk\n",
    "from nltk.sentiment.vader import SentimentIntensityAnalyzer\n",
    "#Define the classifier\n",
    "sentimentAnalyserClassifier = SentimentIntensityAnalyzer()\n",
    "def Sentiment_Feature_Generator(X_train):\n",
    "    list_of_sentiments = []\n",
    "    for row in tqdm(X_train['essay']):\n",
    "        ss = list(sentimentAnalyserClassifier.polarity_scores(row).values())\n",
    "        list_of_sentiments.append(ss)\n",
    "    return list_of_sentiments"
   ]
  },
  {
   "cell_type": "code",
   "execution_count": 24,
   "metadata": {},
   "outputs": [
    {
     "name": "stderr",
     "output_type": "stream",
     "text": [
      "100%|███████████████████████████████████████████████████████████████████████████| 76473/76473 [02:24<00:00, 528.30it/s]\n",
      "100%|███████████████████████████████████████████████████████████████████████████| 32775/32775 [01:01<00:00, 529.86it/s]\n"
     ]
    }
   ],
   "source": [
    "X_train_sentiments = Sentiment_Feature_Generator(X_train)\n",
    "X_test_sentiments = Sentiment_Feature_Generator(X_test)"
   ]
  },
  {
   "cell_type": "markdown",
   "metadata": {},
   "source": [
    "### Creating X_train and X_test used while modelling"
   ]
  },
  {
   "cell_type": "code",
   "execution_count": 25,
   "metadata": {},
   "outputs": [],
   "source": [
    "X_train_set_1_tdif = hstack((school_state_train,teacher_prefix_train,project_grade_category_train,clean_categories_train,clean_subcategories_train,teacher_number_of_previously_posted_projects_train,price_train,X_train_sentiments,X_train_essay_tfidf,X_train_title_tfidf)).tocsr()\n",
    "X_test_set_1_tdif = hstack((school_state_test,teacher_prefix_test,project_grade_category_test,clean_categories_test,clean_subcategories_test,teacher_number_of_previously_posted_projects_test,price_test,X_test_sentiments,X_test_essay_tfidf,X_test_title_tfidf)).tocsr()\n",
    "\n",
    "X_train_set_2_tdif = hstack((school_state_train,teacher_prefix_train,project_grade_category_train,clean_categories_train,clean_subcategories_train,teacher_number_of_previously_posted_projects_train,price_train,X_train_sentiments,X_train_title_w2v,X_train_essay_w2v)).tocsr()\n",
    "X_test_set_2_tdif = hstack((school_state_test,teacher_prefix_test,project_grade_category_test,clean_categories_test,clean_subcategories_test,teacher_number_of_previously_posted_projects_test,price_test,X_test_sentiments,X_test_title_w2v,X_test_essay_w2v)).tocsr()\n"
   ]
  },
  {
   "cell_type": "code",
   "execution_count": 26,
   "metadata": {},
   "outputs": [
    {
     "name": "stdout",
     "output_type": "stream",
     "text": [
      "(76473, 10016)\n",
      "(32775, 10016)\n",
      "(76473, 616)\n",
      "(32775, 616)\n"
     ]
    }
   ],
   "source": [
    "print(X_train_set_1_tdif.shape)\n",
    "print(X_test_set_1_tdif.shape)\n",
    "print(X_train_set_2_tdif.shape)\n",
    "print(X_test_set_2_tdif.shape)\n"
   ]
  },
  {
   "cell_type": "markdown",
   "metadata": {
    "colab_type": "text",
    "id": "I5wDFj17sc3-"
   },
   "source": [
    "<h2>1.5 Appling Models on different kind of featurization as mentioned in the instructions</h2>"
   ]
  },
  {
   "cell_type": "markdown",
   "metadata": {
    "colab_type": "text",
    "id": "O5tWox1jsc3_"
   },
   "source": [
    "<br>Apply GBDT on different kind of featurization as mentioned in the instructions\n",
    "<br> For Every model that you work on make sure you do the step 2 and step 3 of instrucations"
   ]
  },
  {
   "cell_type": "code",
   "execution_count": 27,
   "metadata": {
    "colab": {},
    "colab_type": "code",
    "id": "ARWulYUwsc4B"
   },
   "outputs": [],
   "source": [
    "# please write all the code with proper documentation, and proper titles for each subsection\n",
    "# go through documentations and blogs before you start coding\n",
    "# first figure out what to do, and then think about how to do.\n",
    "# reading and understanding error messages will be very much helpfull in debugging your code\n",
    "# when you plot any graph make sure you use \n",
    "    # a. Title, that describes your plot, this will be very helpful to the reader\n",
    "    # b. Legends if needed\n",
    "    # c. X-axis label\n",
    "    # d. Y-axis label"
   ]
  },
  {
   "cell_type": "markdown",
   "metadata": {},
   "source": [
    "## 2. Hyperparameter tuning on GBDT Tree"
   ]
  },
  {
   "cell_type": "markdown",
   "metadata": {},
   "source": [
    "### 2.1 Function that takes in X, Y,params and return the results for all the params on train and CV data."
   ]
  },
  {
   "cell_type": "code",
   "execution_count": 38,
   "metadata": {},
   "outputs": [],
   "source": [
    "#decision tree classifier\n",
    "def find_best_GBDT_classifier(X_train,Y_train,params):\n",
    "    classifier = xgb.XGBClassifier()\n",
    "    classifierGridSearch = GridSearchCV(classifier,params,n_jobs=-1,cv =3,scoring = 'roc_auc',return_train_score=True)\n",
    "    result_RS = classifierGridSearch.fit(X_train,Y_train)\n",
    "    result = pd.DataFrame.from_dict(result_RS.cv_results_)\n",
    "    return result,classifierGridSearch.best_params_"
   ]
  },
  {
   "cell_type": "markdown",
   "metadata": {},
   "source": [
    "### 2.2 Function thats in results returned by above function and returns a matrix so that Heat-Map can be generated"
   ]
  },
  {
   "cell_type": "code",
   "execution_count": 39,
   "metadata": {},
   "outputs": [],
   "source": [
    "def matrix_formation_for_parameter_heatMap(cv,row,col):\n",
    "    data_after_cv_train = []\n",
    "    data_after_cv_test = []\n",
    "    index = 0\n",
    "    for row_index in range(0,row):\n",
    "        col_train = []\n",
    "        col_test = []\n",
    "        for col_index in range(0,col):\n",
    "            col_train.append(cv.loc[index,'mean_train_score'])\n",
    "            col_test.append(cv.loc[index,'mean_test_score'])\n",
    "            index +=1\n",
    "        data_after_cv_train.append(col_train)\n",
    "        data_after_cv_test.append(col_test)\n",
    "    return data_after_cv_train,data_after_cv_test"
   ]
  },
  {
   "cell_type": "markdown",
   "metadata": {},
   "source": [
    "### 2.3 Function that generates heap_map: X_axis = min_smaple_split and Y_axis = max_depth"
   ]
  },
  {
   "cell_type": "code",
   "execution_count": 40,
   "metadata": {},
   "outputs": [],
   "source": [
    "def generate_heat_map_depth_sampleSplit(data,title):\n",
    "    sns.heatmap(data = data,annot = True,yticklabels=[0.0001,0.001,0.01,0.1,0.2,0.3],xticklabels=[5,10,50,75,100])\n",
    "    plt.ylabel('max-depth')\n",
    "    plt.xlabel('min_samples_split')\n",
    "    plt.title(title)\n",
    "    plt.plot()"
   ]
  },
  {
   "cell_type": "markdown",
   "metadata": {},
   "source": [
    "### SET 1"
   ]
  },
  {
   "cell_type": "code",
   "execution_count": 41,
   "metadata": {},
   "outputs": [
    {
     "name": "stderr",
     "output_type": "stream",
     "text": [
      "C:\\Users\\91985\\anaconda3\\lib\\site-packages\\xgboost\\sklearn.py:1146: UserWarning: The use of label encoder in XGBClassifier is deprecated and will be removed in a future release. To remove this warning, do the following: 1) Pass option use_label_encoder=False when constructing XGBClassifier object; and 2) Encode your labels (y) as integers starting with 0, i.e. 0, 1, 2, ..., [num_class - 1].\n",
      "  warnings.warn(label_encoder_deprecation_msg, UserWarning)\n"
     ]
    },
    {
     "name": "stdout",
     "output_type": "stream",
     "text": [
      "[14:50:48] WARNING: C:/Users/Administrator/workspace/xgboost-win64_release_1.4.0/src/learner.cc:1095: Starting in XGBoost 1.3.0, the default evaluation metric used with the objective 'binary:logistic' was changed from 'error' to 'logloss'. Explicitly set eval_metric if you'd like to restore the old behavior.\n",
      "Best Found Parameters:\t {'learning_rate': 0.1, 'n_estimators': 100}\n"
     ]
    }
   ],
   "source": [
    "params = {'n_estimators':[5,10,50,75,100],'learning_rate':[0.0001,0.001,0.01,0.1,0.2,0.3]}\n",
    "cv_results_set_1,best_params_set_1 = find_best_GBDT_classifier(X_train_set_1_tdif,Y_train,params)\n",
    "print(\"Best Found Parameters:\\t\",best_params_set_1)"
   ]
  },
  {
   "cell_type": "code",
   "execution_count": 42,
   "metadata": {},
   "outputs": [],
   "source": [
    "cv_set_1 = cv_results_set_1[['params','mean_train_score','mean_test_score']]"
   ]
  },
  {
   "cell_type": "code",
   "execution_count": 43,
   "metadata": {},
   "outputs": [],
   "source": [
    "data_after_cv_train_set_1,data_after_cv_test_set_1=matrix_formation_for_parameter_heatMap(cv_set_1,6,5)"
   ]
  },
  {
   "cell_type": "code",
   "execution_count": 44,
   "metadata": {},
   "outputs": [
    {
     "data": {
      "image/png": "[encoded data removed]",
      "text/plain": [
       "<Figure size 432x288 with 2 Axes>"
      ]
     },
     "metadata": {
      "needs_background": "light"
     },
     "output_type": "display_data"
    }
   ],
   "source": [
    "generate_heat_map_depth_sampleSplit(data_after_cv_train_set_1,'Heat-Map for max-depth vs min_sample_split on Train_data')\n"
   ]
  },
  {
   "cell_type": "code",
   "execution_count": 45,
   "metadata": {},
   "outputs": [
    {
     "data": {
      "image/png": "[encoded data removed]",
      "text/plain": [
       "<Figure size 432x288 with 2 Axes>"
      ]
     },
     "metadata": {
      "needs_background": "light"
     },
     "output_type": "display_data"
    }
   ],
   "source": [
    "generate_heat_map_depth_sampleSplit(data_after_cv_test_set_1,'Heat-Map for max-depth vs min_sample_split on CV_data')"
   ]
  },
  {
   "cell_type": "markdown",
   "metadata": {},
   "source": [
    "### SEt 2"
   ]
  },
  {
   "cell_type": "code",
   "execution_count": 66,
   "metadata": {},
   "outputs": [
    {
     "name": "stderr",
     "output_type": "stream",
     "text": [
      "C:\\Users\\91985\\anaconda3\\lib\\site-packages\\xgboost\\sklearn.py:1146: UserWarning: The use of label encoder in XGBClassifier is deprecated and will be removed in a future release. To remove this warning, do the following: 1) Pass option use_label_encoder=False when constructing XGBClassifier object; and 2) Encode your labels (y) as integers starting with 0, i.e. 0, 1, 2, ..., [num_class - 1].\n",
      "  warnings.warn(label_encoder_deprecation_msg, UserWarning)\n"
     ]
    },
    {
     "name": "stdout",
     "output_type": "stream",
     "text": [
      "[21:17:26] WARNING: C:/Users/Administrator/workspace/xgboost-win64_release_1.4.0/src/learner.cc:1095: Starting in XGBoost 1.3.0, the default evaluation metric used with the objective 'binary:logistic' was changed from 'error' to 'logloss'. Explicitly set eval_metric if you'd like to restore the old behavior.\n",
      "Best Found Parameters:\t {'learning_rate': 0.1, 'n_estimators': 100}\n"
     ]
    }
   ],
   "source": [
    "params = {'n_estimators':[5,10,50,75,100],'learning_rate':[0.0001,0.001,0.01,0.1,0.2,0.3]}\n",
    "cv_results_set_2,best_params_set_2 = find_best_GBDT_classifier(X_train_set_2_tdif,Y_train,params)\n",
    "print(\"Best Found Parameters:\\t\",best_params_set_2)"
   ]
  },
  {
   "cell_type": "code",
   "execution_count": 67,
   "metadata": {},
   "outputs": [],
   "source": [
    "cv_set_2 = cv_results_set_2[['params','mean_train_score','mean_test_score']]"
   ]
  },
  {
   "cell_type": "code",
   "execution_count": 68,
   "metadata": {},
   "outputs": [],
   "source": [
    "data_after_cv_train_set_2,data_after_cv_test_set_2=matrix_formation_for_parameter_heatMap(cv_set_2,6,5)"
   ]
  },
  {
   "cell_type": "code",
   "execution_count": 69,
   "metadata": {},
   "outputs": [
    {
     "data": {
      "image/png": "[encoded data removed]",
      "text/plain": [
       "<Figure size 432x288 with 2 Axes>"
      ]
     },
     "metadata": {
      "needs_background": "light"
     },
     "output_type": "display_data"
    }
   ],
   "source": [
    "generate_heat_map_depth_sampleSplit(data_after_cv_train_set_2,'Heat-Map for max-depth vs min_sample_split on Train_data')"
   ]
  },
  {
   "cell_type": "code",
   "execution_count": 70,
   "metadata": {},
   "outputs": [
    {
     "data": {
      "image/png": "[encoded data removed]",
      "text/plain": [
       "<Figure size 432x288 with 2 Axes>"
      ]
     },
     "metadata": {
      "needs_background": "light"
     },
     "output_type": "display_data"
    }
   ],
   "source": [
    "generate_heat_map_depth_sampleSplit(data_after_cv_test_set_2,'Heat-Map for max-depth vs min_sample_split on CV_data')"
   ]
  },
  {
   "cell_type": "markdown",
   "metadata": {},
   "source": [
    "## 3. Applying decision tree algo. with the best found parameters from above"
   ]
  },
  {
   "cell_type": "markdown",
   "metadata": {},
   "source": [
    "### 3.1 Decision Tree function that generates AUC-ROC plot and return the predicted values and well as feature importance"
   ]
  },
  {
   "cell_type": "code",
   "execution_count": 56,
   "metadata": {},
   "outputs": [],
   "source": [
    "#this function return The predicted Y_test values\n",
    "def GBDT(X_train,Y_train,X_test,Y_test,learningRate,estimators):\n",
    "    classifier = xgb.XGBClassifier(learning_rate=learningRate,n_estimators= estimators)\n",
    "    classifier.fit(X_train,Y_train)\n",
    "    \n",
    "    Y_Train_Pred = classifier.predict_proba(X_train)[:,1]\n",
    "    Y_Test_Pred = classifier.predict_proba(X_test)[:,1]\n",
    "\n",
    "    Train_FPR, Train_TPR, Tr_Thresholds = roc_curve(Y_train, Y_Train_Pred)\n",
    "    Test_FPR, Test_TPR, Te_Thresholds = roc_curve(Y_test, Y_Test_Pred)\n",
    "    #code used from sample sol. of naive bayes\n",
    "    plt.plot(Train_FPR, Train_TPR, label=\"Train AUC =\"+str(auc(Train_FPR, Train_TPR)))\n",
    "    plt.plot(Test_FPR, Test_TPR, label=\"Test AUC =\"+str(auc(Test_FPR, Test_TPR)))\n",
    "    plt.legend()\n",
    "    plt.xlabel(\"FPR\")\n",
    "    plt.ylabel(\"TPR\")\n",
    "    plt.title(\"ROC-AUC PLOTS Train-Test Data\")\n",
    "    plt.grid()\n",
    "    plt.show()\n",
    "    return classifier.predict(X_test),classifier.feature_importances_"
   ]
  },
  {
   "cell_type": "markdown",
   "metadata": {},
   "source": [
    "### 3.2 Function that takes in confusion matrix and return a Heat-Map"
   ]
  },
  {
   "cell_type": "code",
   "execution_count": 57,
   "metadata": {},
   "outputs": [],
   "source": [
    "def HeatMapForConfusionMatrix(Test_CM):\n",
    "    plt.title('Testing Confusion Matrix')\n",
    "    sns.heatmap(Test_CM, annot=True,fmt=\"d\",cmap='Blues',xticklabels = ['No','Yes'],yticklabels=['No','Yes'])\n",
    "    plt.ylabel('actual labels');\n",
    "    plt.xlabel('predicted labels');\n",
    "    plt.show();"
   ]
  },
  {
   "cell_type": "code",
   "execution_count": 58,
   "metadata": {},
   "outputs": [
    {
     "name": "stderr",
     "output_type": "stream",
     "text": [
      "C:\\Users\\91985\\anaconda3\\lib\\site-packages\\xgboost\\sklearn.py:1146: UserWarning: The use of label encoder in XGBClassifier is deprecated and will be removed in a future release. To remove this warning, do the following: 1) Pass option use_label_encoder=False when constructing XGBClassifier object; and 2) Encode your labels (y) as integers starting with 0, i.e. 0, 1, 2, ..., [num_class - 1].\n",
      "  warnings.warn(label_encoder_deprecation_msg, UserWarning)\n"
     ]
    },
    {
     "name": "stdout",
     "output_type": "stream",
     "text": [
      "[18:30:38] WARNING: C:/Users/Administrator/workspace/xgboost-win64_release_1.4.0/src/learner.cc:1095: Starting in XGBoost 1.3.0, the default evaluation metric used with the objective 'binary:logistic' was changed from 'error' to 'logloss'. Explicitly set eval_metric if you'd like to restore the old behavior.\n"
     ]
    },
    {
     "data": {
      "image/png": "[encoded data removed]",
      "text/plain": [
       "<Figure size 432x288 with 1 Axes>"
      ]
     },
     "metadata": {
      "needs_background": "light"
     },
     "output_type": "display_data"
    }
   ],
   "source": [
    "Y_Test_hat_Set_1,feature_importance_set_1 = GBDT(X_train_set_1_tdif,Y_train,X_test_set_1_tdif,Y_test,best_params_set_1['learning_rate'],best_params_set_1['n_estimators'])"
   ]
  },
  {
   "cell_type": "code",
   "execution_count": 59,
   "metadata": {},
   "outputs": [
    {
     "data": {
      "image/png": "[encoded data removed]",
      "text/plain": [
       "<Figure size 432x288 with 2 Axes>"
      ]
     },
     "metadata": {
      "needs_background": "light"
     },
     "output_type": "display_data"
    }
   ],
   "source": [
    "Test_CM_Set_1 = confusion_matrix(Y_test, Y_Test_hat_Set_1)\n",
    "HeatMapForConfusionMatrix(Test_CM_Set_1)"
   ]
  },
  {
   "cell_type": "code",
   "execution_count": 64,
   "metadata": {},
   "outputs": [
    {
     "name": "stderr",
     "output_type": "stream",
     "text": [
      "C:\\Users\\91985\\anaconda3\\lib\\site-packages\\xgboost\\sklearn.py:1146: UserWarning: The use of label encoder in XGBClassifier is deprecated and will be removed in a future release. To remove this warning, do the following: 1) Pass option use_label_encoder=False when constructing XGBClassifier object; and 2) Encode your labels (y) as integers starting with 0, i.e. 0, 1, 2, ..., [num_class - 1].\n",
      "  warnings.warn(label_encoder_deprecation_msg, UserWarning)\n"
     ]
    },
    {
     "name": "stdout",
     "output_type": "stream",
     "text": [
      "[18:47:44] WARNING: C:/Users/Administrator/workspace/xgboost-win64_release_1.4.0/src/learner.cc:1095: Starting in XGBoost 1.3.0, the default evaluation metric used with the objective 'binary:logistic' was changed from 'error' to 'logloss'. Explicitly set eval_metric if you'd like to restore the old behavior.\n"
     ]
    },
    {
     "data": {
      "image/png": "[encoded data removed]",
      "text/plain": [
       "<Figure size 432x288 with 1 Axes>"
      ]
     },
     "metadata": {
      "needs_background": "light"
     },
     "output_type": "display_data"
    }
   ],
   "source": [
    "Y_Test_hat_Set_2,feature_importance_set_2 = GBDT(X_train_set_2_tdif,Y_train,X_test_set_2_tdif,Y_test,0.1,100)"
   ]
  },
  {
   "cell_type": "code",
   "execution_count": 65,
   "metadata": {},
   "outputs": [
    {
     "data": {
      "image/png": "[encoded data removed]",
      "text/plain": [
       "<Figure size 432x288 with 2 Axes>"
      ]
     },
     "metadata": {
      "needs_background": "light"
     },
     "output_type": "display_data"
    }
   ],
   "source": [
    "Test_CM_Set_2 = confusion_matrix(Y_test, Y_Test_hat_Set_2)\n",
    "HeatMapForConfusionMatrix(Test_CM_Set_2)"
   ]
  },
  {
   "cell_type": "markdown",
   "metadata": {
    "colab_type": "text",
    "id": "YhFN-lDWsc4G"
   },
   "source": [
    "<h1>3. Summary</h1>\n",
    "\n",
    "<br> as mentioned in the step 4 of instructions"
   ]
  },
  {
   "cell_type": "code",
   "execution_count": 62,
   "metadata": {},
   "outputs": [
    {
     "data": {
      "text/html": [
       "<div>\n",
       "<style scoped>\n",
       "    .dataframe tbody tr th:only-of-type {\n",
       "        vertical-align: middle;\n",
       "    }\n",
       "\n",
       "    .dataframe tbody tr th {\n",
       "        vertical-align: top;\n",
       "    }\n",
       "\n",
       "    .dataframe thead th {\n",
       "        text-align: right;\n",
       "    }\n",
       "</style>\n",
       "<table border=\"1\" class=\"dataframe\">\n",
       "  <thead>\n",
       "    <tr style=\"text-align: right;\">\n",
       "      <th></th>\n",
       "      <th>Vectorizer</th>\n",
       "      <th>Model</th>\n",
       "      <th>n_estimators</th>\n",
       "      <th>learning_rate</th>\n",
       "      <th>auc</th>\n",
       "    </tr>\n",
       "  </thead>\n",
       "  <tbody>\n",
       "    <tr>\n",
       "      <th>0</th>\n",
       "      <td>Tfidf</td>\n",
       "      <td>XGBoost</td>\n",
       "      <td>100</td>\n",
       "      <td>0.10</td>\n",
       "      <td>0.72</td>\n",
       "    </tr>\n",
       "    <tr>\n",
       "      <th>1</th>\n",
       "      <td>Tfidf-w2v</td>\n",
       "      <td>XGBoost</td>\n",
       "      <td>100</td>\n",
       "      <td>0.01</td>\n",
       "      <td>0.68</td>\n",
       "    </tr>\n",
       "  </tbody>\n",
       "</table>\n",
       "</div>"
      ],
      "text/plain": [
       "  Vectorizer    Model  n_estimators  learning_rate   auc\n",
       "0      Tfidf  XGBoost           100           0.10  0.72\n",
       "1  Tfidf-w2v  XGBoost           100           0.01  0.68"
      ]
     },
     "execution_count": 62,
     "metadata": {},
     "output_type": "execute_result"
    }
   ],
   "source": [
    "summary = pd.DataFrame({'Vectorizer':['Tfidf','Tfidf-w2v'],'Model':['XGBoost','XGBoost'],'n_estimators':[100,100],'learning_rate':[0.1,0.01],'auc':[0.72,0.68]})\n",
    "summary"
   ]
  },
  {
   "cell_type": "code",
   "execution_count": null,
   "metadata": {},
   "outputs": [],
   "source": []
  }
 ],
 "metadata": {
  "colab": {
   "collapsed_sections": [],
   "name": "11_Assignment_GBDT_Instructions.ipynb",
   "provenance": [],
   "version": "0.3.2"
  },
  "kernelspec": {
   "display_name": "Python 3",
   "language": "python",
   "name": "python3"
  },
  "language_info": {
   "codemirror_mode": {
    "name": "ipython",
    "version": 3
   },
   "file_extension": ".py",
   "mimetype": "text/x-python",
   "name": "python",
   "nbconvert_exporter": "python",
   "pygments_lexer": "ipython3",
   "version": "3.8.5"
  }
 },
 "nbformat": 4,
 "nbformat_minor": 1
}
