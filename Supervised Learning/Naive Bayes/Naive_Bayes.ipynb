{
 "cells": [
  {
   "cell_type": "markdown",
   "metadata": {
    "id": "Dnubs-Nnb3cw"
   },
   "source": [
    "# Assignment 6: Apply NB"
   ]
  },
  {
   "cell_type": "markdown",
   "metadata": {
    "id": "RW0zYHb5m_wI"
   },
   "source": [
    "<ol>\n",
    "    <li>Minimum data points need to be considered for people having 4GB RAM is <strong>50k</strong> and for 8GB RAM is <strong>100k</strong></li>\n",
    "    <li>When you are using ramdomsearchcv or gridsearchcv you need not split the data into X_train,X_cv,X_test. As the above methods use kfold. The model will learn better if train data is more so splitting to X_train,X_test will suffice.</li>\n",
    "    <li>If you are writing for loops to tune your model then you need split the data into X_train,X_cv,X_test.</li>\n",
    "    <li>While splitting the data explore stratify parameter. </li>\n",
    "    <li><strong>Apply Multinomial NB on these feature sets</strong></li>\n",
    "        <ul>\n",
    "            <li>Features that need to be considered</li> \n",
    "                <dl>\n",
    "                  <dt>essay</dt>\n",
    "                    <dd>while encoding essay, try to experiment with the max_features and n_grams parameter of vectorizers and see if it increases AUC score.</dd>\n",
    "                  <dt>categorical features</dt>\n",
    "                  <dd> - teacher_prefix</dd>\n",
    "                  <dd> - project_grade_category</dd>\n",
    "                  <dd> - school_state</dd>\n",
    "                  <dd> - clean_categories</dd>\n",
    "                  <dd> - clean_subcategories</dd>\n",
    "                  <dt>numerical features</dt>\n",
    "                  <dd> - price</dd>\n",
    "                  <dd> - teacher_number_of_previously_posted_projects</dd>\n",
    "                  <dd>while encoding the numerical features check <a href='https://imgur.com/ldZA1zg'>this</a> and <a href='https://ac-classroom-production.s3.amazonaws.com/public/COMMENT/Annotation_2020-05-21_225912_0lyZzN8.jpg'>this</a></dd>\n",
    "                </dl>    \n",
    "            <li><font color='red'>Set 1</font>: categorical, numerical features + preprocessed_eassay (BOW)</li>\n",
    "            <li><font color='red'>Set 2</font>: categorical, numerical features + preprocessed_eassay (TFIDF)</li>\n",
    "        </ul>\n",
    "    <li><strong>The hyper paramter tuning(find best alpha:smoothing parameter)</strong>\n",
    "        <ul>\n",
    "    <li>Consider alpha values in range: 10^-5 to 10^2 like [0.00001,0.0005, 0.0001,0.005,0.001,0.05,0.01,0.1,0.5,1,5,10,50,100]</li>\n",
    "    <li>Explore class_prior = [0.5, 0.5] parameter which can be present in MultinomialNB function(go through <a href='https://scikit-learn.org/stable/modules/generated/sklearn.naive_bayes.MultinomialNB.html'>this</a> ) then check how results might change.\n",
    "    <li>Find the best hyper parameter which will give the maximum <a href='https://www.appliedaicourse.com/course/applied-ai-course-online/lessons/receiver-operating-characteristic-curve-roc-curve-and-auc-1/'>AUC</a> value</li>\n",
    "    <li>For hyper parameter tuning using k-fold cross validation(use GridsearchCV or RandomsearchCV)/simple cross validation data (write for loop to iterate over hyper parameter values)</li>\n",
    "    <li>You need to plot the performance of model both on train data and cross validation data for each hyper parameter, like shown in the figure\n",
    "    <img src='https://i.imgur.com/hUv6aEy.jpg' width=300px><dd>-while plotting take log(alpha) on your X-axis so that it will be more readable</dd></li>\n",
    "    <li>Once after you found the best hyper parameter, you need to train your model with it, and find the AUC on test data and plot the ROC curve on both train and test.\n",
    "    <img src='https://imgur.com/q2P65L5.jpg' width=300px></li>\n",
    "    <li>Along with plotting ROC curve, you need to print the <a href='https://www.appliedaicourse.com/course/applied-ai-course-online/lessons/confusion-matrix-tpr-fpr-fnr-tnr-1/'>confusion matrix</a> with predicted and original labels of test data points\n",
    "        <img src='https://i.imgur.com/IdN5Ctv.png' width=300px><dd>-plot the confusion matrix in heatmaps, while plotting the confusion matrix go through the <a href='https://stackoverflow.com/questions/61748441/how-to-fix-the-values-displayed-in-a-confusion-matrix-in-exponential-form-to-nor'>link </a>\n",
    "</dd></li>\n",
    "        </ul>\n",
    "<li>find the top 20 features from either from feature <font color='red'>Set 1</font> or feature <font color='red'>Set 2</font> using values of `feature_log_prob_ ` parameter of `MultinomialNB` \n",
    "(https://scikit-learn.org/stable/modules/generated/sklearn.naive_bayes.MultinomialNB.html) and print <strong>BOTH</strong> positive as well as negative corresponding feature names. <dd> - go through the <a href='https://imgur.com/mWvE7gj'>link </a> </dd>\n",
    "    </li>\n",
    "    <li>You need to summarize the results at the end of the notebook, summarize it in the table format\n",
    "        <img src='http://i.imgur.com/YVpIGGE.jpg' width=400px>\n",
    "    </li>\n",
    "</ol>"
   ]
  },
  {
   "cell_type": "code",
   "execution_count": 287,
   "metadata": {
    "id": "chpSjDaXm9KG"
   },
   "outputs": [],
   "source": [
    "import pandas as pd\n",
    "import numpy as np\n",
    "import nltk\n",
    "import matplotlib.pyplot as plt\n",
    "import seaborn as sns\n",
    "from sklearn.feature_extraction.text import TfidfVectorizer\n",
    "from sklearn.feature_extraction.text import CountVectorizer\n",
    "from sklearn.metrics import confusion_matrix\n",
    "from sklearn import metrics\n",
    "from sklearn.metrics import roc_curve, auc\n",
    "from sklearn.model_selection import train_test_split\n",
    "from sklearn.model_selection import RandomizedSearchCV\n",
    "from sklearn.preprocessing import Normalizer\n",
    "from scipy.sparse import hstack\n",
    "from sklearn.naive_bayes import MultinomialNB\n"
   ]
  },
  {
   "cell_type": "markdown",
   "metadata": {
    "id": "inzYCIaib3c3"
   },
   "source": [
    "<h1>2. Naive Bayes </h1>"
   ]
  },
  {
   "cell_type": "markdown",
   "metadata": {
    "id": "FYqCIxzFb3c5"
   },
   "source": [
    "## 1.1 Loading Data"
   ]
  },
  {
   "cell_type": "code",
   "execution_count": 288,
   "metadata": {
    "id": "dA1jknyqb3c_"
   },
   "outputs": [
    {
     "data": {
      "text/html": [
       "<div>\n",
       "<style scoped>\n",
       "    .dataframe tbody tr th:only-of-type {\n",
       "        vertical-align: middle;\n",
       "    }\n",
       "\n",
       "    .dataframe tbody tr th {\n",
       "        vertical-align: top;\n",
       "    }\n",
       "\n",
       "    .dataframe thead th {\n",
       "        text-align: right;\n",
       "    }\n",
       "</style>\n",
       "<table border=\"1\" class=\"dataframe\">\n",
       "  <thead>\n",
       "    <tr style=\"text-align: right;\">\n",
       "      <th></th>\n",
       "      <th>school_state</th>\n",
       "      <th>teacher_prefix</th>\n",
       "      <th>project_grade_category</th>\n",
       "      <th>teacher_number_of_previously_posted_projects</th>\n",
       "      <th>project_is_approved</th>\n",
       "      <th>clean_categories</th>\n",
       "      <th>clean_subcategories</th>\n",
       "      <th>essay</th>\n",
       "      <th>price</th>\n",
       "    </tr>\n",
       "  </thead>\n",
       "  <tbody>\n",
       "    <tr>\n",
       "      <th>0</th>\n",
       "      <td>ca</td>\n",
       "      <td>mrs</td>\n",
       "      <td>grades_prek_2</td>\n",
       "      <td>53</td>\n",
       "      <td>1</td>\n",
       "      <td>math_science</td>\n",
       "      <td>appliedsciences health_lifescience</td>\n",
       "      <td>i fortunate enough use fairy tale stem kits cl...</td>\n",
       "      <td>725.05</td>\n",
       "    </tr>\n",
       "    <tr>\n",
       "      <th>1</th>\n",
       "      <td>ut</td>\n",
       "      <td>ms</td>\n",
       "      <td>grades_3_5</td>\n",
       "      <td>4</td>\n",
       "      <td>1</td>\n",
       "      <td>specialneeds</td>\n",
       "      <td>specialneeds</td>\n",
       "      <td>imagine 8 9 years old you third grade classroo...</td>\n",
       "      <td>213.03</td>\n",
       "    </tr>\n",
       "    <tr>\n",
       "      <th>2</th>\n",
       "      <td>ca</td>\n",
       "      <td>mrs</td>\n",
       "      <td>grades_prek_2</td>\n",
       "      <td>10</td>\n",
       "      <td>1</td>\n",
       "      <td>literacy_language</td>\n",
       "      <td>literacy</td>\n",
       "      <td>having class 24 students comes diverse learner...</td>\n",
       "      <td>329.00</td>\n",
       "    </tr>\n",
       "    <tr>\n",
       "      <th>3</th>\n",
       "      <td>ga</td>\n",
       "      <td>mrs</td>\n",
       "      <td>grades_prek_2</td>\n",
       "      <td>2</td>\n",
       "      <td>1</td>\n",
       "      <td>appliedlearning</td>\n",
       "      <td>earlydevelopment</td>\n",
       "      <td>i recently read article giving students choice...</td>\n",
       "      <td>481.04</td>\n",
       "    </tr>\n",
       "    <tr>\n",
       "      <th>4</th>\n",
       "      <td>wa</td>\n",
       "      <td>mrs</td>\n",
       "      <td>grades_3_5</td>\n",
       "      <td>2</td>\n",
       "      <td>1</td>\n",
       "      <td>literacy_language</td>\n",
       "      <td>literacy</td>\n",
       "      <td>my students crave challenge eat obstacles brea...</td>\n",
       "      <td>17.74</td>\n",
       "    </tr>\n",
       "  </tbody>\n",
       "</table>\n",
       "</div>"
      ],
      "text/plain": [
       "  school_state teacher_prefix project_grade_category  \\\n",
       "0           ca            mrs          grades_prek_2   \n",
       "1           ut             ms             grades_3_5   \n",
       "2           ca            mrs          grades_prek_2   \n",
       "3           ga            mrs          grades_prek_2   \n",
       "4           wa            mrs             grades_3_5   \n",
       "\n",
       "   teacher_number_of_previously_posted_projects  project_is_approved  \\\n",
       "0                                            53                    1   \n",
       "1                                             4                    1   \n",
       "2                                            10                    1   \n",
       "3                                             2                    1   \n",
       "4                                             2                    1   \n",
       "\n",
       "    clean_categories                 clean_subcategories  \\\n",
       "0       math_science  appliedsciences health_lifescience   \n",
       "1       specialneeds                        specialneeds   \n",
       "2  literacy_language                            literacy   \n",
       "3    appliedlearning                    earlydevelopment   \n",
       "4  literacy_language                            literacy   \n",
       "\n",
       "                                               essay   price  \n",
       "0  i fortunate enough use fairy tale stem kits cl...  725.05  \n",
       "1  imagine 8 9 years old you third grade classroo...  213.03  \n",
       "2  having class 24 students comes diverse learner...  329.00  \n",
       "3  i recently read article giving students choice...  481.04  \n",
       "4  my students crave challenge eat obstacles brea...   17.74  "
      ]
     },
     "execution_count": 288,
     "metadata": {},
     "output_type": "execute_result"
    }
   ],
   "source": [
    "data = pd.read_csv('preprocessed_data.csv',nrows = 100000)\n",
    "data.head(5)"
   ]
  },
  {
   "cell_type": "markdown",
   "metadata": {
    "id": "WtVV13Fyb3dH"
   },
   "source": [
    "<h2>1.2 Splitting data into Train and cross validation(or test): Stratified Sampling</h2>"
   ]
  },
  {
   "cell_type": "code",
   "execution_count": 358,
   "metadata": {},
   "outputs": [
    {
     "data": {
      "text/html": [
       "<div>\n",
       "<style scoped>\n",
       "    .dataframe tbody tr th:only-of-type {\n",
       "        vertical-align: middle;\n",
       "    }\n",
       "\n",
       "    .dataframe tbody tr th {\n",
       "        vertical-align: top;\n",
       "    }\n",
       "\n",
       "    .dataframe thead th {\n",
       "        text-align: right;\n",
       "    }\n",
       "</style>\n",
       "<table border=\"1\" class=\"dataframe\">\n",
       "  <thead>\n",
       "    <tr style=\"text-align: right;\">\n",
       "      <th></th>\n",
       "      <th>school_state</th>\n",
       "      <th>teacher_prefix</th>\n",
       "      <th>project_grade_category</th>\n",
       "      <th>teacher_number_of_previously_posted_projects</th>\n",
       "      <th>clean_categories</th>\n",
       "      <th>clean_subcategories</th>\n",
       "      <th>essay</th>\n",
       "      <th>price</th>\n",
       "    </tr>\n",
       "  </thead>\n",
       "  <tbody>\n",
       "    <tr>\n",
       "      <th>0</th>\n",
       "      <td>ca</td>\n",
       "      <td>mrs</td>\n",
       "      <td>grades_prek_2</td>\n",
       "      <td>53</td>\n",
       "      <td>math_science</td>\n",
       "      <td>appliedsciences health_lifescience</td>\n",
       "      <td>i fortunate enough use fairy tale stem kits cl...</td>\n",
       "      <td>725.05</td>\n",
       "    </tr>\n",
       "  </tbody>\n",
       "</table>\n",
       "</div>"
      ],
      "text/plain": [
       "  school_state teacher_prefix project_grade_category  \\\n",
       "0           ca            mrs          grades_prek_2   \n",
       "\n",
       "   teacher_number_of_previously_posted_projects clean_categories  \\\n",
       "0                                            53     math_science   \n",
       "\n",
       "                  clean_subcategories  \\\n",
       "0  appliedsciences health_lifescience   \n",
       "\n",
       "                                               essay   price  \n",
       "0  i fortunate enough use fairy tale stem kits cl...  725.05  "
      ]
     },
     "execution_count": 358,
     "metadata": {},
     "output_type": "execute_result"
    }
   ],
   "source": [
    "#split features and class labels\n",
    "Y = data['project_is_approved'].values\n",
    "X = data.drop(['project_is_approved'],axis = 1)\n",
    "X.head(1)"
   ]
  },
  {
   "cell_type": "code",
   "execution_count": 359,
   "metadata": {
    "id": "i-PyprDNb3dI"
   },
   "outputs": [
    {
     "name": "stdout",
     "output_type": "stream",
     "text": [
      "(70000, 8) (70000,)\n",
      "(30000, 8) (30000,)\n"
     ]
    }
   ],
   "source": [
    "# please write all the code with proper documentation, and proper titles for each subsection\n",
    "# go through documentations and blogs before you start coding\n",
    "# first figure out what to do, and then think about how to do.\n",
    "# reading and understanding error messages will be very much helpfull in debugging your code\n",
    "# when you plot any graph make sure you use \n",
    "    # a. Title, that describes your plot, this will be very helpful to the reader\n",
    "    # b. Legends if needed\n",
    "    # c. X-axis label\n",
    "    # d. Y-axis label\n",
    "#Splitting data into train and test\n",
    "X_Train,X_Test,Y_Train,Y_Test = train_test_split(X,Y,test_size = .30,stratify = Y)\n",
    "print(X_Train.shape,Y_Train.shape)\n",
    "print(X_Test.shape,Y_Test.shape)"
   ]
  },
  {
   "cell_type": "markdown",
   "metadata": {
    "id": "EnZwVNULb3dO"
   },
   "source": [
    "<h2>1.3 Make Data Model Ready: encoding eassay, and project_title</h2>"
   ]
  },
  {
   "cell_type": "markdown",
   "metadata": {},
   "source": [
    "### 1.3.1 Enconding essay using BoW"
   ]
  },
  {
   "cell_type": "code",
   "execution_count": 360,
   "metadata": {
    "id": "-SczZKiab3dR"
   },
   "outputs": [
    {
     "name": "stdout",
     "output_type": "stream",
     "text": [
      "(70000, 50000)\n",
      "(30000, 50000)\n"
     ]
    }
   ],
   "source": [
    "# please write all the code with proper documentation, and proper titles for each subsection\n",
    "# go through documentations and blogs before you start coding\n",
    "# first figure out what to do, and then think about how to do.\n",
    "# reading and understanding error messages will be very much helpfull in debugging your code\n",
    "# make sure you featurize train and test data separatly\n",
    "\n",
    "# when you plot any graph make sure you use \n",
    "    # a. Title, that describes your plot, this will be very helpful to the reader\n",
    "    # b. Legends if needed\n",
    "    # c. X-axis label\n",
    "    # d. Y-axis label\n",
    "    \n",
    "#Encoding essay data using BoW\n",
    "vectorizer = CountVectorizer(min_df=10,ngram_range=(1,4),max_features = 50000)\n",
    "vectorizer.fit(X_Train['essay'].values)\n",
    "X_Train_Essay_BoW = vectorizer.transform(X_Train['essay'].values)\n",
    "X_Test_Essay_BoW = vectorizer.transform(X_Test['essay'].values)\n",
    "print(X_Train_Essay_BoW.shape)\n",
    "print(X_Test_Essay_BoW.shape)\n",
    "\n"
   ]
  },
  {
   "cell_type": "markdown",
   "metadata": {
    "id": "bGy86kgHb3dX"
   },
   "source": [
    "<h2>1.4 Make Data Model Ready: encoding numerical, categorical features</h2>"
   ]
  },
  {
   "cell_type": "code",
   "execution_count": 361,
   "metadata": {
    "id": "EfXkofX1b3da"
   },
   "outputs": [
    {
     "name": "stdout",
     "output_type": "stream",
     "text": [
      "Features extracted from school state are: ['ak', 'al', 'ar', 'az', 'ca', 'co', 'ct', 'dc', 'de', 'fl', 'ga', 'hi', 'ia', 'id', 'il', 'in', 'ks', 'ky', 'la', 'ma', 'md', 'me', 'mi', 'mn', 'mo', 'ms', 'mt', 'nc', 'nd', 'ne', 'nh', 'nj', 'nm', 'nv', 'ny', 'oh', 'ok', 'or', 'pa', 'ri', 'sc', 'sd', 'tn', 'tx', 'ut', 'va', 'vt', 'wa', 'wi', 'wv', 'wy']\n",
      "1st row from X_Train_School_State   (0, 40)\t1\n",
      "1st row from X_Test_School_State   (0, 3)\t1\n",
      "===============================================================================================================================\n",
      "Features extracted from teacher prefix are: ['dr', 'mr', 'mrs', 'ms', 'teacher']\n",
      "1st row from X_Train_Teacher_Prefix   (0, 2)\t1\n",
      "1st row from X_Test_Teacher_Prefix   (0, 3)\t1\n",
      "===============================================================================================================================\n",
      "Features extracted from project_grade_category are: ['grades_3_5', 'grades_6_8', 'grades_9_12', 'grades_prek_2']\n",
      "1st row from X_Train_Project_Grade_Category   (0, 3)\t1\n",
      "1st row from X_Test_Project_Grade_Category   (0, 2)\t1\n",
      "===============================================================================================================================\n",
      "Features extracted from clean_categories are: ['appliedlearning', 'care_hunger', 'health_sports', 'history_civics', 'literacy_language', 'math_science', 'music_arts', 'specialneeds', 'warmth']\n",
      "1st row from X_Train_Clean_Categories   (0, 4)\t1\n",
      "  (0, 5)\t1\n",
      "1st row from X_Test_Clean_Categories   (0, 4)\t1\n",
      "===============================================================================================================================\n",
      "Features extracted from clean_subcategories are: ['appliedsciences', 'care_hunger', 'charactereducation', 'civics_government', 'college_careerprep', 'communityservice', 'earlydevelopment', 'economics', 'environmentalscience', 'esl', 'extracurricular', 'financialliteracy', 'foreignlanguages', 'gym_fitness', 'health_lifescience', 'health_wellness', 'history_geography', 'literacy', 'literature_writing', 'mathematics', 'music', 'nutritioneducation', 'other', 'parentinvolvement', 'performingarts', 'socialsciences', 'specialneeds', 'teamsports', 'visualarts', 'warmth']\n",
      "1st row from X_Train_Clean_Subcategories   (0, 17)\t1\n",
      "  (0, 19)\t1\n",
      "1st row from X_Test_Clean_Subcategories   (0, 18)\t1\n",
      "===============================================================================================================================\n"
     ]
    }
   ],
   "source": [
    "# please write all the code with proper documentation, and proper titles for each subsection\n",
    "# go through documentations and blogs before you start coding \n",
    "# first figure out what to do, and then think about how to do.\n",
    "# reading and understanding error messages will be very much helpfull in debugging your code\n",
    "# make sure you featurize train and test data separatly\n",
    "\n",
    "# when you plot any graph make sure you use \n",
    "    # a. Title, that describes your plot, this will be very helpful to the reader\n",
    "    # b. Legends if needed\n",
    "    # c. X-axis label\n",
    "    # d. Y-axis label\n",
    "    \n",
    "#vectorize the Categorical features\n",
    "#1. school_state\n",
    "vectorizer_school_state = CountVectorizer();\n",
    "vectorizer_school_state.fit(X_Train['school_state']);\n",
    "print('Features extracted from school state are:',vectorizer_school_state.get_feature_names());\n",
    "X_Train_School_State = vectorizer_school_state.transform(X_Train['school_state']);\n",
    "X_Test_School_State = vectorizer_school_state.transform(X_Test['school_state']);\n",
    "print('1st row from X_Train_School_State',X_Train_School_State[0]);\n",
    "print('1st row from X_Test_School_State',X_Test_School_State[0]);\n",
    "\n",
    "print('='*127)\n",
    "#2. teacher_prefix\n",
    "\n",
    "vectorizer_teacher_prefix = CountVectorizer();\n",
    "vectorizer_teacher_prefix.fit(X_Train['teacher_prefix'])\n",
    "print('Features extracted from teacher prefix are:',vectorizer_teacher_prefix.get_feature_names());\n",
    "X_Train_Teacher_Prefix = vectorizer_teacher_prefix.transform(X_Train['teacher_prefix'])\n",
    "X_Test_Teacher_Prefix = vectorizer_teacher_prefix.transform(X_Test['teacher_prefix'])\n",
    "print('1st row from X_Train_Teacher_Prefix',X_Train_Teacher_Prefix[0]);\n",
    "print('1st row from X_Test_Teacher_Prefix',X_Test_Teacher_Prefix[0]);\n",
    "\n",
    "print('='*127)\n",
    "#3.project_grade_category\n",
    "\n",
    "vectorizer_project_grade_category = CountVectorizer();\n",
    "vectorizer_project_grade_category.fit(X_Train['project_grade_category']);\n",
    "X_Train_Project_Grade_Category = vectorizer_project_grade_category.transform(X_Train['project_grade_category']);\n",
    "X_Test_Project_Grade_Category = vectorizer_project_grade_category.transform(X_Test['project_grade_category']);\n",
    "print('Features extracted from project_grade_category are:',vectorizer_project_grade_category.get_feature_names());\n",
    "print('1st row from X_Train_Project_Grade_Category',X_Train_Project_Grade_Category[0]);\n",
    "print('1st row from X_Test_Project_Grade_Category',X_Test_Project_Grade_Category[0]);\n",
    "\n",
    "print(\"=\"*127);\n",
    "\n",
    "#4.clean_categories\n",
    "vectorizer_clean_categories = CountVectorizer();\n",
    "vectorizer_clean_categories.fit(X_Train['clean_categories']);\n",
    "X_Train_Clean_Categories = vectorizer_clean_categories.transform(X_Train['clean_categories']);\n",
    "X_Test_Clean_Categories = vectorizer_clean_categories.transform(X_Test['clean_categories']);\n",
    "print('Features extracted from clean_categories are:',vectorizer_clean_categories.get_feature_names());\n",
    "print('1st row from X_Train_Clean_Categories',X_Train_Clean_Categories[0]);\n",
    "print('1st row from X_Test_Clean_Categories',X_Test_Clean_Categories[0]);\n",
    "\n",
    "print(\"=\"*127);\n",
    "\n",
    "#5.clean_subcategories\n",
    "\n",
    "vectorizer_clean_subcategories = CountVectorizer();\n",
    "vectorizer_clean_subcategories.fit(X_Train['clean_subcategories']);\n",
    "X_Train_Clean_Subcategories = vectorizer_clean_subcategories.transform(X_Train['clean_subcategories']);\n",
    "X_Test_Clean_Subcategories = vectorizer_clean_subcategories.transform(X_Test['clean_subcategories']);\n",
    "print('Features extracted from clean_subcategories are:',vectorizer_clean_subcategories.get_feature_names());\n",
    "print('1st row from X_Train_Clean_Subcategories',X_Train_Clean_Subcategories[0]);\n",
    "print('1st row from X_Test_Clean_Subcategories',X_Test_Clean_Subcategories[0]);\n",
    "print(\"=\"*127);"
   ]
  },
  {
   "cell_type": "markdown",
   "metadata": {},
   "source": [
    "### Normalizing Numerical features"
   ]
  },
  {
   "cell_type": "code",
   "execution_count": 362,
   "metadata": {},
   "outputs": [
    {
     "name": "stdout",
     "output_type": "stream",
     "text": [
      "(70000, 1)\n",
      "(30000, 1)\n",
      "(70000, 1)\n",
      "(30000, 1)\n"
     ]
    }
   ],
   "source": [
    "#Numerical Features\n",
    "#- price\n",
    "#- teacher_number_of_previously_posted_projects\n",
    "\n",
    "#1. price (normalize the feature)\n",
    "normalize_price = Normalizer()\n",
    "X_Train_Price = normalize_price.transform(X_Train['price'].values.reshape(1,-1)) \n",
    "X_Test_Price = normalize_price.transform(X_Test['price'].values.reshape(1,-1))\n",
    "X_Train_Price = X_Train_Price.reshape(-1,1)\n",
    "X_Test_Price = X_Test_Price.reshape(-1,1)\n",
    "print(X_Train_Price.shape)\n",
    "print(X_Test_Price.shape)\n",
    "\n",
    "#2.teacher_number_of_previously_posted_projects\n",
    "normalize_teacher_number_of_previously_posted_projects = Normalizer()\n",
    "X_Train_TNOPPP = normalize_price.transform(X_Train['teacher_number_of_previously_posted_projects'].values.reshape(1,-1)) \n",
    "X_Test_TNOPPP = normalize_price.transform(X_Test['teacher_number_of_previously_posted_projects'].values.reshape(1,-1)) \n",
    "X_Train_TNOPPP = X_Train_TNOPPP.reshape(-1,1)\n",
    "X_Test_TNOPPP = X_Test_TNOPPP.reshape(-1,1)\n",
    "print(X_Train_TNOPPP.shape)\n",
    "print(X_Test_TNOPPP.shape)\n",
    "\n"
   ]
  },
  {
   "cell_type": "markdown",
   "metadata": {},
   "source": [
    "### Stacking all the features together to apply the model"
   ]
  },
  {
   "cell_type": "code",
   "execution_count": 363,
   "metadata": {},
   "outputs": [],
   "source": [
    "#Stacking all the features column wise\n",
    "X_Tr = hstack((X_Train_Essay_BoW ,X_Train_School_State,X_Train_Teacher_Prefix,X_Train_Project_Grade_Category,X_Train_Clean_Categories,X_Train_Clean_Subcategories,X_Train_Price,X_Train_TNOPPP)).tocsr()\n",
    "X_Te =  hstack((X_Test_Essay_BoW ,X_Test_School_State,X_Test_Teacher_Prefix,X_Test_Project_Grade_Category,X_Test_Clean_Categories,X_Test_Clean_Subcategories,X_Test_Price,X_Test_TNOPPP)).tocsr()"
   ]
  },
  {
   "cell_type": "markdown",
   "metadata": {
    "id": "yYHPYadYb3dh"
   },
   "source": [
    "<h2>1.5 Appling NB on different kind of featurization as mentioned in the instructions</h2>\n",
    "\n",
    "<br>Apply NB on different kind of featurization as mentioned in the instructions\n",
    "<br> For Every model that you work on make sure you do the step 2 and step 3 of instrucations"
   ]
  },
  {
   "cell_type": "markdown",
   "metadata": {},
   "source": [
    "### Function to take  train data and using RandomSearchCV find the best hyperparameter and return it"
   ]
  },
  {
   "cell_type": "code",
   "execution_count": 364,
   "metadata": {},
   "outputs": [],
   "source": [
    "#Applying MultinomialClassification with RandomSearch CV\n",
    "def multinomialNB_RandonSearchCV(X_Tr,Y_Train):\n",
    "    Classifier =  MultinomialNB(class_prior = [0.5, 0.5])\n",
    "    Distributions = dict(alpha = [0.00001,0.0005, 0.0001,0.005,0.001,0.05,0.01,0.1,0.5,1,5,10,50,100])\n",
    "    Classification_RS = RandomizedSearchCV(Classifier, Distributions, cv = 9,scoring = 'roc_auc',n_jobs =-1,n_iter=14,return_train_score = True)\n",
    "    Result_RS = Classification_RS.fit(X_Tr, Y_Train)\n",
    "    Result = pd.DataFrame.from_dict(Result_RS. )\n",
    "    print(Result[['param_alpha','mean_train_score','mean_test_score']])\n",
    "    Alpha = np.log(df['param_alpha'].astype('float64'))\n",
    "    Train_auc = df['mean_train_score']\n",
    "    CV_auc = df['mean_test_score']\n",
    "\n",
    "    plt.plot(Alpha, Train_auc, label='Train AUC')\n",
    "    # this code is copied from here: https://stackoverflow.com/a/48803361/4084039\n",
    "    # plt.gca().fill_between(K, train_auc - train_auc_std,train_auc + train_auc_std,alpha=0.2,color='darkblue')\n",
    "\n",
    "    plt.plot(Alpha, CV_auc, label='CV AUC')\n",
    "    # this code is copied from here: https://stackoverflow.com/a/48803361/4084039\n",
    "    # plt.gca().fill_between(K, cv_auc - cv_auc_std,cv_auc + cv_auc_std,alpha=0.2,color='darkorange')\n",
    "\n",
    "    plt.scatter(Alpha, Train_auc, label='Train AUC points')\n",
    "    plt.scatter(Alpha, CV_auc, label='CV AUC points')\n",
    "\n",
    "\n",
    "    plt.legend()\n",
    "    plt.xlabel(\"alpha: hyperparameter\")\n",
    "    plt.ylabel(\"AUC\")\n",
    "    plt.title(\"Hyper parameter Vs AUC plot(Train-CV Data)\")\n",
    "    plt.grid()\n",
    "    plt.show()\n",
    "    print(\"Best alpha:\" , search.best_params_['alpha'])\n",
    "    return search.best_params_['alpha']"
   ]
  },
  {
   "cell_type": "markdown",
   "metadata": {},
   "source": [
    "### Function to take Train And Test data and using the best hypermeter,return the Y_Pred values for both train and test data and plot the auc graph"
   ]
  },
  {
   "cell_type": "code",
   "execution_count": 365,
   "metadata": {},
   "outputs": [],
   "source": [
    "#Applying multinomialNM on testing data with the best hyperparameter\n",
    "def multinomialNB_TestingData(X_Tr,Y_Train,X_Te,Y_Test,BestParameter):\n",
    "    Classifier =  MultinomialNB(alpha= BestParameter,class_prior = [0.5, 0.5])\n",
    "    Classifier.fit(X_Tr,Y_Train);\n",
    "\n",
    "    Y_Train_Pred = Classifier.predict_proba(X_Tr)[:,1]\n",
    "    Y_Test_Pred = Classifier.predict_proba(X_Te)[:,1]\n",
    "\n",
    "    Train_FPR, Train_TPR, Tr_Thresholds = roc_curve(Y_Train, Y_Train_Pred)\n",
    "    Test_FPR, Test_TPR, Te_Thresholds = roc_curve(Y_Test, Y_Test_Pred)\n",
    "    #code used from sample sol.\n",
    "    plt.plot(Train_FPR, Train_TPR, label=\"Train AUC =\"+str(auc(Train_FPR, Train_TPR)))\n",
    "    plt.plot(Test_FPR, Test_TPR, label=\"Test AUC =\"+str(auc(Test_FPR, Test_TPR)))\n",
    "    plt.legend()\n",
    "    plt.xlabel(\"alpha: hyperparameter\")\n",
    "    plt.ylabel(\"AUC\")\n",
    "    plt.title(\"ROC-AUC PLOTS Train-Test Data\")\n",
    "    plt.grid()\n",
    "    plt.show()\n",
    "    return Train_FPR, Train_TPR, Tr_Thresholds,Test_FPR, Test_TPR, Te_Thresholds,Y_Train_Pred,Y_Test_Pred,Classifier.feature_log_prob_"
   ]
  },
  {
   "cell_type": "markdown",
   "metadata": {},
   "source": [
    "### Function that finds the best threshold and return the class values based on the threshold"
   ]
  },
  {
   "cell_type": "code",
   "execution_count": 366,
   "metadata": {},
   "outputs": [],
   "source": [
    "#code used from samp le sol.\n",
    "def find_best_threshold(threshold, fpr, tpr):\n",
    "    t = threshold[np.argmax(tpr*(1-fpr))]\n",
    "    # (tpr*(1-fpr)) will be maximum if your fpr is very low and tpr is very high\n",
    "    print(\"the maximum value of tpr*(1-fpr)\", max(tpr*(1-fpr)), \"for threshold\", np.round(t,3))\n",
    "    return t\n",
    "\n",
    "def predict_with_best_t(proba, threshold):\n",
    "    predictions = []\n",
    "    for i in proba:\n",
    "        if i>=threshold:\n",
    "            predictions.append(1)\n",
    "        else:\n",
    "            predictions.append(0)\n",
    "    return predictions"
   ]
  },
  {
   "cell_type": "markdown",
   "metadata": {},
   "source": [
    "### Function that take in a Confusion Matrix and Prints it as a HeatMap"
   ]
  },
  {
   "cell_type": "code",
   "execution_count": 367,
   "metadata": {},
   "outputs": [],
   "source": [
    "#code from: https://stackoverflow.com/questions/61748441/how-to-fix-the-values-displayed-in-a-confusion-matrix-in-exponential-form-to-nor\n",
    "def HeatMapForConfusionMatrix(Train_CM,Test_CM):\n",
    "    fig, (ax,ax2) = plt.subplots(2)\n",
    "    fig.subplots_adjust(hspace=1)\n",
    "    ax.set_title('Training Confusion Matrix')\n",
    "    ax2.set_title('Testing Confusion Matrix')\n",
    "    sns.heatmap(Train_CM, annot=True,fmt=\"d\",cmap='Blues',ax = ax,xticklabels = ['No','Yes'],yticklabels=['No','Yes'])\n",
    "    ax.set_ylabel('actual labels');\n",
    "    ax.set_xlabel('predicted labels'); \n",
    "    sns.heatmap(Test_CM, annot=True,fmt=\"d\",cmap='Blues',ax = ax2,xticklabels = ['No','Yes'],yticklabels=['No','Yes'])\n",
    "    ax2.set_ylabel('actual labels');\n",
    "    ax2.set_xlabel('predicted labels');\n",
    "    plt.show()"
   ]
  },
  {
   "cell_type": "markdown",
   "metadata": {},
   "source": [
    "## 1.5.1.Applying all operations on Set 1"
   ]
  },
  {
   "cell_type": "code",
   "execution_count": 369,
   "metadata": {},
   "outputs": [
    {
     "name": "stdout",
     "output_type": "stream",
     "text": [
      "   param_alpha  mean_train_score  mean_test_score\n",
      "0        1e-05          0.824932         0.696655\n",
      "1       0.0005          0.823918         0.698038\n",
      "2       0.0001          0.824389         0.697488\n",
      "3        0.005          0.823059         0.698747\n",
      "4        0.001          0.823687         0.698253\n",
      "5         0.05          0.821675         0.699241\n",
      "6         0.01          0.822731         0.698919\n",
      "7          0.1          0.820949         0.699289\n",
      "8          0.5          0.817315         0.699027\n",
      "9            1          0.813852         0.698547\n",
      "10           5          0.795086         0.694455\n",
      "11          10          0.778127         0.689460\n",
      "12          50          0.513268         0.508413\n",
      "13         100          0.500545         0.500497\n"
     ]
    },
    {
     "data": {
      "image/png": "[encoded data removed]",
      "text/plain": [
       "<Figure size 432x288 with 1 Axes>"
      ]
     },
     "metadata": {
      "needs_background": "light"
     },
     "output_type": "display_data"
    },
    {
     "name": "stdout",
     "output_type": "stream",
     "text": [
      "Best alpha: 0.5\n"
     ]
    }
   ],
   "source": [
    "#For Set 1\n",
    "#Find the Hyperparameter using RandomSearchCv\n",
    "BestParameter = multinomialNB_RandonSearchCV(X_Tr,Y_Train)"
   ]
  },
  {
   "cell_type": "code",
   "execution_count": 370,
   "metadata": {},
   "outputs": [
    {
     "data": {
      "image/png": "[encoded data removed]",
      "text/plain": [
       "<Figure size 432x288 with 1 Axes>"
      ]
     },
     "metadata": {
      "needs_background": "light"
     },
     "output_type": "display_data"
    }
   ],
   "source": [
    "#Test the Model and get predicted probabiltites\n",
    "Train_FPR, Train_TPR, Tr_Thresholds,Test_FPR, Test_TPR, Te_Thresholds,Y_Train_Pred,Y_Test_Pred,Feature_Log_Proba = multinomialNB_TestingData(X_Tr,Y_Train,X_Te,Y_Test,BestParameter)"
   ]
  },
  {
   "cell_type": "code",
   "execution_count": 371,
   "metadata": {},
   "outputs": [
    {
     "name": "stdout",
     "output_type": "stream",
     "text": [
      "the maximum value of tpr*(1-fpr) 0.5443850233497763 for threshold 0.584\n"
     ]
    }
   ],
   "source": [
    "#Get the best threshold\n",
    "best_t = find_best_threshold(Tr_Thresholds, Train_FPR, Train_TPR)"
   ]
  },
  {
   "cell_type": "code",
   "execution_count": 372,
   "metadata": {},
   "outputs": [
    {
     "data": {
      "image/png": "[encoded data removed]",
      "text/plain": [
       "<Figure size 432x288 with 4 Axes>"
      ]
     },
     "metadata": {
      "needs_background": "light"
     },
     "output_type": "display_data"
    }
   ],
   "source": [
    "#Find Confusion Matrix and Display them\n",
    "Train_CM = confusion_matrix(Y_Train, predict_with_best_t(Y_Train_Pred, best_t))\n",
    "Test_CM = confusion_matrix(Y_Test, predict_with_best_t(Y_Test_Pred, best_t))\n",
    "HeatMapForConfusionMatrix(Train_CM,Test_CM)"
   ]
  },
  {
   "cell_type": "markdown",
   "metadata": {},
   "source": [
    "### Getting Dataset Ready for Set 2(Tf-IDF on essay column)"
   ]
  },
  {
   "cell_type": "code",
   "execution_count": 373,
   "metadata": {},
   "outputs": [
    {
     "name": "stdout",
     "output_type": "stream",
     "text": [
      "(70000, 50000)\n",
      "(30000, 50000)\n"
     ]
    }
   ],
   "source": [
    "#Set 2\n",
    "vectorizer = TfidfVectorizer(min_df=10,ngram_range=(1,4),max_features = 50000)\n",
    "vectorizer.fit(X_Train['essay'].values)\n",
    "X_Train_Essay_BoW = vectorizer.transform(X_Train['essay'].values)\n",
    "X_Test_Essay_BoW = vectorizer.transform(X_Test['essay'].values)\n",
    "print(X_Train_Essay_BoW.shape)\n",
    "print(X_Test_Essay_BoW.shape)\n",
    "\n",
    "#create dataframe to b processed for set 2\n",
    "#Stacking all the features column wise\n",
    "X_Tr = hstack((X_Train_Essay_BoW ,X_Train_School_State,X_Train_Teacher_Prefix,X_Train_Project_Grade_Category,X_Train_Clean_Categories,X_Train_Clean_Subcategories,X_Train_Price,X_Train_TNOPPP)).tocsr()\n",
    "X_Te =  hstack((X_Test_Essay_BoW ,X_Test_School_State,X_Test_Teacher_Prefix,X_Test_Project_Grade_Category,X_Test_Clean_Categories,X_Test_Clean_Subcategories,X_Test_Price,X_Test_TNOPPP)).tocsr()\n",
    "\n",
    "\n"
   ]
  },
  {
   "cell_type": "markdown",
   "metadata": {},
   "source": [
    "## 1.5.2 Apply all Operations Set 2"
   ]
  },
  {
   "cell_type": "code",
   "execution_count": 374,
   "metadata": {},
   "outputs": [
    {
     "name": "stdout",
     "output_type": "stream",
     "text": [
      "   param_alpha  mean_train_score  mean_test_score\n",
      "0        1e-05          0.828226         0.685525\n",
      "1       0.0005          0.826890         0.687011\n",
      "2       0.0001          0.827537         0.686440\n",
      "3        0.005          0.825366         0.687576\n",
      "4        0.001          0.826541         0.687223\n",
      "5         0.05          0.820107         0.687042\n",
      "6         0.01          0.824523         0.687627\n",
      "7          0.1          0.815723         0.685979\n",
      "8          0.5          0.788668         0.675881\n",
      "9            1          0.761565         0.663109\n",
      "10           5          0.648402         0.603625\n",
      "11          10          0.604535         0.579261\n",
      "12          50          0.556687         0.549657\n",
      "13         100          0.546300         0.541967\n"
     ]
    },
    {
     "data": {
      "image/png": "[encoded data removed]",
      "text/plain": [
       "<Figure size 432x288 with 1 Axes>"
      ]
     },
     "metadata": {
      "needs_background": "light"
     },
     "output_type": "display_data"
    },
    {
     "name": "stdout",
     "output_type": "stream",
     "text": [
      "Best alpha: 0.5\n"
     ]
    }
   ],
   "source": [
    "#Find the Hyperparameter using RandomSearchCv\n",
    "BestParameter = multinomialNB_RandonSearchCV(X_Tr,Y_Train)"
   ]
  },
  {
   "cell_type": "code",
   "execution_count": 375,
   "metadata": {},
   "outputs": [
    {
     "data": {
      "image/png": "[encoded data removed]",
      "text/plain": [
       "<Figure size 432x288 with 1 Axes>"
      ]
     },
     "metadata": {
      "needs_background": "light"
     },
     "output_type": "display_data"
    }
   ],
   "source": [
    "#Test the Model and get predicted probabiltites\n",
    "Train_FPR, Train_TPR, Tr_Thresholds,Test_FPR, Test_TPR, Te_Thresholds,Y_Train_Pred,Y_Test_Pred,Feature_Log_Proba = multinomialNB_TestingData(X_Tr,Y_Train,X_Te,Y_Test,BestParameter)"
   ]
  },
  {
   "cell_type": "code",
   "execution_count": 376,
   "metadata": {},
   "outputs": [
    {
     "name": "stdout",
     "output_type": "stream",
     "text": [
      "the maximum value of tpr*(1-fpr) 0.5066012360181593 for threshold 0.553\n"
     ]
    }
   ],
   "source": [
    "#Get the best threshold\n",
    "best_t = find_best_threshold(Tr_Thresholds, Train_FPR, Train_TPR)"
   ]
  },
  {
   "cell_type": "code",
   "execution_count": 377,
   "metadata": {},
   "outputs": [
    {
     "data": {
      "image/png": "[encoded data removed]",
      "text/plain": [
       "<Figure size 432x288 with 4 Axes>"
      ]
     },
     "metadata": {
      "needs_background": "light"
     },
     "output_type": "display_data"
    }
   ],
   "source": [
    "#Find Confusion Matrix and Display them\n",
    "Train_CM = confusion_matrix(Y_Train, predict_with_best_t(Y_Train_Pred, best_t))\n",
    "Test_CM = confusion_matrix(Y_Test, predict_with_best_t(Y_Test_Pred, best_t))\n",
    "HeatMapForConfusionMatrix(Train_CM,Test_CM)"
   ]
  },
  {
   "cell_type": "markdown",
   "metadata": {},
   "source": [
    "## 1.5.3 Finding Top 20 features For both class"
   ]
  },
  {
   "cell_type": "code",
   "execution_count": 378,
   "metadata": {},
   "outputs": [
    {
     "name": "stdout",
     "output_type": "stream",
     "text": [
      "Top 20 Features for positive class:\n",
      "mrs\n",
      "literacy_language\n",
      "grades_prek_2\n",
      "math_science\n",
      "ms\n",
      "grades_3_5\n",
      "literacy\n",
      "mathematics\n",
      "literature_writing\n",
      "grades_6_8\n",
      "ca\n",
      "health_sports\n",
      "specialneeds\n",
      "specialneeds\n",
      "appliedlearning\n",
      "health_wellness\n",
      "grades_9_12\n",
      "appliedsciences\n",
      "mr\n",
      "music_arts\n",
      "===============================================================================================================================\n",
      "Top 20 Features for negative class:\n",
      "mrs\n",
      "literacy_language\n",
      "grades_prek_2\n",
      "math_science\n",
      "ms\n",
      "grades_3_5\n",
      "literacy\n",
      "mathematics\n",
      "literature_writing\n",
      "grades_6_8\n",
      "specialneeds\n",
      "specialneeds\n",
      "ca\n",
      "health_sports\n",
      "appliedlearning\n",
      "appliedsciences\n",
      "grades_9_12\n",
      "mr\n",
      "music_arts\n",
      "health_wellness\n"
     ]
    }
   ],
   "source": [
    "#Get top 20 features from set 2\n",
    "negativeClass = Feature_Log_Proba[0]\n",
    "positiveClass = Feature_Log_Proba[1]\n",
    "indexes_for_negative_class_descending = np.argsort(negativeClass)[::-1]\n",
    "indexes_for_positive_class_descending = np.argsort(positiveClass)[::-1]\n",
    "\n",
    "#make list of features\n",
    "list_of_features = []\n",
    "list_of_features.extend(vectorizer.get_feature_names())\n",
    "list_of_features.extend(vectorizer_school_state.get_feature_names())\n",
    "list_of_features.extend(vectorizer_teacher_prefix.get_feature_names())\n",
    "list_of_features.extend(vectorizer_project_grade_category.get_feature_names())\n",
    "list_of_features.extend(vectorizer_clean_categories.get_feature_names())\n",
    "list_of_features.extend(vectorizer_clean_subcategories.get_feature_names())\n",
    "list_of_features.append('Price')\n",
    "list_of_features.append('teacher_number_of_previously_posted_projects')\n",
    "print('Top 20 Features for positive class:')\n",
    "for index in indexes_for_positive_class_descending[0:20]:\n",
    "    print(list_of_features[index])\n",
    "print('='*127)\n",
    "print('Top 20 Features for negative class:')\n",
    "for index in indexes_for_negative_class_descending[0:20]:\n",
    "    print(list_of_features[index])"
   ]
  },
  {
   "cell_type": "markdown",
   "metadata": {
    "id": "lS9hIHdib3dp"
   },
   "source": [
    "<h1>3. Summary</h1>\n",
    "\n",
    "<br> as mentioned in the step 5 of instructions"
   ]
  },
  {
   "cell_type": "code",
   "execution_count": 379,
   "metadata": {},
   "outputs": [
    {
     "data": {
      "text/html": [
       "<div>\n",
       "<style scoped>\n",
       "    .dataframe tbody tr th:only-of-type {\n",
       "        vertical-align: middle;\n",
       "    }\n",
       "\n",
       "    .dataframe tbody tr th {\n",
       "        vertical-align: top;\n",
       "    }\n",
       "\n",
       "    .dataframe thead th {\n",
       "        text-align: right;\n",
       "    }\n",
       "</style>\n",
       "<table border=\"1\" class=\"dataframe\">\n",
       "  <thead>\n",
       "    <tr style=\"text-align: right;\">\n",
       "      <th></th>\n",
       "      <th>Vectorizer</th>\n",
       "      <th>Model</th>\n",
       "      <th>HyperParameter</th>\n",
       "      <th>auc</th>\n",
       "    </tr>\n",
       "  </thead>\n",
       "  <tbody>\n",
       "    <tr>\n",
       "      <th>0</th>\n",
       "      <td>B0W</td>\n",
       "      <td>Multinomial Naive Bayes</td>\n",
       "      <td>0.5</td>\n",
       "      <td>0.69</td>\n",
       "    </tr>\n",
       "    <tr>\n",
       "      <th>1</th>\n",
       "      <td>Tfidf</td>\n",
       "      <td>Multinomial Naive Bayes</td>\n",
       "      <td>0.5</td>\n",
       "      <td>0.67</td>\n",
       "    </tr>\n",
       "  </tbody>\n",
       "</table>\n",
       "</div>"
      ],
      "text/plain": [
       "  Vectorizer                    Model  HyperParameter   auc\n",
       "0        B0W  Multinomial Naive Bayes             0.5  0.69\n",
       "1      Tfidf  Multinomial Naive Bayes             0.5  0.67"
      ]
     },
     "execution_count": 379,
     "metadata": {},
     "output_type": "execute_result"
    }
   ],
   "source": [
    "summary = pd.DataFrame({'Vectorizer':['B0W','Tfidf'],'Model':['Multinomial Naive Bayes','Multinomial Naive Bayes'],'HyperParameter':[0.5,0.5],'auc':[0.69,0.67]})\n",
    "summary"
   ]
  }
 ],
 "metadata": {
  "colab": {
   "collapsed_sections": [],
   "name": "6_Assignment_NB_Instructions.ipynb",
   "provenance": []
  },
  "kernelspec": {
   "display_name": "Python 3",
   "language": "python",
   "name": "python3"
  },
  "language_info": {
   "codemirror_mode": {
    "name": "ipython",
    "version": 3
   },
   "file_extension": ".py",
   "mimetype": "text/x-python",
   "name": "python",
   "nbconvert_exporter": "python",
   "pygments_lexer": "ipython3",
   "version": "3.8.5"
  }
 },
 "nbformat": 4,
 "nbformat_minor": 1
}
